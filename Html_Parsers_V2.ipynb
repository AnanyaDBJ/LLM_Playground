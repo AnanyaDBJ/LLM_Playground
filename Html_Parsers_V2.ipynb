{
 "cells": [
  {
   "cell_type": "markdown",
   "metadata": {
    "application/vnd.databricks.v1+cell": {
     "cellMetadata": {},
     "inputWidgets": {},
     "nuid": "6eda137d-3084-4350-a2c4-691e00c60461",
     "showTitle": false,
     "title": ""
    }
   },
   "source": [
    "## Evaluate latest files (for Personal only)"
   ]
  },
  {
   "cell_type": "code",
   "execution_count": 0,
   "metadata": {
    "application/vnd.databricks.v1+cell": {
     "cellMetadata": {
      "byteLimit": 2048000,
      "rowLimit": 10000
     },
     "inputWidgets": {},
     "nuid": "e30d7c3c-77e1-4d26-bcbd-c1df15a6290d",
     "showTitle": false,
     "title": ""
    }
   },
   "outputs": [
    {
     "output_type": "execute_result",
     "data": {
      "text/plain": [
       "[FileInfo(path='dbfs:/nab_demo/input_files_v2/extracted/nabrwd/en/personal/FormNPS.html', name='FormNPS.html', size=240976, modificationTime=1690184441000),\n",
       " FileInfo(path='dbfs:/nab_demo/input_files_v2/extracted/nabrwd/en/personal/_jcr_content/', name='_jcr_content/', size=0, modificationTime=1690190100424),\n",
       " FileInfo(path='dbfs:/nab_demo/input_files_v2/extracted/nabrwd/en/personal/accounts/', name='accounts/', size=0, modificationTime=1690190100424),\n",
       " FileInfo(path='dbfs:/nab_demo/input_files_v2/extracted/nabrwd/en/personal/accounts.html', name='accounts.html', size=424230, modificationTime=1690184643000),\n",
       " FileInfo(path='dbfs:/nab_demo/input_files_v2/extracted/nabrwd/en/personal/buy-now-pay-later/', name='buy-now-pay-later/', size=0, modificationTime=1690190100424),\n",
       " FileInfo(path='dbfs:/nab_demo/input_files_v2/extracted/nabrwd/en/personal/buy-now-pay-later.html', name='buy-now-pay-later.html', size=426426, modificationTime=1690184442000),\n",
       " FileInfo(path='dbfs:/nab_demo/input_files_v2/extracted/nabrwd/en/personal/calculators-and-financial-tools.html', name='calculators-and-financial-tools.html', size=387434, modificationTime=1690184643000),\n",
       " FileInfo(path='dbfs:/nab_demo/input_files_v2/extracted/nabrwd/en/personal/credit-cards/', name='credit-cards/', size=0, modificationTime=1690190100424),\n",
       " FileInfo(path='dbfs:/nab_demo/input_files_v2/extracted/nabrwd/en/personal/credit-cards.html', name='credit-cards.html', size=615695, modificationTime=1690184367000),\n",
       " FileInfo(path='dbfs:/nab_demo/input_files_v2/extracted/nabrwd/en/personal/home-loans/', name='home-loans/', size=0, modificationTime=1690190100424),\n",
       " FileInfo(path='dbfs:/nab_demo/input_files_v2/extracted/nabrwd/en/personal/home-loans.html', name='home-loans.html', size=436654, modificationTime=1690184643000),\n",
       " FileInfo(path='dbfs:/nab_demo/input_files_v2/extracted/nabrwd/en/personal/insurance/', name='insurance/', size=0, modificationTime=1690190100424),\n",
       " FileInfo(path='dbfs:/nab_demo/input_files_v2/extracted/nabrwd/en/personal/insurance.html', name='insurance.html', size=431097, modificationTime=1690184368000),\n",
       " FileInfo(path='dbfs:/nab_demo/input_files_v2/extracted/nabrwd/en/personal/interest-rates-fees-and-charges/', name='interest-rates-fees-and-charges/', size=0, modificationTime=1690190100424),\n",
       " FileInfo(path='dbfs:/nab_demo/input_files_v2/extracted/nabrwd/en/personal/interest-rates-fees-and-charges.html', name='interest-rates-fees-and-charges.html', size=388572, modificationTime=1690184458000),\n",
       " FileInfo(path='dbfs:/nab_demo/input_files_v2/extracted/nabrwd/en/personal/international-banking/', name='international-banking/', size=0, modificationTime=1690190100424),\n",
       " FileInfo(path='dbfs:/nab_demo/input_files_v2/extracted/nabrwd/en/personal/international-banking.html', name='international-banking.html', size=403228, modificationTime=1690184368000),\n",
       " FileInfo(path='dbfs:/nab_demo/input_files_v2/extracted/nabrwd/en/personal/jcr:content/', name='jcr:content/', size=0, modificationTime=1690190100424),\n",
       " FileInfo(path='dbfs:/nab_demo/input_files_v2/extracted/nabrwd/en/personal/life-moments/', name='life-moments/', size=0, modificationTime=1690190100424),\n",
       " FileInfo(path='dbfs:/nab_demo/input_files_v2/extracted/nabrwd/en/personal/life-moments.html', name='life-moments.html', size=406605, modificationTime=1690184618000),\n",
       " FileInfo(path='dbfs:/nab_demo/input_files_v2/extracted/nabrwd/en/personal/mobile-onboarding-offers.html', name='mobile-onboarding-offers.html', size=177635, modificationTime=1690184618000),\n",
       " FileInfo(path='dbfs:/nab_demo/input_files_v2/extracted/nabrwd/en/personal/online-banking/', name='online-banking/', size=0, modificationTime=1690190100424),\n",
       " FileInfo(path='dbfs:/nab_demo/input_files_v2/extracted/nabrwd/en/personal/online-banking.html', name='online-banking.html', size=422399, modificationTime=1690184327000),\n",
       " FileInfo(path='dbfs:/nab_demo/input_files_v2/extracted/nabrwd/en/personal/personal-loans/', name='personal-loans/', size=0, modificationTime=1690190100424),\n",
       " FileInfo(path='dbfs:/nab_demo/input_files_v2/extracted/nabrwd/en/personal/personal-loans.html', name='personal-loans.html', size=461452, modificationTime=1690184442000),\n",
       " FileInfo(path='dbfs:/nab_demo/input_files_v2/extracted/nabrwd/en/personal/private-wealth/', name='private-wealth/', size=0, modificationTime=1690190100424),\n",
       " FileInfo(path='dbfs:/nab_demo/input_files_v2/extracted/nabrwd/en/personal/private-wealth.html', name='private-wealth.html', size=422389, modificationTime=1690184328000),\n",
       " FileInfo(path='dbfs:/nab_demo/input_files_v2/extracted/nabrwd/en/personal/super-and-investments/', name='super-and-investments/', size=0, modificationTime=1690190100424),\n",
       " FileInfo(path='dbfs:/nab_demo/input_files_v2/extracted/nabrwd/en/personal/super-and-investments.html', name='super-and-investments.html', size=407094, modificationTime=1690184442000),\n",
       " FileInfo(path='dbfs:/nab_demo/input_files_v2/extracted/nabrwd/en/personal/youth-banking/', name='youth-banking/', size=0, modificationTime=1690190100424),\n",
       " FileInfo(path='dbfs:/nab_demo/input_files_v2/extracted/nabrwd/en/personal/youth-banking.html', name='youth-banking.html', size=404061, modificationTime=1690184659000)]"
      ]
     },
     "execution_count": 160,
     "metadata": {},
     "output_type": "execute_result"
    }
   ],
   "source": [
    "dbutils.fs.ls('dbfs:/nab_demo/input_files_v2/extracted/nabrwd/en/personal')"
   ]
  },
  {
   "cell_type": "code",
   "execution_count": 0,
   "metadata": {
    "application/vnd.databricks.v1+cell": {
     "cellMetadata": {
      "byteLimit": 2048000,
      "rowLimit": 10000
     },
     "inputWidgets": {},
     "nuid": "22331123-932d-426d-b4f1-ec9943f2d678",
     "showTitle": false,
     "title": ""
    }
   },
   "outputs": [],
   "source": [
    "#Copy the latest set of files received from NAB to local folder for processing \n",
    "#We are only focusing on (Personal) and later we can expand it with other files\n",
    "\n",
    "%cp '/dbfs/nab_demo/input_files_v2/extracted/nabrwd/en/personal' personal_v2 --recursive"
   ]
  },
  {
   "cell_type": "markdown",
   "metadata": {
    "application/vnd.databricks.v1+cell": {
     "cellMetadata": {},
     "inputWidgets": {},
     "nuid": "d9116356-4330-4ad1-aa86-580cd6db38e5",
     "showTitle": false,
     "title": ""
    }
   },
   "source": [
    "## HTML Parsing for NAB Files"
   ]
  },
  {
   "cell_type": "code",
   "execution_count": 0,
   "metadata": {
    "application/vnd.databricks.v1+cell": {
     "cellMetadata": {
      "byteLimit": 2048000,
      "rowLimit": 10000
     },
     "inputWidgets": {},
     "nuid": "e62b2d7a-f9b1-4e6f-9097-1d358774eea4",
     "showTitle": false,
     "title": ""
    }
   },
   "outputs": [
    {
     "output_type": "stream",
     "name": "stdout",
     "output_type": "stream",
     "text": [
      " \u001B[0m\u001B[01;32mHtml_Parsers\u001B[0m*   \u001B[01;32mREADME.md\u001B[0m*              \u001B[01;32mWeb_Crawl_Nab_Au_V02\u001B[0m*\r\n\u001B[34;42m'Local Dev'\u001B[0m/     \u001B[01;32mWeb_Crawl_Nab_Au_V01\u001B[0m*   \u001B[34;42mpersonal\u001B[0m/\r\n"
     ]
    }
   ],
   "source": [
    "%ls"
   ]
  },
  {
   "cell_type": "markdown",
   "metadata": {
    "application/vnd.databricks.v1+cell": {
     "cellMetadata": {},
     "inputWidgets": {},
     "nuid": "f0a7c286-85c2-4434-bfa5-4eaa3be35d50",
     "showTitle": false,
     "title": ""
    }
   },
   "source": [
    "## Evaluate input filepath and hierarchy\n",
    "\n",
    "This is just a temporary script to evaluate how each files are presented"
   ]
  },
  {
   "cell_type": "code",
   "execution_count": 0,
   "metadata": {
    "application/vnd.databricks.v1+cell": {
     "cellMetadata": {
      "byteLimit": 2048000,
      "rowLimit": 10000
     },
     "inputWidgets": {},
     "nuid": "38ddc7e0-1f54-498e-bd5d-c29c38c95f92",
     "showTitle": false,
     "title": ""
    }
   },
   "outputs": [
    {
     "output_type": "stream",
     "name": "stdout",
     "output_type": "stream",
     "text": [
      "personal_v2/parsed-v2-FormNPS.html\npersonal_v2/parsed-v2-accounts.html\npersonal_v2/parsed-v2-buy-now-pay-later.html\npersonal_v2/parsed-v2-calculators-and-financial-tools.html\npersonal_v2/parsed-v2-credit-cards.html\npersonal_v2/parsed-v2-home-loans.html\npersonal_v2/parsed-v2-insurance.html\npersonal_v2/parsed-v2-interest-rates-fees-and-charges.html\npersonal_v2/parsed-v2-international-banking.html\npersonal_v2/parsed-v2-life-moments.html\npersonal_v2/parsed-v2-mobile-onboarding-offers.html\npersonal_v2/parsed-v2-online-banking.html\npersonal_v2/parsed-v2-personal-loans.html\npersonal_v2/parsed-v2-private-wealth.html\npersonal_v2/parsed-v2-super-and-investments.html\npersonal_v2/parsed-v2-youth-banking.html\npersonal_v2/_jcr_content/root/banner/image.coreimg.90.2500.jpeg/1689739621490/parsed-v2-man-enjoying-in-swimming-pool-banner-3000x1000.jpeg\npersonal_v2/_jcr_content/root/responsivegrid_2088157678/section_container_co/parsed-v2-responsivegrid.html\npersonal_v2/accounts/parsed-v2-cheque-payments.html\npersonal_v2/accounts/parsed-v2-debit-cards.html\npersonal_v2/accounts/parsed-v2-joint-accounts.html\npersonal_v2/accounts/parsed-v2-nab-debit-card.html\npersonal_v2/accounts/parsed-v2-nab-term-deposit-checklist.html\npersonal_v2/accounts/parsed-v2-nab-term-deposit.html\npersonal_v2/accounts/parsed-v2-opening-a-new-personal-account.html\npersonal_v2/accounts/parsed-v2-savings-accounts.html\npersonal_v2/accounts/parsed-v2-spriggy.html\npersonal_v2/accounts/parsed-v2-transaction-accounts.html\npersonal_v2/accounts/parsed-v2-welcome-to-nab.html\npersonal_v2/accounts/_jcr_content/root/banner/image.coreimg.90.1920.jpeg/1688632164981/parsed-v2-man-enjoying-in-swimming-pool-banner-3000x1000.jpeg\npersonal_v2/accounts/cheque-payments/parsed-v2-cheque-policy.html\npersonal_v2/accounts/debit-cards/parsed-v2-activate-your-card-and-set-your-pin.html\npersonal_v2/accounts/debit-cards/parsed-v2-nab-platinum-visa-debit-card-checklist.html\npersonal_v2/accounts/debit-cards/parsed-v2-nab-platinum-visa-debit-card.html\npersonal_v2/accounts/debit-cards/parsed-v2-nab-visa-debit-card-checklist.html\npersonal_v2/accounts/debit-cards/parsed-v2-nab-visa-debit-card.html\npersonal_v2/accounts/nab-debit-card/_jcr_content/root/responsivegrid_859991689/section_container/responsivegrid/link_card/linked-image.coreimg.95.1024.jpeg/1540875586050/parsed-v2-couple-on-holiday-digban-2500x900.jpeg\npersonal_v2/accounts/nab-term-deposit/_jcr_content/root/responsivegrid/section_container/responsivegrid/link_card_437338780/linked-image.coreimg.95.1920.jpeg/1527482587407/parsed-v2-nab-cash-manager-masthead.jpeg\npersonal_v2/accounts/savings-accounts/parsed-v2-budget-planner.html\npersonal_v2/accounts/savings-accounts/parsed-v2-nab-cash-manager.html\npersonal_v2/accounts/savings-accounts/parsed-v2-nab-isaver-checklist-mobile.html\npersonal_v2/accounts/savings-accounts/parsed-v2-nab-isaver-checklist.html\npersonal_v2/accounts/savings-accounts/parsed-v2-nab-isaver.html\npersonal_v2/accounts/savings-accounts/parsed-v2-nab-reward-saver-checklist-mobile.html\npersonal_v2/accounts/savings-accounts/parsed-v2-nab-reward-saver-checklist.html\npersonal_v2/accounts/savings-accounts/parsed-v2-nab-reward-saver.html\npersonal_v2/accounts/savings-accounts/parsed-v2-ubank-usaver-smsf-nab-cash-manager-rate.html\npersonal_v2/accounts/savings-accounts/_jcr_content/root/banner/image.coreimg.90.1280.jpeg/1643238727464/parsed-v2-woman-traveller-hatchback-car-mountain-2500x900.jpeg\npersonal_v2/accounts/savings-accounts/_jcr_content/root/banner/image.coreimg.90.1920.jpeg/1643238727464/parsed-v2-woman-traveller-hatchback-car-mountain-2500x900.jpeg\npersonal_v2/accounts/savings-accounts/nab-reward-saver/parsed-v2-second-last-banking-day.html\npersonal_v2/accounts/savings-accounts/nab-reward-saver/_jcr_content/root/banner/image.coreimg.90.320.jpeg/1617951096452/parsed-v2-masthead-reward-saver.jpeg\npersonal_v2/accounts/spriggy/parsed-v2-graduates.html\npersonal_v2/accounts/spriggy/parsed-v2-parents.html\npersonal_v2/accounts/spriggy/_jcr_content/root/section_container/responsivegrid_1027525143/responsivegrid_20202/image.coreimg.95.1280.jpeg/1655720635944/parsed-v2-spriggy-app-heroshot-1600x1001.jpeg\npersonal_v2/accounts/transaction-accounts/parsed-v2-nab-classic-banking-checklist-mobile.html\npersonal_v2/accounts/transaction-accounts/parsed-v2-nab-classic-banking-checklist.html\npersonal_v2/accounts/transaction-accounts/parsed-v2-nab-classic-banking.html\npersonal_v2/accounts/transaction-accounts/parsed-v2-nab-retirement-account.html\npersonal_v2/accounts/transaction-accounts/parsed-v2-personal-overdrafts.html\npersonal_v2/accounts/transaction-accounts/parsed-v2-switching-banks.html\npersonal_v2/accounts/transaction-accounts/_jcr_content/root/banner/image.coreimg.90.2500.jpeg/1620125045653/parsed-v2-tran-category-page-banner-2500x900.jpeg\npersonal_v2/accounts/transaction-accounts/_jcr_content/root/banner/image.coreimg.90.640.jpeg/1620125045653/parsed-v2-tran-category-page-banner-2500x900.jpeg\npersonal_v2/buy-now-pay-later/parsed-v2-how-it-works.html\npersonal_v2/buy-now-pay-later/parsed-v2-nnpl-credit-offer.html\npersonal_v2/buy-now-pay-later/parsed-v2-terms-conditions.html\npersonal_v2/buy-now-pay-later/_jcr_content/root/responsivegrid_1236212131/section_container_29/responsivegrid/link_card/linked-image.coreimg.95.512.jpeg/1543980937128/parsed-v2-woman-glass-window-reflection-digban-2500x900.jpeg\npersonal_v2/buy-now-pay-later/_jcr_content/root/responsivegrid_1236212131/section_container_29/responsivegrid/link_card_1325908466/linked-image.coreimg.95.1280.jpeg/1657066091556/parsed-v2-digital-kiosk-2500x900.jpeg\npersonal_v2/buy-now-pay-later/how-it-works/_jcr_content/root/responsivegrid_3/responsivegrid_80172/section_container/responsivegrid/image.coreimg.svg/1656316890951/parsed-v2-repayments-charged-icon.svg\npersonal_v2/buy-now-pay-later/how-it-works/_jcr_content/root/responsivegrid_3/responsivegrid_80172/section_container_1167938506/responsivegrid/image_1437996002.coreimg.svg/1656316890467/parsed-v2-repayments-schedule-icon.svg\npersonal_v2/buy-now-pay-later/how-it-works/_jcr_content/root/responsivegrid_3/responsivegrid_80172/section_container_1744269936/responsivegrid_1888044030/image_1406077855.coreimg.svg/1656316889720/parsed-v2-refunds-icon.svg\npersonal_v2/buy-now-pay-later/how-it-works/_jcr_content/root/responsivegrid_3/responsivegrid_80172/section_container_21/responsivegrid/image_2060989016.coreimg.svg/1656316890935/parsed-v2-repayments-steps-icon.svg\npersonal_v2/buy-now-pay-later/how-it-works/_jcr_content/root/section_container/responsivegrid/responsivegrid/responsivegrid_13459/image.coreimg.svg/1656316891064/parsed-v2-allowed-purchases-icon.svg\npersonal_v2/buy-now-pay-later/how-it-works/_jcr_content/root/section_container/responsivegrid/responsivegrid/responsivegrid_copy/image.coreimg.svg/1656316891001/parsed-v2-denied-gambling-icon.svg\npersonal_v2/buy-now-pay-later/terms-conditions/parsed-v2-account-limit-available-spend.html\npersonal_v2/buy-now-pay-later/terms-conditions/parsed-v2-digital-card-terms-complaints-privacy.html\npersonal_v2/buy-now-pay-later/terms-conditions/parsed-v2-resolve-issues.html\npersonal_v2/buy-now-pay-later/terms-conditions/parsed-v2-what-is-nab-now.html\npersonal_v2/buy-now-pay-later/terms-conditions/_jcr_content/root/section_container/responsivegrid/image.coreimg.svg/1658444851157/parsed-v2-repayments-charged-icon.svg\npersonal_v2/buy-now-pay-later/terms-conditions/account-limit-available-spend/_jcr_content/root/section_container/responsivegrid/accordion_copy/item_1598418578929/image.coreimg.svg/1658445277670/parsed-v2-balance-limit-icon.svg\npersonal_v2/buy-now-pay-later/terms-conditions/account-limit-available-spend/_jcr_content/root/section_container/responsivegrid/accordion_copy/item_1598418578929/image_1130781114.coreimg.svg/1656378603950/parsed-v2-inform-increase-repayment-icon.svg\npersonal_v2/buy-now-pay-later/terms-conditions/account-limit-available-spend/_jcr_content/root/section_container/responsivegrid/accordion_copy/item_1598418578929/image_1403567421.coreimg.svg/1658445382465/parsed-v2-plan-limited-icon.svg\npersonal_v2/buy-now-pay-later/terms-conditions/account-limit-available-spend/_jcr_content/root/section_container/responsivegrid/accordion_copy/item_1598418578929/image_275882383.coreimg.svg/1658445332945/parsed-v2-account-limited-icon.svg\npersonal_v2/buy-now-pay-later/terms-conditions/account-limit-available-spend/_jcr_content/root/section_container/responsivegrid/accordion_copy/item_1598418578929/image_509311302.coreimg.svg/1658445457741/parsed-v2-repay-increase-icon.svg\npersonal_v2/buy-now-pay-later/terms-conditions/account-limit-available-spend/_jcr_content/root/section_container/responsivegrid/accordion_copy/item_1600055608928/image.coreimg.svg/1656378405960/parsed-v2-account-limit-icon.svg\npersonal_v2/buy-now-pay-later/terms-conditions/resolve-issues/_jcr_content/root/section_container/responsivegrid/accordion_copy/item_1598418578929/image.coreimg.svg/1656381176923/parsed-v2-inform-stolen-icon.svg\npersonal_v2/buy-now-pay-later/terms-conditions/resolve-issues/_jcr_content/root/section_container/responsivegrid/accordion_copy/item_1598418578929/image_580724253.coreimg.svg/1656381222688/parsed-v2-process-dispute-icon.svg\npersonal_v2/buy-now-pay-later/terms-conditions/resolve-issues/_jcr_content/root/section_container/responsivegrid/accordion_copy/item_1600055608928/image.coreimg.svg/1656381056175/parsed-v2-refunds-icon.svg\npersonal_v2/buy-now-pay-later/terms-conditions/what-is-nab-now/_jcr_content/root/responsivegrid_4/section_container/responsivegrid/link_card_3/linked-image.coreimg.95.1440.jpeg/1656398594156/parsed-v2-nnpl-further-terms-banner-2500x900.jpeg\npersonal_v2/buy-now-pay-later/terms-conditions/what-is-nab-now/_jcr_content/root/section_container/responsivegrid/accordion_copy/item_1600055608928/image.coreimg.svg/1656317481557/parsed-v2-allowed-purchases-icon.svg\npersonal_v2/buy-now-pay-later/terms-conditions/what-is-nab-now/_jcr_content/root/section_container/responsivegrid/accordion_copy/item_1600055608928/image_750058036.coreimg.svg/1658362513434/parsed-v2-denied-cash-icon.svg\npersonal_v2/buy-now-pay-later/terms-conditions/what-is-nab-now/_jcr_content/root/section_container/responsivegrid/accordion_copy/item_1600055608928/image_902410681.coreimg.svg/1656317535502/parsed-v2-denied-gambling-icon.svg\npersonal_v2/buy-now-pay-later/terms-conditions/what-is-nab-now/_jcr_content/root/section_container/responsivegrid/accordion_copy/responsivegrid/image.coreimg.svg/1658444900689/parsed-v2-repayments-charged-icon.svg\npersonal_v2/buy-now-pay-later/terms-conditions/what-is-nab-now/_jcr_content/root/section_container/responsivegrid/accordion_copy/responsivegrid/image_1471331078.coreimg.svg/1658445211541/parsed-v2-repayments-steps-icon.svg\npersonal_v2/buy-now-pay-later/terms-conditions/what-is-nab-now/_jcr_content/root/section_container/responsivegrid/accordion_copy/responsivegrid/image_2027165276.coreimg.svg/1656317847016/parsed-v2-tip-auto-unblock.svg\npersonal_v2/buy-now-pay-later/terms-conditions/what-is-nab-now/_jcr_content/root/section_container/responsivegrid/accordion_copy/responsivegrid/image_256402698.coreimg.svg/1656317608888/parsed-v2-tip-repayment-fund-icon.svg\npersonal_v2/buy-now-pay-later/terms-conditions/what-is-nab-now/_jcr_content/root/section_container/responsivegrid/accordion_copy/responsivegrid/image_256402698_copy.coreimg.svg/1656317565842/parsed-v2-remember-first-repayment-icon.svg\npersonal_v2/buy-now-pay-later/terms-conditions/what-is-nab-now/_jcr_content/root/section_container/responsivegrid/accordion_copy/responsivegrid/image_553995329.coreimg.svg/1658445072489/parsed-v2-repayment-overdue-icon.svg\npersonal_v2/buy-now-pay-later/terms-conditions/what-is-nab-now/_jcr_content/root/section_container/responsivegrid/accordion_copy/responsivegrid/image_918425812.coreimg.svg/1658445013908/parsed-v2-repayments-schedule-icon.svg\npersonal_v2/credit-cards/parsed-v2-balance-transfer-interest-free-days.html\npersonal_v2/credit-cards/parsed-v2-balance-transfers.html\npersonal_v2/credit-cards/parsed-v2-calculators-and-tools.html\npersonal_v2/credit-cards/parsed-v2-coles-gift-card-giveaway-competition.html\npersonal_v2/credit-cards/parsed-v2-credit-card-benefits.html\npersonal_v2/credit-cards/parsed-v2-credit-card-types.html\npersonal_v2/credit-cards/parsed-v2-earn-redeem-rewards.html\npersonal_v2/credit-cards/parsed-v2-electronic-consent.html\npersonal_v2/credit-cards/parsed-v2-how-to-apply.html\npersonal_v2/credit-cards/parsed-v2-learn-more.html\npersonal_v2/credit-cards/parsed-v2-low-fee-cards.html\npersonal_v2/credit-cards/parsed-v2-nab-concierge-service.html\npersonal_v2/credit-cards/parsed-v2-nab-low-rate-card-cash-back-checklist.html\npersonal_v2/credit-cards/parsed-v2-nab-low-rate-card-checklist.html\npersonal_v2/credit-cards/parsed-v2-nab-low-rate-card.html\npersonal_v2/credit-cards/parsed-v2-nab-rewards-cards.html\npersonal_v2/credit-cards/parsed-v2-nab-rewards-program.html\npersonal_v2/credit-cards/parsed-v2-nab-straightup-card-for-sole-traders.html\npersonal_v2/credit-cards/parsed-v2-nab-straightup-card.html\npersonal_v2/credit-cards/parsed-v2-offers.html\npersonal_v2/credit-cards/parsed-v2-online-secure.html\npersonal_v2/credit-cards/parsed-v2-post-app-income-verification-page.html\npersonal_v2/credit-cards/parsed-v2-purchase-protection-insurance.html\npersonal_v2/credit-cards/parsed-v2-qantas-rewards.html\npersonal_v2/credit-cards/parsed-v2-terms-conditions.html\npersonal_v2/credit-cards/parsed-v2-visa-click-to-pay.html\npersonal_v2/credit-cards/parsed-v2-visa-offers.html\npersonal_v2/credit-cards/balance-transfers/parsed-v2-acknowledgement-of-declaration-authority.html\npersonal_v2/credit-cards/balance-transfers/parsed-v2-terms-conditions.html\npersonal_v2/credit-cards/balance-transfers/_jcr_content/root/responsivegrid/section_container/responsivegrid/link_card_677049138/linked-image.coreimg.95.512.jpeg/1590145927595/parsed-v2-banking-low-rate-card.jpeg\npersonal_v2/credit-cards/calculators-and-tools/parsed-v2-balance-transfer-calculator.html\npersonal_v2/credit-cards/calculators-and-tools/parsed-v2-compare.html\npersonal_v2/credit-cards/calculators-and-tools/parsed-v2-product-selector.html\npersonal_v2/credit-cards/calculators-and-tools/_jcr_content/root/section_container/responsivegrid_1027525143/responsivegrid/image.coreimg.95.512.jpeg/1603378564446/parsed-v2-corporate-woman.jpeg\npersonal_v2/credit-cards/calculators-and-tools/balance-transfer-calculator/parsed-v2-balance-transfer-calculator-assumptions.html\npersonal_v2/credit-cards/earn-redeem-rewards/_jcr_content/root/banner/image.coreimg.95.1920.jpeg/1652160198904/parsed-v2-keeping-money-safe-travelling.jpeg\npersonal_v2/credit-cards/learn-more/_jcr_content/root/section_container/responsivegrid_1027525143/responsivegrid_86341288/image.coreimg.95.512.jpeg/1603932634525/parsed-v2-woman-looking-creditcard-heroshot.jpeg\npersonal_v2/credit-cards/low-fee-cards/parsed-v2-nab-low-fee-card-checklist.html\npersonal_v2/credit-cards/low-fee-cards/parsed-v2-nab-low-fee-card.html\npersonal_v2/credit-cards/low-fee-cards/parsed-v2-nab-low-fee-platinum-card-checklist.html\npersonal_v2/credit-cards/low-fee-cards/parsed-v2-nab-low-fee-platinum-card.html\npersonal_v2/credit-cards/nab-rewards-cards/parsed-v2-platinum-card-checklist.html\npersonal_v2/credit-cards/nab-rewards-cards/parsed-v2-platinum-card.html\npersonal_v2/credit-cards/nab-rewards-cards/parsed-v2-signature-card-checklist.html\npersonal_v2/credit-cards/nab-rewards-cards/parsed-v2-signature-card.html\npersonal_v2/credit-cards/nab-rewards-cards/parsed-v2-velocity-points.html\npersonal_v2/credit-cards/nab-rewards-cards/velocity-points/parsed-v2-platinum-checklist.html\npersonal_v2/credit-cards/nab-rewards-cards/velocity-points/parsed-v2-signature-checklist.html\npersonal_v2/credit-cards/nab-straightup-card-for-sole-traders/parsed-v2-checklist.html\npersonal_v2/credit-cards/nab-straightup-card-for-sole-traders/_jcr_content/root/banner/image.coreimg.90.1920.jpeg/1655371482310/parsed-v2-straightup-card-for-sole-traders-banner-1920x690.jpeg\npersonal_v2/credit-cards/nab-straightup-card/parsed-v2-application-checklist.html\npersonal_v2/credit-cards/nab-straightup-card/parsed-v2-monthly-repayments-and-fee-info.html\npersonal_v2/credit-cards/offers/parsed-v2-0-for-32-bt.html\npersonal_v2/credit-cards/offers/parsed-v2-flybuys-offer-signature-rewards-card.html\npersonal_v2/credit-cards/offers/parsed-v2-flybuys-offer.html\npersonal_v2/credit-cards/offers/parsed-v2-low-fee.html\npersonal_v2/credit-cards/offers/parsed-v2-low-rate.html\npersonal_v2/credit-cards/offers/parsed-v2-nab-low-rate-fee-cards-personal-loan-35k.html\npersonal_v2/credit-cards/offers/parsed-v2-nab-low-rate-fee-cards-personal-loan.html\npersonal_v2/credit-cards/offers/parsed-v2-qantas-premium-partner.html\npersonal_v2/credit-cards/offers/parsed-v2-qantas-premium.html\npersonal_v2/credit-cards/offers/parsed-v2-qantas-signature-partner.html\npersonal_v2/credit-cards/offers/parsed-v2-qantas-signature.html\npersonal_v2/credit-cards/offers/parsed-v2-rewards-platinum.html\npersonal_v2/credit-cards/offers/parsed-v2-rewards-signature.html\npersonal_v2/credit-cards/offers/parsed-v2-straightup-card.html\npersonal_v2/credit-cards/offers/parsed-v2-velocity-points-automatic-redemption.html\npersonal_v2/credit-cards/offers/parsed-v2-velocity-points-offer.html\npersonal_v2/credit-cards/offers/balance-transfer-roll-off/_jcr_content/root/banner/image.coreimg.90.1280.jpeg/1667209701450/parsed-v2-nsm13612-bg.jpeg\npersonal_v2/credit-cards/offers/nab-low-rate-fee-cards-personal-loan-35k/_jcr_content/root/banner/image.coreimg.90.1280.jpeg/1625132182520/parsed-v2-nab-credit-cards-personal-loan-offers-banner-2500x900.jpeg\npersonal_v2/credit-cards/qantas-rewards/parsed-v2-nab-qantas-rewards-premium-card-checklist.html\npersonal_v2/credit-cards/qantas-rewards/parsed-v2-nab-qantas-rewards-premium-card.html\npersonal_v2/credit-cards/qantas-rewards/parsed-v2-nab-qantas-rewards-signature-card-checklist.html\npersonal_v2/credit-cards/qantas-rewards/parsed-v2-nab-qantas-rewards-signature-card.html\npersonal_v2/credit-cards/qantas-rewards/nab-qantas-rewards-premium-card/_jcr_content/root/banner/image.coreimg.90.640.jpeg/1637815487073/parsed-v2-qantas-premium-card-banner-1920x690.jpeg\npersonal_v2/credit-cards/terms-conditions/parsed-v2-card-based-electronic-banking.html\npersonal_v2/credit-cards/terms-conditions/parsed-v2-digital.html\npersonal_v2/credit-cards/terms-conditions/parsed-v2-nab-qantas-credit-card-rewards.html\npersonal_v2/credit-cards/terms-conditions/parsed-v2-nab-straightup-card.html\npersonal_v2/credit-cards/terms-conditions/digital/parsed-v2-definitions.html\npersonal_v2/credit-cards/terms-conditions/digital/parsed-v2-guide.html\npersonal_v2/credit-cards/terms-conditions/digital/parsed-v2-how-things-work.html\npersonal_v2/credit-cards/terms-conditions/digital/parsed-v2-managing.html\npersonal_v2/credit-cards/terms-conditions/digital/_jcr_content/root/section_container/responsivegrid/section_container/responsivegrid/image.coreimg.95.512.jpeg/1601941930746/parsed-v2-banker-shake-woman-hand-heroshot.jpeg\npersonal_v2/credit-cards/terms-conditions/digital/definitions/_jcr_content/root/responsivegrid_4/section_container/responsivegrid/link_card_816337084/linked-image.coreimg.95.1440.jpeg/1604535749443/parsed-v2-managing-everyday-banner-2500x900.jpeg\npersonal_v2/credit-cards/terms-conditions/digital/how-things-work/_jcr_content/root/section_container/responsivegrid/section_container/responsivegrid/accordion_copy/item_1598418578929/image_1171469306.coreimg.svg/1604639224773/parsed-v2-timeline-interest-free-period-infograph.svg\npersonal_v2/credit-cards/terms-conditions/digital/how-things-work/_jcr_content/root/section_container/responsivegrid/section_container/responsivegrid/accordion_copy/item_1598418578929/image_1269915478.coreimg.svg/1604551784760/parsed-v2-equation-daily-incurred-interest-infograph.svg\npersonal_v2/credit-cards/terms-conditions/digital/how-things-work/_jcr_content/root/section_container/responsivegrid/section_container/responsivegrid/accordion_copy/item_1598418578929/image_1451903931.coreimg.svg/1604639201944/parsed-v2-timeline-payment-period-infograph.svg\npersonal_v2/credit-cards/terms-conditions/digital/how-things-work/_jcr_content/root/section_container/responsivegrid/section_container/responsivegrid/accordion_copy/item_1598418578929/image_2011711582.coreimg.svg/1604639245790/parsed-v2-timeline-residual-interest-infograph.svg\npersonal_v2/credit-cards/terms-conditions/digital/how-things-work/_jcr_content/root/section_container/responsivegrid/section_container/responsivegrid/accordion_copy/item_1598418578929/image_791635720.coreimg.svg/1604639132470/parsed-v2-timeline-statement-infograph.svg\npersonal_v2/credit-cards/terms-conditions/digital/how-things-work/_jcr_content/root/section_container/responsivegrid/section_container/responsivegrid/accordion_copy/item_1598418578929/responsivegrid_1418475119/image.coreimg.svg/1600224742660/parsed-v2-exclamation-mark-icon.svg\npersonal_v2/credit-cards/terms-conditions/digital/how-things-work/_jcr_content/root/section_container/responsivegrid/section_container/responsivegrid/accordion_copy/item_1598418903581/image.coreimg.svg/1600225441074/parsed-v2-remember-total-minimum-payment-infograph.svg\npersonal_v2/credit-cards/terms-conditions/digital/how-things-work/_jcr_content/root/section_container/responsivegrid/section_container/responsivegrid/accordion_copy/item_1598418903581/image_1302721683.coreimg.svg/1604551867479/parsed-v2-remember-interest-free-period-infograph.svg\npersonal_v2/credit-cards/terms-conditions/digital/how-things-work/_jcr_content/root/section_container/responsivegrid/section_container/responsivegrid/accordion_copy/item_1598419060411/responsivegrid_1558227674/image_1138386623.coreimg.svg/1600220348119/parsed-v2-direct-debit-icon.svg\npersonal_v2/credit-cards/terms-conditions/digital/how-things-work/_jcr_content/root/section_container/responsivegrid/section_container/responsivegrid/accordion_copy/item_1600055608928/image.coreimg.svg/1600225428453/parsed-v2-quicktip-security-infograph.svg\npersonal_v2/credit-cards/terms-conditions/digital/how-things-work/_jcr_content/root/section_container/responsivegrid/section_container/responsivegrid/accordion_copy/item_1600055608928/responsivegrid_11358/image_9670926.coreimg.svg/1600150137885/parsed-v2-balance-transfer-example-icon.svg\npersonal_v2/credit-cards/terms-conditions/digital/how-things-work/_jcr_content/root/section_container/responsivegrid/section_container/responsivegrid/accordion_copy/item_1600055608928/responsivegrid_20243/image_812122781.coreimg.svg/1600149701891/parsed-v2-cash-advance-icon.svg\npersonal_v2/credit-cards/terms-conditions/digital/how-things-work/_jcr_content/root/section_container/responsivegrid/section_container/responsivegrid/accordion_copy/item_1600055608928/responsivegrid_32987/image_750058036.coreimg.svg/1600149626246/parsed-v2-cash-advance-example-icon.svg\npersonal_v2/credit-cards/terms-conditions/digital/how-things-work/_jcr_content/root/section_container/responsivegrid/section_container/responsivegrid/accordion_copy/item_1600055608928/responsivegrid_39002/image_902410681.coreimg.svg/1600150132477/parsed-v2-balance-transfer-icon.svg\npersonal_v2/credit-cards/terms-conditions/digital/how-things-work/_jcr_content/root/section_container/responsivegrid/section_container/responsivegrid/accordion_copy/item_1600055608928/responsivegrid_49293/image_1009738659.coreimg.svg/1604282116555/parsed-v2-interest-fees-charges.svg\npersonal_v2/credit-cards/terms-conditions/digital/how-things-work/_jcr_content/root/section_container/responsivegrid/section_container/responsivegrid/accordion_copy/item_1600055608928/responsivegrid_617691906/image_325380742.coreimg.svg/1600149199501/parsed-v2-purchase-icon.svg\npersonal_v2/credit-cards/terms-conditions/digital/how-things-work/_jcr_content/root/section_container/responsivegrid/section_container/responsivegrid/accordion_copy/item_1600062851215/responsivegrid/image_256402698.coreimg.svg/1600225244454/parsed-v2-quicktip-travelling-overseas-infograph.svg\npersonal_v2/credit-cards/terms-conditions/digital/managing/_jcr_content/root/section_container/responsivegrid/responsivegrid/accordion_copy/item_1598418578929/responsivegrid_1829784250/section_container/responsivegrid_672928291/image.coreimg.svg/1601442183440/parsed-v2-exclamation-mark-icon.svg\npersonal_v2/credit-cards/terms-conditions/digital/managing/_jcr_content/root/section_container/responsivegrid/responsivegrid/accordion_copy/item_1600129485366/responsivegrid/section_container/responsivegrid_238689416/image.coreimg.svg/1600224695427/parsed-v2-exclamation-mark-icon.svg\npersonal_v2/credit-cards/terms-conditions/nab-straightup-card/parsed-v2-definitions.html\npersonal_v2/credit-cards/terms-conditions/nab-straightup-card/parsed-v2-guide.html\npersonal_v2/credit-cards/terms-conditions/nab-straightup-card/parsed-v2-how-things-work.html\npersonal_v2/credit-cards/terms-conditions/nab-straightup-card/parsed-v2-manag\n\n*** WARNING: max output size exceeded, skipping output. ***\n\nvel/parsed-v2-tools.html\npersonal_v2/life-moments/travel/parsed-v2-track-spending.html\npersonal_v2/life-moments/travel/parsed-v2-travel-now.html\npersonal_v2/life-moments/travel/parsed-v2-ways-to-pay.html\npersonal_v2/life-moments/travel/_jcr_content/root/responsivegrid_1102070265/section_container/responsivegrid/link_card_947823069/linked-image.coreimg.jpeg/1574747482931/parsed-v2-roadtrip-digban-2500x900.jpeg\npersonal_v2/life-moments/travel/_jcr_content/root/responsivegrid_1102070265/section_container_co/responsivegrid/link_card_1698382568/linked-image.coreimg.jpeg/1588773235597/parsed-v2-family-holiday-digban-2500x900.jpeg\npersonal_v2/life-moments/travel/complimentary-insurance/_jcr_content/root/banner/image.coreimg.90.320.jpeg/1606820063351/parsed-v2-couple-on-holiday-digban-2500x900.jpeg\npersonal_v2/life-moments/travel/complimentary-insurance/_jcr_content/root/responsivegrid_4/section_container/responsivegrid/link_card_5/linked-image.coreimg.95.1280.jpeg/1588773750257/parsed-v2-family-hike-digban-2500x900.jpeg\npersonal_v2/life-moments/travel/insure/_jcr_content/root/responsivegrid_4/section_container/responsivegrid/link_card_3/linked-image.coreimg.95.1280.jpeg/1537330482749/parsed-v2-girl-taking-photo-digban-2500x900.jpeg\npersonal_v2/life-moments/travel/money-saving-tips/_jcr_content/root/responsivegrid_4/section_container/responsivegrid/link_card_2/linked-image.coreimg.95.2048.jpeg/1583493004231/parsed-v2-girl-looking-at-phone-dusk-digban-2500x900.jpeg\npersonal_v2/life-moments/travel/prepare-accounts/_jcr_content/root/responsivegrid_4/section_container/responsivegrid/link_card_3/linked-image.coreimg.95.1440.jpeg/1537330482749/parsed-v2-girl-taking-photo-digban-2500x900.jpeg\npersonal_v2/life-moments/travel/tools/_jcr_content/root/responsivegrid_4/section_container/responsivegrid/link_card_3/linked-image.coreimg.95.2048.jpeg/1588773750257/parsed-v2-family-hike-digban-2500x900.jpeg\npersonal_v2/life-moments/travel/track-spending/_jcr_content/root/responsivegrid_4/section_container/responsivegrid/link_card_2/linked-image.coreimg.95.512.jpeg/1587552044616/parsed-v2-man-on-lake-digban-2500x900.jpeg\npersonal_v2/life-moments/unplanned/parsed-v2-divorce.html\npersonal_v2/life-moments/unplanned/parsed-v2-illness-injury.html\npersonal_v2/life-moments/unplanned/parsed-v2-losing-loved-ones.html\npersonal_v2/life-moments/unplanned/parsed-v2-unemployment.html\npersonal_v2/life-moments/unplanned/_jcr_content/root/responsivegrid_577989923/section_container/responsivegrid/link_card_1089342125/linked-image.coreimg.95.1024.jpeg/1537399135227/parsed-v2-man-working-on-computer-digban-2500x900.jpeg\npersonal_v2/life-moments/unplanned/_jcr_content/root/responsivegrid_577989923/section_container/responsivegrid/link_card_1984565123/linked-image.coreimg.95.1024.jpeg/1537398881105/parsed-v2-little-girl-watching-mum-on-ipad-digban-2500x900.jpeg\npersonal_v2/life-moments/unplanned/divorce/parsed-v2-checklist.html\npersonal_v2/life-moments/unplanned/divorce/parsed-v2-family-finances.html\npersonal_v2/life-moments/unplanned/divorce/parsed-v2-independence.html\npersonal_v2/life-moments/unplanned/divorce/parsed-v2-shared-assets.html\npersonal_v2/life-moments/unplanned/divorce/parsed-v2-support-networks.html\npersonal_v2/life-moments/unplanned/divorce/family-finances/_jcr_content/root/banner/image.coreimg.jpeg/1595986617535/parsed-v2-man-working-on-computer-digban-2500x900.jpeg\npersonal_v2/life-moments/unplanned/illness-injury/parsed-v2-carers.html\npersonal_v2/life-moments/unplanned/illness-injury/parsed-v2-coping-with-illness.html\npersonal_v2/life-moments/unplanned/illness-injury/parsed-v2-financial-help.html\npersonal_v2/life-moments/unplanned/illness-injury/parsed-v2-plan-unexpected.html\npersonal_v2/life-moments/unplanned/illness-injury/parsed-v2-recover.html\npersonal_v2/life-moments/unplanned/illness-injury/carers/_jcr_content/root/banner/image.coreimg.90.1280.jpeg/1597749480431/parsed-v2-young-girl-plaiting-mothers-hair-digban-2500x900.jpeg\npersonal_v2/life-moments/unplanned/losing-loved-ones/parsed-v2-account-impacts.html\npersonal_v2/life-moments/unplanned/losing-loved-ones/parsed-v2-notify-us.html\npersonal_v2/life-moments/unplanned/losing-loved-ones/parsed-v2-other-contacts.html\npersonal_v2/life-moments/unplanned/losing-loved-ones/parsed-v2-steps-after-notification.html\npersonal_v2/life-moments/unplanned/losing-loved-ones/account-impacts/_jcr_content/root/responsivegrid_4/section_container/responsivegrid/link_card_1521644189/image.coreimg.95.1440.jpeg/1673491845794/parsed-v2-woman-assisting-man-digban-2500x900.jpeg\npersonal_v2/life-moments/unplanned/losing-loved-ones/notify-us/_jcr_content/root/responsivegrid_4/section_container/responsivegrid/link_card_4/image.coreimg.jpeg/1673491942621/parsed-v2-bereavement-banner.jpeg\npersonal_v2/life-moments/unplanned/losing-loved-ones/steps-after-notification/_jcr_content/root/banner/image.coreimg.90.1920.jpeg/1671574468807/parsed-v2-bereavement-banner.jpeg\npersonal_v2/life-moments/unplanned/losing-loved-ones/steps-after-notification/_jcr_content/root/responsivegrid_4/section_container/responsivegrid/link_card_3/linked-image.coreimg.95.512.jpeg/1513294646812/parsed-v2-bereavement-banner.jpeg\npersonal_v2/life-moments/unplanned/unemployment/parsed-v2-manage-finances.html\npersonal_v2/life-moments/unplanned/unemployment/parsed-v2-navigating-redundancy.html\npersonal_v2/life-moments/unplanned/unemployment/parsed-v2-redundancy-finances.html\npersonal_v2/life-moments/unplanned/unemployment/parsed-v2-support-network.html\npersonal_v2/life-moments/unplanned/unemployment/_jcr_content/root/section_container/responsivegrid/link_card_1209759883/linked-image.coreimg.jpeg/1635928025393/parsed-v2-mother-and-son-on-computers-digban-2500x900.jpeg\npersonal_v2/life-moments/unplanned/unemployment/navigating-redundancy/_jcr_content/root/responsivegrid_4/section_container/responsivegrid/link_card_3/linked-image.coreimg.95.1024.jpeg/1536025570843/parsed-v2-planning-retirement-landing-page.jpeg\npersonal_v2/life-moments/unplanned/unemployment/redundancy-finances/_jcr_content/root/responsivegrid_4/section_container/responsivegrid/link_card_3/linked-image.coreimg.95.1440.jpeg/1655449888213/parsed-v2-managing-your-debts-personal.jpeg\npersonal_v2/life-moments/work/parsed-v2-change-job.html\npersonal_v2/life-moments/work/parsed-v2-plan-retirement.html\npersonal_v2/life-moments/work/_jcr_content/root/responsivegrid_1133376185/section_container/responsivegrid/link_card_1890125931/linked-image.coreimg.jpeg/1574206636622/parsed-v2-feed-dog-digban-2500x900.jpeg\npersonal_v2/life-moments/work/change-job/parsed-v2-money.html\npersonal_v2/life-moments/work/plan-retirement/parsed-v2-after-tax-contributions.html\npersonal_v2/life-moments/work/plan-retirement/parsed-v2-age-pension.html\npersonal_v2/life-moments/work/plan-retirement/parsed-v2-aged-care.html\npersonal_v2/life-moments/work/plan-retirement/parsed-v2-boost-savings.html\npersonal_v2/life-moments/work/plan-retirement/parsed-v2-boost-super.html\npersonal_v2/life-moments/work/plan-retirement/parsed-v2-budget.html\npersonal_v2/life-moments/work/plan-retirement/parsed-v2-consolidate-super.html\npersonal_v2/life-moments/work/plan-retirement/parsed-v2-consult-expert.html\npersonal_v2/life-moments/work/plan-retirement/parsed-v2-helping-kids-retirement.html\npersonal_v2/life-moments/work/plan-retirement/parsed-v2-income.html\npersonal_v2/life-moments/work/plan-retirement/parsed-v2-plan-income.html\npersonal_v2/life-moments/work/plan-retirement/parsed-v2-planning-in-50s.html\npersonal_v2/life-moments/work/plan-retirement/parsed-v2-planning.html\npersonal_v2/life-moments/work/plan-retirement/parsed-v2-preservation-age.html\npersonal_v2/life-moments/work/plan-retirement/parsed-v2-salary-sacrifice.html\npersonal_v2/life-moments/work/plan-retirement/parsed-v2-sell-home.html\npersonal_v2/life-moments/work/plan-retirement/parsed-v2-spouse-super.html\npersonal_v2/life-moments/work/plan-retirement/consolidate-super/_jcr_content/root/responsivegrid_4/section_container/responsivegrid/link_card_2/linked-image.coreimg.95.1280.jpeg/1532928296499/parsed-v2-girl-pattern-making-digban-2500x900.jpeg\npersonal_v2/life-moments/work/plan-retirement/planning/_jcr_content/root/responsivegrid_4/section_container/responsivegrid/link_card_2/linked-image.coreimg.95.1440.jpeg/1587553899376/parsed-v2-little-girl-and-dad-hugging-digban-2500x900.jpeg\npersonal_v2/life-moments/work/plan-retirement/sell-home/_jcr_content/root/responsivegrid_4/section_container/responsivegrid/link_card_1/linked-image.coreimg.95.512.jpeg/1542262857255/parsed-v2-couple-shed-surfboard-digban-2500x900.jpeg\npersonal_v2/online-banking/parsed-v2-countries-blocked.html\npersonal_v2/online-banking/parsed-v2-digital-payments.html\npersonal_v2/online-banking/parsed-v2-fast-payments.html\npersonal_v2/online-banking/parsed-v2-features.html\npersonal_v2/online-banking/parsed-v2-fitbit.html\npersonal_v2/online-banking/parsed-v2-garmin.html\npersonal_v2/online-banking/parsed-v2-mobile-banking-app.html\npersonal_v2/online-banking/parsed-v2-nab-internet-banking.html\npersonal_v2/online-banking/parsed-v2-payid.html\npersonal_v2/online-banking/parsed-v2-resume-saved-application.html\npersonal_v2/online-banking/parsed-v2-setup-savings-goal.html\npersonal_v2/online-banking/parsed-v2-statements.html\npersonal_v2/online-banking/parsed-v2-tax-time-tools.html\npersonal_v2/online-banking/parsed-v2-zero-paper.html\npersonal_v2/online-banking/digital-payments/parsed-v2-apple-pay.html\npersonal_v2/online-banking/digital-payments/parsed-v2-beemit.html\npersonal_v2/online-banking/digital-payments/parsed-v2-google-pay.html\npersonal_v2/online-banking/digital-payments/parsed-v2-payto.html\npersonal_v2/online-banking/digital-payments/parsed-v2-samsung-pay.html\npersonal_v2/online-banking/digital-payments/payto/_jcr_content/root/responsivegrid_859991689/section_container/responsivegrid/link_card_1778892814/linked-image.coreimg.95.1024.jpeg/1603667949739/parsed-v2-nab-app-banner.jpeg\npersonal_v2/online-banking/fitbit/parsed-v2-help.html\npersonal_v2/online-banking/garmin/parsed-v2-help.html\npersonal_v2/online-banking/mobile-banking-app/parsed-v2-digital-receipts.html\npersonal_v2/online-banking/mobile-banking-app/parsed-v2-mobile-cheque-deposit.html\npersonal_v2/online-banking/mobile-banking-app/parsed-v2-quick-balances.html\npersonal_v2/online-banking/mobile-banking-app/_jcr_content/root/responsivegrid_1482222609/section_container/responsivegrid/image.coreimg.png/1664336664549/parsed-v2-google-pay-logo-200x150.png\npersonal_v2/online-banking/mobile-banking-app/mobile-cheque-deposit/_jcr_content/root/responsivegrid_429897480/section_container/responsivegrid/link_card_copy_2122452457/linked-image.coreimg.95.1024.jpeg/1620125002463/parsed-v2-tran-category-page-banner-2500x900.jpeg\npersonal_v2/online-banking/nab-internet-banking/parsed-v2-ib-login-banner.html\npersonal_v2/online-banking/nab-internet-banking/parsed-v2-ib-logout.html\npersonal_v2/online-banking/nab-internet-banking/parsed-v2-ib-platform-login-banner.html\npersonal_v2/online-banking/nab-internet-banking/parsed-v2-nab-alerts.html\npersonal_v2/online-banking/nab-internet-banking/parsed-v2-nab-id.html\npersonal_v2/online-banking/nab-internet-banking/parsed-v2-payment-approvals.html\npersonal_v2/online-banking/nab-internet-banking/parsed-v2-sms-security.html\npersonal_v2/online-banking/nab-internet-banking/parsed-v2-spending-tool.html\npersonal_v2/online-banking/nab-internet-banking/parsed-v2-transaction-history.html\npersonal_v2/online-banking/nab-internet-banking/parsed-v2-update-your-details-online-banking.html\npersonal_v2/online-banking/nab-internet-banking/apply/parsed-v2-business.html\npersonal_v2/online-banking/nab-internet-banking/apply/parsed-v2-personal.html\npersonal_v2/online-banking/nab-internet-banking/apply/business/parsed-v2-business-credit-cards.html\npersonal_v2/online-banking/nab-internet-banking/apply/business/parsed-v2-business-loans.html\npersonal_v2/online-banking/nab-internet-banking/apply/business/parsed-v2-payments-and-merchants.html\npersonal_v2/online-banking/nab-internet-banking/apply/business/business-bank-accounts/parsed-v2-business-savings-deposit-accounts.html\npersonal_v2/online-banking/nab-internet-banking/apply/business/business-credit-cards/parsed-v2-corporate-charge-cards.html\npersonal_v2/online-banking/nab-internet-banking/apply/business/business-credit-cards/parsed-v2-nab-low-rate-business-card.html\npersonal_v2/online-banking/nab-internet-banking/apply/business/business-credit-cards/parsed-v2-nab-qantas-business-signature-card.html\npersonal_v2/online-banking/nab-internet-banking/apply/business/business-credit-cards/parsed-v2-nab-rewards-business-signature-card.html\npersonal_v2/online-banking/nab-internet-banking/apply/business/business-credit-cards/corporate-charge-cards/parsed-v2-nab-business-card.html\npersonal_v2/online-banking/nab-internet-banking/apply/business/payments-and-merchants/parsed-v2-accepting-payments.html\npersonal_v2/online-banking/nab-internet-banking/apply/business/payments-and-merchants/accepting-payments/parsed-v2-eftpos-machines.html\npersonal_v2/online-banking/nab-internet-banking/apply/business/payments-and-merchants/accepting-payments/parsed-v2-nab-easy-tap.html\npersonal_v2/online-banking/nab-internet-banking/apply/business/payments-and-merchants/online-and-ecommerce/parsed-v2-nab-ecommerce-merchant-account.html\npersonal_v2/online-banking/nab-internet-banking/apply/business/payments-and-merchants/online-and-ecommerce/parsed-v2-nab-transact.html\npersonal_v2/online-banking/nab-internet-banking/apply/personal/parsed-v2-credit-cards.html\npersonal_v2/online-banking/nab-internet-banking/apply/personal/_jcr_content/root/responsivegrid/section_container/responsivegrid_copy_/responsivegrid_copy/link_card/image.coreimg.95.512.jpeg/1634875452324/parsed-v2-canstar-cards.jpeg\npersonal_v2/online-banking/nab-internet-banking/apply/personal/_jcr_content/root/responsivegrid/section_container/responsivegrid_copy_/responsivegrid_copy/link_card_1741083401/image.coreimg.95.1440.jpeg/1648524398496/parsed-v2-payments-category-page-ingenico.jpeg\npersonal_v2/online-banking/nab-internet-banking/spending-tool/_jcr_content/root/responsivegrid/section_container_co/responsivegrid/image.coreimg.95.1024.png/1682492859937/parsed-v2-spending-preview-520x520.png\npersonal_v2/online-banking/payid/parsed-v2-payid-video.html\npersonal_v2/online-banking/payid/_jcr_content/root/banner/image.coreimg.90.1280.jpeg/1628838028330/parsed-v2-nab-app-emerging-banner.jpeg\npersonal_v2/online-banking/payid/_jcr_content/root/responsivegrid_859991689/section_container/responsivegrid/link_card/linked-image.coreimg.95.1024.jpeg/1635928025393/parsed-v2-mother-and-son-on-computers-digban-2500x900.jpeg\npersonal_v2/online-banking/payid/_jcr_content/root/responsivegrid_859991689/section_container/responsivegrid/link_card_1073525403/linked-image.coreimg.95.512.jpeg/1537161279330/parsed-v2-woman-sitting-chair-digban-2500x900.jpeg\npersonal_v2/online-banking/payid/_jcr_content/root/responsivegrid_859991689/section_container/responsivegrid/link_card_1778892814/linked-image.coreimg.95.1920.jpeg/1582616037894/parsed-v2-cyber-safety-tips-for-you-consumer.jpeg\npersonal_v2/online-banking/payid/_jcr_content/root/responsivegrid_859991689/section_container/responsivegrid/link_card_1778892814/linked-image.coreimg.jpeg/1582616037894/parsed-v2-cyber-safety-tips-for-you-consumer.jpeg\npersonal_v2/online-banking/setup-savings-goal/_jcr_content/root/responsivegrid_4/section_container/responsivegrid_20208/link_card/linked-image.coreimg.95.512.jpeg/1583907104312/parsed-v2-masthead-reward-saver.jpeg\npersonal_v2/online-banking/statements/parsed-v2-using-online-statements.html\npersonal_v2/online-banking/statements/_jcr_content/root/responsivegrid_4/section_container/responsivegrid/link_card_4/linked-image.coreimg.95.2048.jpeg/1581329536923/parsed-v2-credit-worthiness-new.jpeg\npersonal_v2/personal-loans/parsed-v2-boat-loans.html\npersonal_v2/personal-loans/parsed-v2-car-loans.html\npersonal_v2/personal-loans/parsed-v2-caravan-loans.html\npersonal_v2/personal-loans/parsed-v2-debt-consolidation-loans.html\npersonal_v2/personal-loans/parsed-v2-education-loans.html\npersonal_v2/personal-loans/parsed-v2-energy-efficient-purchases.html\npersonal_v2/personal-loans/parsed-v2-general-terms.html\npersonal_v2/personal-loans/parsed-v2-home-renovation-loans.html\npersonal_v2/personal-loans/parsed-v2-how-to-apply.html\npersonal_v2/personal-loans/parsed-v2-interest-rates.html\npersonal_v2/personal-loans/parsed-v2-major-purchases.html\npersonal_v2/personal-loans/parsed-v2-medical-loans.html\npersonal_v2/personal-loans/parsed-v2-motorbike-loans.html\npersonal_v2/personal-loans/parsed-v2-personal-loan-calculators.html\npersonal_v2/personal-loans/parsed-v2-personal-loans-checklist.html\npersonal_v2/personal-loans/parsed-v2-qantas-points-offer.html\npersonal_v2/personal-loans/parsed-v2-travel-loans.html\npersonal_v2/personal-loans/parsed-v2-understand-personal-loan-rates-terms.html\npersonal_v2/personal-loans/parsed-v2-understanding-loan-repayments.html\npersonal_v2/personal-loans/parsed-v2-verify-income.html\npersonal_v2/personal-loans/parsed-v2-wedding-loans.html\npersonal_v2/personal-loans/_jcr_content/root/banner/image.coreimg.90.2500.jpeg/1677740154442/parsed-v2-woman-laying-down-with-headphones-banner-1920x690.jpeg\npersonal_v2/personal-loans/_jcr_content/root/banner/image.coreimg.jpeg/1677740154442/parsed-v2-woman-laying-down-with-headphones-banner-1920x690.jpeg\npersonal_v2/personal-loans/_jcr_content/root/responsivegrid/section_container/responsivegrid_1261539329/link_card_1981063658/linked-image.coreimg.95.512.jpeg/1677690002605/parsed-v2-tatoo-girl-smiling-at-phone-banner-1920x690.jpeg\npersonal_v2/personal-loans/_jcr_content/root/responsivegrid/section_container/responsivegrid_1261539329/link_card_268442892/linked-image.coreimg.95.1440.jpeg/1677739313703/parsed-v2-girl-getting-married-banner-1920x690.jpeg\npersonal_v2/personal-loans/boat-loans/_jcr_content/root/responsivegrid/section_container/responsivegrid/link_card_copy_15670/linked-image.coreimg.95.1024.jpeg/1551234763517/parsed-v2-man-looking-at-phone-on-computer-digban-1920x506.jpeg\npersonal_v2/personal-loans/car-loans/parsed-v2-repayment-calculator.html\npersonal_v2/personal-loans/how-to-apply/parsed-v2-application-help.html\npersonal_v2/personal-loans/how-to-apply/_jcr_content/root/banner/image.coreimg.90.2500.jpeg/1656664535500/parsed-v2-young-couple-driving-in-a-car-banner-2500x900.jpeg\npersonal_v2/personal-loans/interest-rates/_jcr_content/root/responsivegrid_312238311/section_container_17/responsivegrid/link_card_copy_1670631601/linked-image.coreimg.jpeg/1682043046401/parsed-v2-women-in-car-banner-1920x690.jpeg\npersonal_v2/personal-loans/personal-loan-calculators/parsed-v2-debt-consolidation-calculator.html\npersonal_v2/personal-loans/personal-loan-calculators/parsed-v2-personal-loan-borrowing-power-calculator.html\npersonal_v2/personal-loans/personal-loan-calculators/parsed-v2-personal-loan-repayment-calculator.html\npersonal_v2/personal-loans/personal-loan-calculators/debt-consolidation-calculator/parsed-v2-nab-debt-consolidation-calculator-terms-and-conditions.html\npersonal_v2/personal-loans/personal-loan-calculators/personal-loan-borrowing-power-calculator/parsed-v2-terms-and-conditions.html\npersonal_v2/personal-loans/personal-loan-calculators/personal-loan-repayment-calculator/parsed-v2-terms-conditions.html\npersonal_v2/personal-loans/understand-personal-loan-rates-terms/parsed-v2-how-to-apply-online.html\npersonal_v2/personal-loans/understand-personal-loan-rates-terms/parsed-v2-tracking-your-application-online.html\npersonal_v2/personal-loans/understanding-loan-repayments/parsed-v2-regular-repayments.html\npersonal_v2/personal-loans/verify-income/parsed-v2-customer-support.html\npersonal_v2/personal-loans/wedding-loans/_jcr_content/root/banner/image.coreimg.90.1280.jpeg/1677739792493/parsed-v2-girl-getting-married-banner-1920x690.jpeg\npersonal_v2/private-wealth/parsed-v2-awards.html\npersonal_v2/private-wealth/parsed-v2-contact-us.html\npersonal_v2/private-wealth/parsed-v2-get-ready-for-the-great-wealth-transfer.html\npersonal_v2/private-wealth/parsed-v2-our-difference.html\npersonal_v2/private-wealth/parsed-v2-our-specialists.html\npersonal_v2/private-wealth/parsed-v2-residential-property-investment-portfolio.html\npersonal_v2/private-wealth/parsed-v2-tailored-solutions.html\npersonal_v2/private-wealth/parsed-v2-welcome-video.html\npersonal_v2/private-wealth/parsed-v2-what-is-private-banking.html\npersonal_v2/private-wealth/_jcr_content/root/responsivegrid_1482222609/section_container_2074671301/responsivegrid_15417/responsivegrid_86341_457162490/image.coreimg.95.1280.jpeg/1633922631021/parsed-v2-banker-customer-conversation-heroshot-395x216.jpeg\npersonal_v2/private-wealth/our-difference/_jcr_content/root/section_container/responsivegrid_1027525143/responsivegrid/image.coreimg.svg/1628737680263/parsed-v2-company-coin-icon.svg\npersonal_v2/private-wealth/our-difference/_jcr_content/root/section_container/responsivegrid_1027525143/responsivegrid_476757050/image.coreimg.svg/1628737702653/parsed-v2-globe-eyes-icon.svg\npersonal_v2/private-wealth/our-difference/_jcr_content/root/section_container/responsivegrid_1027525143/responsivegrid_86341288/image.coreimg.svg/1628737690810/parsed-v2-card-spreadsheet-icon.svg\npersonal_v2/private-wealth/tailored-solutions/parsed-v2-private-portfolio-package.html\npersonal_v2/private-wealth/tailored-solutions/parsed-v2-private-tailored-package.html\npersonal_v2/private-wealth/tailored-solutions/private-tailored-package/_jcr_content/root/banner/image.coreimg.90.2500.jpeg/1628744266798/parsed-v2-smiling-professional-banker-banner-1920x800.jpeg\npersonal_v2/super-and-investments/parsed-v2-cash-management.html\npersonal_v2/super-and-investments/parsed-v2-financial-advice.html\npersonal_v2/super-and-investments/parsed-v2-investment-lending.html\npersonal_v2/super-and-investments/parsed-v2-nab-adviser-portal.html\npersonal_v2/super-and-investments/parsed-v2-self-managed-super-fund.html\npersonal_v2/super-and-investments/cash-management/_jcr_content/root/responsivegrid_1102070265/section_container/responsivegrid/link_card_591912297/linked-image.coreimg.jpeg/1666934085946/parsed-v2-isaver-social-and-onsite-banner-1920x690.jpeg\npersonal_v2/super-and-investments/investment-lending/parsed-v2-nab-equity-builder.html\npersonal_v2/super-and-investments/investment-lending/parsed-v2-nab-margin-loan.html\npersonal_v2/super-and-investments/investment-lending/parsed-v2-nab-super-lever.html\npersonal_v2/super-and-investments/investment-lending/_jcr_content/root/responsivegrid/section_container/responsivegrid/link_card/linked-image.coreimg.95.512.jpeg/1579748319356/parsed-v2-equity-builder-no-starlight-2500x900.jpeg\npersonal_v2/super-and-investments/nab-adviser-portal/parsed-v2-contact-us.html\npersonal_v2/super-and-investments/nab-adviser-portal/parsed-v2-documents-forms.html\npersonal_v2/super-and-investments/nab-adviser-portal/parsed-v2-nab-cash-manager-account.html\npersonal_v2/super-and-investments/nab-adviser-portal/parsed-v2-new-advisers.html\npersonal_v2/super-and-investments/nab-adviser-portal/nab-cash-manager-account/parsed-v2-special-rate.html\npersonal_v2/super-and-investments/self-managed-super-fund/parsed-v2-new-to-smsf.html\npersonal_v2/super-and-investments/self-managed-super-fund/parsed-v2-setting-up-a-smsf.html\npersonal_v2/super-and-investments/self-managed-super-fund/parsed-v2-smsf-cash-products.html\npersonal_v2/super-and-investments/self-managed-super-fund/parsed-v2-smsf-investments.html\npersonal_v2/super-and-investments/self-managed-super-fund/smsf-investments/_jcr_content/root/responsivegrid_577989923/section_container_co/responsivegrid/link_card_1209759883/linked-image.coreimg.95.1440.jpeg/1521686770015/parsed-v2-smsf-cash-bg.jpeg\npersonal_v2/youth-banking/parsed-v2-kids.html\npersonal_v2/youth-banking/parsed-v2-students.html\npersonal_v2/youth-banking/parsed-v2-teens.html\npersonal_v2/youth-banking/parsed-v2-young-adults.html\npersonal_v2/youth-banking/kids/parsed-v2-bank-accounts-children.html\npersonal_v2/youth-banking/kids/parsed-v2-how-to-open-account.html\npersonal_v2/youth-banking/kids/_jcr_content/root/responsivegrid_1482222609/section_container/responsivegrid_569749933/link_card_116897110/linked-image.coreimg.95.1920.jpeg/1589192407389/parsed-v2-budgeting-kids-piggybank.jpeg\npersonal_v2/youth-banking/kids/bank-accounts-children/_jcr_content/root/responsivegrid/section_container/responsivegrid/link_card_2099943737/linked-image.coreimg.95.2048.jpeg/1548824846309/parsed-v2-teenage-boy-and-girl-masthead-2500x900.jpeg\npersonal_v2/youth-banking/students/_jcr_content/root/responsivegrid_1482222609/section_container_2008977323/responsivegrid_56974/link_card/linked-image.coreimg.jpeg/1635838283006/parsed-v2-young-man-on-laptop-banner-2500x900.jpeg\npersonal_v2/youth-banking/teens/parsed-v2-first-debit-card.html\npersonal_v2/sample_test/parsed-v2-nab-straightup-card.html\nTotal files present : 797\n"
     ]
    }
   ],
   "source": [
    "import os \n",
    "\n",
    "file_list = []\n",
    "\n",
    "for root, _, files in os.walk('personal_v2'):\n",
    "  for filename in files:\n",
    "    #Remove any files that are hidden\n",
    "    if filename.startswith(\".\"):\n",
    "      continue\n",
    "    else:\n",
    "      html_file_path = os.path.join(root,filename)\n",
    "      output_filename = f'parsed-v2-{filename}'\n",
    "      output_path = os.path.join(root,output_filename)\n",
    "      print(output_path)\n",
    "      file_list.append(filename)\n",
    "\n",
    "print(f'Total files present : {len(file_list)}')"
   ]
  },
  {
   "cell_type": "markdown",
   "metadata": {
    "application/vnd.databricks.v1+cell": {
     "cellMetadata": {},
     "inputWidgets": {},
     "nuid": "763674c1-17d2-4ea7-8853-2d40b57708d4",
     "showTitle": false,
     "title": ""
    }
   },
   "source": [
    "### HTML Parsing via Beautiful Soup\n",
    "\n",
    "There are few duplicates across all files in terms of repeat hyperlinks. The logic of the code is something below:\n",
    "1. Traverse all directories\n",
    "2. Load each html file inside the directory. \n",
    "3. Remove any hyperlinks (Note: Hyperlink section is repititive in each file related to other page buttons and references)\n",
    "4. Remove any special characters\n",
    "5. Preserve anynewline characters\n",
    "6. Remove images and embedded objects (if any) (Majority looked as logos)\n",
    "7. Store the clean file as an html object with 'utf-8' format.\n",
    "8. Store each parse file in \"html\" format in the respective repository next to the input file\n",
    "\n",
    "The python library \"BeautifulSoup\" and \"re\" is used for the parsing."
   ]
  },
  {
   "cell_type": "code",
   "execution_count": 0,
   "metadata": {
    "application/vnd.databricks.v1+cell": {
     "cellMetadata": {
      "byteLimit": 2048000,
      "rowLimit": 10000
     },
     "inputWidgets": {},
     "nuid": "1c205b96-610c-451a-ab71-a9c0d4bf886d",
     "showTitle": false,
     "title": ""
    }
   },
   "outputs": [],
   "source": [
    "from bs4 import BeautifulSoup\n",
    "import re\n",
    "\n",
    "def remove_hyperlinks(soup):\n",
    "    # Find all anchor tags (hyperlinks) in the HTML content\n",
    "    for a_tag in soup.find_all('a'):\n",
    "        # Remove the entire anchor tag (hyperlink element) from the HTML content\n",
    "        a_tag.extract()\n",
    "\n",
    "def remove_special_characters_and_spaces(text):\n",
    "    # Remove special characters using regular expressions\n",
    "    cleaned_text = re.sub(r'^[\\s•·●▪◦▸\\-–—‣⁃▹*]+(?=\\s*\\d*[.,]?\\s*)', '', text, flags=re.MULTILINE)\n",
    "    cleaned_text = re.sub(r'\\s+', ' ', cleaned_text)\n",
    "    \n",
    "    return cleaned_text\n",
    "\n",
    "def preserve_newlines(soup):\n",
    "    # Preserve newlines within specific tags that may use newlines for formatting\n",
    "    for tag in soup.find_all(['pre', 'textarea']):\n",
    "        tag.insert_before('\\n')\n",
    "        tag.insert_after('\\n')\n",
    "        tag.unwrap()\n",
    "  \n",
    "def remove_images_and_objects(soup):\n",
    "    # Find all mage tags (img) and document tags (embed, object, iframe) and remove them from the HTML content\n",
    "    for doc_tag in soup.find_all(['img','embed', 'object', 'iframe']):\n",
    "        doc_tag.extract()\n",
    "\n",
    "def parse_html_file_sample(file_path,output_path):\n",
    "    with open(file_path, 'r', encoding='utf-8') as file:\n",
    "        content = file.read()\n",
    "\n",
    "    # Create a BeautifulSoup object to parse the HTML content\n",
    "    soup = BeautifulSoup(content, 'html.parser')\n",
    "\n",
    "    # Step 1: Remove hyperlinks from the HTML content\n",
    "    remove_hyperlinks(soup)\n",
    "\n",
    "    # Step 2: Get the updated HTML content without hyperlinks\n",
    "    html_without_hyperlinks = soup.prettify()\n",
    "\n",
    "   # Step 3:  Remove special characters from the HTML content\n",
    "    clean_html_content = remove_special_characters_and_spaces(html_without_hyperlinks)\n",
    "\n",
    "  # Step 4: Remove images and embedded documents from the HTML content\n",
    "    soup_without_images_or_documents = BeautifulSoup(clean_html_content, 'html.parser')\n",
    "    remove_images_and_objects(soup_without_images_or_documents)\n",
    "\n",
    " # Preserve newlines within specific tags (pre, textarea) that may use newlines for formatting\n",
    "    preserve_newlines(soup_without_images_or_documents)\n",
    "\n",
    "  # Step 5: Remove newline characters from the HTML content\n",
    "    # final_cleaned_html = remove_newline_characters(soup_without_images_or_documents.get_text())\n",
    "    final_cleaned_html = soup_without_images_or_documents.get_text()\n",
    "\n",
    "  # Save the updated HTML content to a new file in the local repository\n",
    "    with open(output_path, 'w', encoding='utf-8') as output_file:\n",
    "        output_file.write(final_cleaned_html)"
   ]
  },
  {
   "cell_type": "code",
   "execution_count": 0,
   "metadata": {
    "application/vnd.databricks.v1+cell": {
     "cellMetadata": {
      "byteLimit": 2048000,
      "rowLimit": 10000
     },
     "inputWidgets": {},
     "nuid": "60828f83-26da-41a2-853e-ce6aa533a095",
     "showTitle": false,
     "title": ""
    }
   },
   "outputs": [
    {
     "output_type": "stream",
     "name": "stdout",
     "output_type": "stream",
     "text": [
      "The output file name is : nab_personal_banking_file_set/parsed-v3-personal-loans.html\nThe output file name is : nab_personal_banking_file_set/parsed-v3-insurance.html\nThe output file name is : nab_personal_banking_file_set/parsed-v3-private-wealth.html\nThe output file name is : nab_personal_banking_file_set/parsed-v3-parsed-v2-personal-loans.html\nThe output file name is : nab_personal_banking_file_set/parsed-v3-parsed-v2-insurance.html\nThe output file name is : nab_personal_banking_file_set/parsed-v3-parsed-v2-private-wealth.html\nThe output file name is : nab_personal_banking_file_set/life-moments/family/buy-car/parsed-v3-car-finance-options.html\nThe output file name is : nab_personal_banking_file_set/life-moments/family/buy-car/parsed-v3-parsed-v2-car-finance-options.html\nThe output file name is : nab_personal_banking_file_set/life-moments/family/start-family/parsed-v3-maternity-leave.html\nThe output file name is : nab_personal_banking_file_set/life-moments/family/start-family/parsed-v3-parsed-v2-maternity-leave.html\nThe output file name is : nab_personal_banking_file_set/life-moments/unplanned/unemployment/parsed-v3-redundancy-finances.html\nThe output file name is : nab_personal_banking_file_set/life-moments/unplanned/unemployment/parsed-v3-parsed-v2-redundancy-finances.html\nThe output file name is : nab_personal_banking_file_set/life-moments/home-property/pay-off-home-loan/parsed-v3-financial-plan-basics.html\nThe output file name is : nab_personal_banking_file_set/life-moments/home-property/pay-off-home-loan/parsed-v3-parsed-v2-financial-plan-basics.html\nThe output file name is : nab_personal_banking_file_set/life-moments/home-property/invest-property/parsed-v3-depreciation-older-property.html\nThe output file name is : nab_personal_banking_file_set/life-moments/home-property/invest-property/parsed-v3-parsed-v2-depreciation-older-property.html\nThe output file name is : nab_personal_banking_file_set/life-moments/home-property/buy-next-home/parsed-v3-private-sale.html\nThe output file name is : nab_personal_banking_file_set/life-moments/home-property/buy-next-home/parsed-v3-after-auction.html\nThe output file name is : nab_personal_banking_file_set/life-moments/home-property/buy-next-home/parsed-v3-parsed-v2-private-sale.html\nThe output file name is : nab_personal_banking_file_set/life-moments/home-property/buy-next-home/parsed-v3-parsed-v2-after-auction.html\nThe output file name is : nab_personal_banking_file_set/interest-rates-fees-and-charges/parsed-v3-indicator-rates-for-other-personal-lending.html\nThe output file name is : nab_personal_banking_file_set/interest-rates-fees-and-charges/parsed-v3-indicator-rates-deposit-products.html\nThe output file name is : nab_personal_banking_file_set/interest-rates-fees-and-charges/parsed-v3-home-loan-interest-rates.html\nThe output file name is : nab_personal_banking_file_set/interest-rates-fees-and-charges/parsed-v3-parsed-v2-indicator-rates-for-other-personal-lending.html\nThe output file name is : nab_personal_banking_file_set/interest-rates-fees-and-charges/parsed-v3-parsed-v2-indicator-rates-deposit-products.html\nThe output file name is : nab_personal_banking_file_set/interest-rates-fees-and-charges/parsed-v3-parsed-v2-home-loan-interest-rates.html\nThe output file name is : nab_personal_banking_file_set/credit-cards/parsed-v3-earn-redeem-rewards.html\nThe output file name is : nab_personal_banking_file_set/credit-cards/parsed-v3-nab-low-rate-card.html\nThe output file name is : nab_personal_banking_file_set/credit-cards/parsed-v3-purchase-protection-insurance.html\nThe output file name is : nab_personal_banking_file_set/credit-cards/parsed-v3-learn-more.html\nThe output file name is : nab_personal_banking_file_set/credit-cards/parsed-v3-nab-concierge-service.html\nThe output file name is : nab_personal_banking_file_set/credit-cards/parsed-v3-qantas-rewards.html\nThe output file name is : nab_personal_banking_file_set/credit-cards/parsed-v3-offers.html\nThe output file name is : nab_personal_banking_file_set/credit-cards/parsed-v3-parsed-v2-earn-redeem-rewards.html\nThe output file name is : nab_personal_banking_file_set/credit-cards/parsed-v3-parsed-v2-nab-low-rate-card.html\nThe output file name is : nab_personal_banking_file_set/credit-cards/parsed-v3-parsed-v2-purchase-protection-insurance.html\nThe output file name is : nab_personal_banking_file_set/credit-cards/parsed-v3-parsed-v2-learn-more.html\nThe output file name is : nab_personal_banking_file_set/credit-cards/parsed-v3-parsed-v2-nab-concierge-service.html\nThe output file name is : nab_personal_banking_file_set/credit-cards/parsed-v3-parsed-v2-qantas-rewards.html\nThe output file name is : nab_personal_banking_file_set/credit-cards/parsed-v3-parsed-v2-offers.html\nThe output file name is : nab_personal_banking_file_set/credit-cards/nab-rewards-cards/parsed-v3-velocity-points.html\nThe output file name is : nab_personal_banking_file_set/credit-cards/nab-rewards-cards/parsed-v3-signature-card.html\nThe output file name is : nab_personal_banking_file_set/credit-cards/nab-rewards-cards/parsed-v3-parsed-v2-velocity-points.html\nThe output file name is : nab_personal_banking_file_set/credit-cards/nab-rewards-cards/parsed-v3-parsed-v2-signature-card.html\nThe output file name is : nab_personal_banking_file_set/credit-cards/terms-conditions/parsed-v3-digital.html\nThe output file name is : nab_personal_banking_file_set/credit-cards/terms-conditions/parsed-v3-nab-straightup-card.html\nThe output file name is : nab_personal_banking_file_set/credit-cards/terms-conditions/parsed-v3-card-based-electronic-banking.html\nThe output file name is : nab_personal_banking_file_set/credit-cards/terms-conditions/parsed-v3-parsed-v2-digital.html\nThe output file name is : nab_personal_banking_file_set/credit-cards/terms-conditions/parsed-v3-parsed-v2-nab-straightup-card.html\nThe output file name is : nab_personal_banking_file_set/credit-cards/terms-conditions/parsed-v3-parsed-v2-card-based-electronic-banking.html\nThe output file name is : nab_personal_banking_file_set/credit-cards/terms-conditions/digital/parsed-v3-guide.html\nThe output file name is : nab_personal_banking_file_set/credit-cards/terms-conditions/digital/parsed-v3-parsed-v2-guide.html\nThe output file name is : nab_personal_banking_file_set/credit-cards/qantas-rewards/parsed-v3-nab-qantas-rewards-premium-card.html\nThe output file name is : nab_personal_banking_file_set/credit-cards/qantas-rewards/parsed-v3-nab-qantas-rewards-signature-card.html\nThe output file name is : nab_personal_banking_file_set/credit-cards/qantas-rewards/parsed-v3-parsed-v2-nab-qantas-rewards-premium-card.html\nThe output file name is : nab_personal_banking_file_set/credit-cards/qantas-rewards/parsed-v3-parsed-v2-nab-qantas-rewards-signature-card.html\nThe output file name is : nab_personal_banking_file_set/credit-cards/calculators-and-tools/parsed-v3-product-selector.html\nThe output file name is : nab_personal_banking_file_set/credit-cards/calculators-and-tools/parsed-v3-parsed-v2-product-selector.html\nThe output file name is : nab_personal_banking_file_set/credit-cards/nab-straightup-card/parsed-v3-monthly-repayments-and-fee-info.html\nThe output file name is : nab_personal_banking_file_set/credit-cards/nab-straightup-card/parsed-v3-parsed-v2-monthly-repayments-and-fee-info.html\nThe output file name is : nab_personal_banking_file_set/home-loans/parsed-v3-refinance.html\nThe output file name is : nab_personal_banking_file_set/home-loans/parsed-v3-parsed-v2-refinance.html\nThe output file name is : nab_personal_banking_file_set/home-loans/calculators/parsed-v3-help-me-choose.html\nThe output file name is : nab_personal_banking_file_set/home-loans/calculators/parsed-v3-loan-repayments-calculator.html\nThe output file name is : nab_personal_banking_file_set/home-loans/calculators/parsed-v3-parsed-v2-help-me-choose.html\nThe output file name is : nab_personal_banking_file_set/home-loans/calculators/parsed-v3-parsed-v2-loan-repayments-calculator.html\nThe output file name is : nab_personal_banking_file_set/online-banking/parsed-v3-tax-time-tools.html\nThe output file name is : nab_personal_banking_file_set/online-banking/parsed-v3-parsed-v2-tax-time-tools.html\nThe output file name is : nab_personal_banking_file_set/online-banking/digital-payments/parsed-v3-beemit.html\nThe output file name is : nab_personal_banking_file_set/online-banking/digital-payments/parsed-v3-parsed-v2-beemit.html\nThe output file name is : nab_personal_banking_file_set/super-and-investments/parsed-v3-self-managed-super-fund.html\nThe output file name is : nab_personal_banking_file_set/super-and-investments/parsed-v3-parsed-v2-self-managed-super-fund.html\nThe output file name is : nab_personal_banking_file_set/super-and-investments/investment-lending/parsed-v3-nab-super-lever.html\nThe output file name is : nab_personal_banking_file_set/super-and-investments/investment-lending/parsed-v3-parsed-v2-nab-super-lever.html\nThe output file name is : nab_personal_banking_file_set/super-and-investments/self-managed-super-fund/parsed-v3-smsf-investments.html\nThe output file name is : nab_personal_banking_file_set/super-and-investments/self-managed-super-fund/parsed-v3-parsed-v2-smsf-investments.html\nThe output file name is : nab_personal_banking_file_set/personal-loans/parsed-v3-home-renovation-loans.html\nThe output file name is : nab_personal_banking_file_set/personal-loans/parsed-v3-parsed-v2-home-renovation-loans.html\nThe output file name is : nab_personal_banking_file_set/personal-loans/understand-personal-loan-rates-terms/parsed-v3-how-to-apply-online.html\nThe output file name is : nab_personal_banking_file_set/personal-loans/understand-personal-loan-rates-terms/parsed-v3-parsed-v2-how-to-apply-online.html\nThe output file name is : nab_personal_banking_file_set/accounts/parsed-v3-joint-accounts.html\nThe output file name is : nab_personal_banking_file_set/accounts/parsed-v3-parsed-v2-joint-accounts.html\nThe output file name is : nab_personal_banking_file_set/international-banking/parsed-v3-foreign-exchange-rates.html\nThe output file name is : nab_personal_banking_file_set/international-banking/parsed-v3-parsed-v2-foreign-exchange-rates.html\nThe output file name is : nab_personal_banking_file_set/buy-now-pay-later/terms-conditions/parsed-v3-resolve-issues.html\nThe output file name is : nab_personal_banking_file_set/buy-now-pay-later/terms-conditions/parsed-v3-parsed-v2-resolve-issues.html\nThe output file name is : nab_personal_banking_file_set/youth-banking/parsed-v3-kids.html\nThe output file name is : nab_personal_banking_file_set/youth-banking/parsed-v3-parsed-v2-kids.html\nThe output file name is : nab_personal_banking_file_set/youth-banking/teens/parsed-v3-first-debit-card.html\nThe output file name is : nab_personal_banking_file_set/youth-banking/teens/parsed-v3-parsed-v2-first-debit-card.html\nThe output file name is : nab_personal_banking_file_set/youth-banking/kids/parsed-v3-bank-accounts-children.html\nThe output file name is : nab_personal_banking_file_set/youth-banking/kids/parsed-v3-how-to-open-account.html\nThe output file name is : nab_personal_banking_file_set/youth-banking/kids/parsed-v3-parsed-v2-bank-accounts-children.html\nThe output file name is : nab_personal_banking_file_set/youth-banking/kids/parsed-v3-parsed-v2-how-to-open-account.html\nThe output file name is : nab_personal_banking_file_set/insurance/parsed-v3-off-sale-products.html\nThe output file name is : nab_personal_banking_file_set/insurance/parsed-v3-parsed-v2-off-sale-products.html\nThe output file name is : nab_personal_banking_file_set/insurance/complimentary-credit-card-insurances/parsed-v3-international-travel-insurance.html\nThe output file name is : nab_personal_banking_file_set/insurance/complimentary-credit-card-insurances/parsed-v3-parsed-v2-international-travel-insurance.html\n"
     ]
    }
   ],
   "source": [
    "## Execution \n",
    "for root, _, files in os.walk('nab_personal_banking_file_set'):\n",
    "  for filename in files:\n",
    "    if filename.endswith(\"html\"):\n",
    "      html_file_path = os.path.join(root,filename)\n",
    "      output_filename = f'parsed-v3-{filename}'\n",
    "      output_path = os.path.join(root,output_filename)\n",
    "      print(f'The output file name is : {output_path}')\n",
    "      parse_html_file_sample(html_file_path,output_path)\n"
   ]
  },
  {
   "cell_type": "markdown",
   "metadata": {
    "application/vnd.databricks.v1+cell": {
     "cellMetadata": {},
     "inputWidgets": {},
     "nuid": "4b94563b-de1e-40e8-807e-8e81053cab57",
     "showTitle": false,
     "title": ""
    }
   },
   "source": [
    "## Move to DBFS"
   ]
  },
  {
   "cell_type": "code",
   "execution_count": 0,
   "metadata": {
    "application/vnd.databricks.v1+cell": {
     "cellMetadata": {
      "byteLimit": 2048000,
      "rowLimit": 10000
     },
     "inputWidgets": {},
     "nuid": "bb00ba0f-bd5d-44ac-87a7-3e597ea9208d",
     "showTitle": false,
     "title": ""
    }
   },
   "outputs": [],
   "source": [
    "%cp  nab_personal_banking_file_set/  '/dbfs/nab_demo/' --recursive"
   ]
  },
  {
   "cell_type": "code",
   "execution_count": 0,
   "metadata": {
    "application/vnd.databricks.v1+cell": {
     "cellMetadata": {
      "byteLimit": 2048000,
      "rowLimit": 10000
     },
     "inputWidgets": {},
     "nuid": "049a6deb-be9c-4a23-b7c1-3c3eba8623df",
     "showTitle": false,
     "title": ""
    }
   },
   "outputs": [
    {
     "output_type": "execute_result",
     "data": {
      "text/plain": [
       "[FileInfo(path='dbfs:/nab_demo/nab_personal_banking_file_set/buy-now-pay-later/terms-conditions/parsed-v2-resolve-issues.html', name='parsed-v2-resolve-issues.html', size=19468, modificationTime=1689909480000),\n",
       " FileInfo(path='dbfs:/nab_demo/nab_personal_banking_file_set/buy-now-pay-later/terms-conditions/resolve-issues.html', name='resolve-issues.html', size=410200, modificationTime=1689909479000)]"
      ]
     },
     "execution_count": 82,
     "metadata": {},
     "output_type": "execute_result"
    }
   ],
   "source": [
    "dbutils.fs.ls('dbfs:/nab_demo/nab_personal_banking_file_set/buy-now-pay-later/terms-conditions/')"
   ]
  },
  {
   "cell_type": "code",
   "execution_count": 0,
   "metadata": {
    "application/vnd.databricks.v1+cell": {
     "cellMetadata": {
      "byteLimit": 2048000,
      "rowLimit": 10000
     },
     "inputWidgets": {},
     "nuid": "c140ac5d-386d-44bc-ae48-3b24ec5b6004",
     "showTitle": false,
     "title": ""
    }
   },
   "outputs": [
    {
     "output_type": "stream",
     "name": "stdout",
     "output_type": "stream",
     "text": [
      "\u001B[0m\u001B[34;42mattachments\u001B[0m/  \u001B[34;42mnab_attachments\u001B[0m/  \u001B[34;42mnab_pages\u001B[0m/  \u001B[34;42mpages\u001B[0m/\r\n"
     ]
    }
   ],
   "source": [
    "%ls /dbfs/nab_demo"
   ]
  },
  {
   "cell_type": "markdown",
   "metadata": {
    "application/vnd.databricks.v1+cell": {
     "cellMetadata": {},
     "inputWidgets": {},
     "nuid": "98eba3ec-8869-484b-b82c-58d32641b046",
     "showTitle": false,
     "title": ""
    }
   },
   "source": [
    "## Section 2 - LATEST Modified Script to return a pandas dataframe"
   ]
  },
  {
   "cell_type": "code",
   "execution_count": 0,
   "metadata": {
    "application/vnd.databricks.v1+cell": {
     "cellMetadata": {
      "byteLimit": 2048000,
      "rowLimit": 10000
     },
     "inputWidgets": {},
     "nuid": "67c25ab3-8f60-41aa-b1a4-7a4ae30db81c",
     "showTitle": false,
     "title": ""
    }
   },
   "outputs": [],
   "source": [
    "#Create exclusion list to manually remove the common elements from each files\n",
    "#This includes both header and footer columns\n",
    "\n",
    "header_excl_part_1 = \"NAB Search Search nab.com.au Search nab.com.au Latest offers close notification\" \n",
    "header_excl_part_2 = \"Update your browser\"\n",
    "header_excl_part_3 = \"NAB Mobile Banking app Update your browser.\" \n",
    "header_excl_part_4 = \"This website doesn't support your browser and may impact your experience.\"\n",
    "\n",
    "header_excl_part_5 = \"How was your visit to the NAB website? We’d love to hear from you. New NAB Now Pay Later Link your NAB Classic Banking account to NAB Now Pay Later to split your purchases into four simple repayments and pay no interest or fees. Offer Up to $300 cash back Looking for a credit card that not only offers a low interest rate but provides up to $300 cash back? Offer applies to a new NAB Low Rate Card . $100 cash back per month for the first three months from account opening when you spend $500 per month on purchases. Awarded monthly based on statement period and credited on closing date of statement. Purchases must be processed and charged in the relevant month. Excludes gambling/gaming related transactions. Offer may vary or end at any time. Not available when closing or transferring from another NAB credit card or with other NAB card offer. View calculators $0 international transfer fee Transfer your money securely overseas using NAB Internet Banking or the NAB app. $0 transfer fee when sending in a foreign currency. Discounts and benefits With a NAB business transaction account, you can enjoy discounts, benefits and offers from our partners. Get a fast, simple unsecured loan with NAB QuickBiz. No physical assets required for security and fast access to funds. It's easy to apply online and you'll receive an instant decision. Offer 100,000 NAB Rewards bonus points Earn 100,000 NAB Rewards Bonus Points when you spend $4,000 on everyday business purchases within 60 days of your account opening. Terms and conditions apply. Take payments with NAB Easy Tap Download the NAB Easy Tap app to your Android device for a low-cost, simple and easy way to take contactless card payments. Related tools and help NAB Connect NAB Connect is a powerful online banking solution that offers your business the flexibility of multiple users, advanced reporting and much more. Business product selection, made easy. Explore multiple products all in one place with Small Biz Explorer. The Morning Call Podcast Start your day with the NAB Morning Call Podcast, for the latest overnight key economic and market information straight from our team of experts. The Morning Call Podcast Start your day with the NAB Morning Call Podcast, for the latest overnight key economic and market information straight from our team of experts. More about sustainability Fraud and scams support Troubleshooting guides Fraud and scams support Search nab.com.au Login Internet Banking\"\n",
    "\n",
    "footer_exclusion_blurb = \"Any advice on our website has been prepared without considering your objectives, financial situation or needs. Before acting on any advice, consider whether it is appropriate for your circumstances and view the Product Disclosure Statement or Terms and Conditions available online or by contacting us. Credit applications are subject to credit assessment criteria. Interest rates, fees and charges are subject to change. Target Market Determinations for our products are available at . Products issued by NAB unless stated otherwise. © National Australia Bank Limited ABN 12 004 044 937 AFSL and Australian Credit Licence 230686\"\n"
   ]
  },
  {
   "cell_type": "code",
   "execution_count": 0,
   "metadata": {
    "application/vnd.databricks.v1+cell": {
     "cellMetadata": {
      "byteLimit": 2048000,
      "rowLimit": 10000
     },
     "inputWidgets": {},
     "nuid": "8274df43-a8d9-4ff2-9a82-cccbcda72d89",
     "showTitle": false,
     "title": ""
    }
   },
   "outputs": [],
   "source": [
    "#Code to parse the html files  and create a clean set of files to be loaded as a delta table\n",
    "\n",
    "from bs4 import BeautifulSoup\n",
    "import re\n",
    "\n",
    "def remove_hyperlinks(soup):\n",
    "    # Find all anchor tags (hyperlinks) in the HTML content\n",
    "    for a_tag in soup.find_all('a'):\n",
    "        # Remove the entire anchor tag (hyperlink element) from the HTML content\n",
    "        a_tag.extract()\n",
    "\n",
    "def remove_special_characters_and_spaces(text):\n",
    "    # Remove special characters using regular expressions\n",
    "    cleaned_text = re.sub(r'^[\\s•·●▪◦▸\\-–—‣⁃▹*]+(?=\\s*\\d*[.,]?\\s*)', '', text, flags=re.MULTILINE)\n",
    "    cleaned_text = re.sub(\"\\n\\n+\",' ', cleaned_text )\n",
    "    \n",
    "    return cleaned_text\n",
    "\n",
    "def preserve_newlines(soup):\n",
    "    # Preserve newlines within specific tags that may use newlines for formatting\n",
    "    for tag in soup.find_all(['pre', 'textarea']):\n",
    "        tag.insert_before('\\n')\n",
    "        tag.insert_after('\\n')\n",
    "        tag.unwrap()\n",
    "  \n",
    "def remove_images_and_objects(soup):\n",
    "    # Find all mage tags (img) and document tags (embed, object, iframe) and remove them from the HTML content\n",
    "    for doc_tag in soup.find_all(['img','embed', 'object', 'iframe']):\n",
    "        doc_tag.extract()\n",
    "\n",
    "def remove_specific_text(passed_string , blurb_to_remove):\n",
    "  #Find and remove the blurb of text from all files\n",
    "  cleaned_text = passed_string.replace(blurb_to_remove ,'')\n",
    "  \n",
    "  return cleaned_text\n",
    "\n",
    "def parse_html_file_sample(file_path):\n",
    "    with open(file_path, 'r', encoding='utf-8') as file:\n",
    "        content = file.read() \n",
    "\n",
    "     # Remove non-UTF-8 characters\n",
    "    content = content.encode('utf-8', 'ignore').decode('utf-8')\n",
    "\n",
    "    # Create a BeautifulSoup object to parse the HTML content\n",
    "    soup = BeautifulSoup(content, 'html.parser')\n",
    "\n",
    "    # Step 1: Remove hyperlinks from the HTML content\n",
    "    remove_hyperlinks(soup)\n",
    "\n",
    "    # Step 2: Get the updated HTML content without hyperlinks\n",
    "    html_without_hyperlinks = soup.prettify()\n",
    "\n",
    "   # Step 3:  Remove special characters from the HTML content\n",
    "    clean_html_content = remove_special_characters_and_spaces(html_without_hyperlinks)\n",
    "\n",
    "  # Step 4: Remove images and embedded documents from the HTML content\n",
    "    soup_without_images_or_documents = BeautifulSoup(clean_html_content, 'html.parser')\n",
    "    remove_images_and_objects(soup_without_images_or_documents)\n",
    "\n",
    " # Preserve newlines within specific tags (pre, textarea) that may use newlines for formatting\n",
    "    preserve_newlines(soup_without_images_or_documents)\n",
    "\n",
    "  # Step 5: Remove newline characters from the HTML content\n",
    "    # final_cleaned_html = remove_newline_characters(soup_without_images_or_documents.get_text())\n",
    "    final_cleaned_html = soup_without_images_or_documents.get_text()\n",
    "\n",
    "  #Step 6: Remove any additional special characters from the text string \n",
    "    without_special = re.sub(\"\\s+\",' ', final_cleaned_html )\n",
    "\n",
    "    # Remove the common text blurb across all files\n",
    "    for i in [header_excl_part_1,header_excl_part_2,header_excl_part_3,header_excl_part_4,header_excl_part_5,footer_exclusion_blurb]:\n",
    "      without_special = remove_specific_text(without_special,i)\n",
    "      \n",
    "  # # Save the updated HTML content to a new file in the local repository\n",
    "  #   with open(output_path, 'w', encoding='utf-8') as output_file:\n",
    "  #       output_file.write(final_cleaned_html)\n",
    "\n",
    "    # return cleaned_html\n",
    "    return without_special"
   ]
  },
  {
   "cell_type": "markdown",
   "metadata": {
    "application/vnd.databricks.v1+cell": {
     "cellMetadata": {},
     "inputWidgets": {},
     "nuid": "a012136a-94e9-4059-9b09-bad9f5f6aaf6",
     "showTitle": false,
     "title": ""
    }
   },
   "source": [
    "### Execution of the code"
   ]
  },
  {
   "cell_type": "code",
   "execution_count": 0,
   "metadata": {
    "application/vnd.databricks.v1+cell": {
     "cellMetadata": {
      "byteLimit": 2048000,
      "rowLimit": 10000
     },
     "inputWidgets": {},
     "nuid": "cd62c6bd-a9cc-452c-b905-7a75d39be049",
     "showTitle": false,
     "title": ""
    }
   },
   "outputs": [
    {
     "output_type": "stream",
     "name": "stdout",
     "output_type": "stream",
     "text": [
      "input file location is : personal_v2/FormNPS.html\ninput file location is : personal_v2/accounts.html\ninput file location is : personal_v2/buy-now-pay-later.html\ninput file location is : personal_v2/calculators-and-financial-tools.html\ninput file location is : personal_v2/credit-cards.html\ninput file location is : personal_v2/home-loans.html\ninput file location is : personal_v2/insurance.html\ninput file location is : personal_v2/interest-rates-fees-and-charges.html\ninput file location is : personal_v2/international-banking.html\ninput file location is : personal_v2/life-moments.html\ninput file location is : personal_v2/mobile-onboarding-offers.html\ninput file location is : personal_v2/online-banking.html\ninput file location is : personal_v2/personal-loans.html\ninput file location is : personal_v2/private-wealth.html\ninput file location is : personal_v2/super-and-investments.html\ninput file location is : personal_v2/youth-banking.html\ninput file location is : personal_v2/_jcr_content/root/responsivegrid_2088157678/section_container_co/responsivegrid.html\ninput file location is : personal_v2/accounts/cheque-payments.html\ninput file location is : personal_v2/accounts/debit-cards.html\ninput file location is : personal_v2/accounts/joint-accounts.html\ninput file location is : personal_v2/accounts/nab-debit-card.html\ninput file location is : personal_v2/accounts/nab-term-deposit-checklist.html\ninput file location is : personal_v2/accounts/nab-term-deposit.html\ninput file location is : personal_v2/accounts/opening-a-new-personal-account.html\ninput file location is : personal_v2/accounts/savings-accounts.html\ninput file location is : personal_v2/accounts/spriggy.html\ninput file location is : personal_v2/accounts/transaction-accounts.html\ninput file location is : personal_v2/accounts/welcome-to-nab.html\ninput file location is : personal_v2/accounts/cheque-payments/cheque-policy.html\ninput file location is : personal_v2/accounts/debit-cards/activate-your-card-and-set-your-pin.html\ninput file location is : personal_v2/accounts/debit-cards/nab-platinum-visa-debit-card-checklist.html\ninput file location is : personal_v2/accounts/debit-cards/nab-platinum-visa-debit-card.html\ninput file location is : personal_v2/accounts/debit-cards/nab-visa-debit-card-checklist.html\ninput file location is : personal_v2/accounts/debit-cards/nab-visa-debit-card.html\ninput file location is : personal_v2/accounts/savings-accounts/budget-planner.html\ninput file location is : personal_v2/accounts/savings-accounts/nab-cash-manager.html\ninput file location is : personal_v2/accounts/savings-accounts/nab-isaver-checklist-mobile.html\ninput file location is : personal_v2/accounts/savings-accounts/nab-isaver-checklist.html\ninput file location is : personal_v2/accounts/savings-accounts/nab-isaver.html\ninput file location is : personal_v2/accounts/savings-accounts/nab-reward-saver-checklist-mobile.html\ninput file location is : personal_v2/accounts/savings-accounts/nab-reward-saver-checklist.html\ninput file location is : personal_v2/accounts/savings-accounts/nab-reward-saver.html\ninput file location is : personal_v2/accounts/savings-accounts/ubank-usaver-smsf-nab-cash-manager-rate.html\ninput file location is : personal_v2/accounts/savings-accounts/nab-reward-saver/second-last-banking-day.html\ninput file location is : personal_v2/accounts/spriggy/graduates.html\ninput file location is : personal_v2/accounts/spriggy/parents.html\ninput file location is : personal_v2/accounts/transaction-accounts/nab-classic-banking-checklist-mobile.html\ninput file location is : personal_v2/accounts/transaction-accounts/nab-classic-banking-checklist.html\ninput file location is : personal_v2/accounts/transaction-accounts/nab-classic-banking.html\ninput file location is : personal_v2/accounts/transaction-accounts/nab-retirement-account.html\ninput file location is : personal_v2/accounts/transaction-accounts/personal-overdrafts.html\ninput file location is : personal_v2/accounts/transaction-accounts/switching-banks.html\ninput file location is : personal_v2/buy-now-pay-later/how-it-works.html\ninput file location is : personal_v2/buy-now-pay-later/nnpl-credit-offer.html\ninput file location is : personal_v2/buy-now-pay-later/terms-conditions.html\ninput file location is : personal_v2/buy-now-pay-later/terms-conditions/account-limit-available-spend.html\ninput file location is : personal_v2/buy-now-pay-later/terms-conditions/digital-card-terms-complaints-privacy.html\ninput file location is : personal_v2/buy-now-pay-later/terms-conditions/resolve-issues.html\ninput file location is : personal_v2/buy-now-pay-later/terms-conditions/what-is-nab-now.html\ninput file location is : personal_v2/credit-cards/balance-transfer-interest-free-days.html\ninput file location is : personal_v2/credit-cards/balance-transfers.html\ninput file location is : personal_v2/credit-cards/calculators-and-tools.html\ninput file location is : personal_v2/credit-cards/coles-gift-card-giveaway-competition.html\ninput file location is : personal_v2/credit-cards/credit-card-benefits.html\ninput file location is : personal_v2/credit-cards/credit-card-types.html\ninput file location is : personal_v2/credit-cards/earn-redeem-rewards.html\ninput file location is : personal_v2/credit-cards/electronic-consent.html\ninput file location is : personal_v2/credit-cards/how-to-apply.html\ninput file location is : personal_v2/credit-cards/learn-more.html\ninput file location is : personal_v2/credit-cards/low-fee-cards.html\ninput file location is : personal_v2/credit-cards/nab-concierge-service.html\ninput file location is : personal_v2/credit-cards/nab-low-rate-card-cash-back-checklist.html\ninput file location is : personal_v2/credit-cards/nab-low-rate-card-checklist.html\ninput file location is : personal_v2/credit-cards/nab-low-rate-card.html\ninput file location is : personal_v2/credit-cards/nab-rewards-cards.html\ninput file location is : personal_v2/credit-cards/nab-rewards-program.html\ninput file location is : personal_v2/credit-cards/nab-straightup-card-for-sole-traders.html\ninput file location is : personal_v2/credit-cards/nab-straightup-card.html\ninput file location is : personal_v2/credit-cards/offers.html\ninput file location is : personal_v2/credit-cards/online-secure.html\ninput file location is : personal_v2/credit-cards/post-app-income-verification-page.html\ninput file location is : personal_v2/credit-cards/purchase-protection-insurance.html\ninput file location is : personal_v2/credit-cards/qantas-rewards.html\ninput file location is : personal_v2/credit-cards/terms-conditions.html\ninput file location is : personal_v2/credit-cards/visa-click-to-pay.html\ninput file location is : personal_v2/credit-cards/visa-offers.html\ninput file location is : personal_v2/credit-cards/balance-transfers/acknowledgement-of-declaration-authority.html\ninput file location is : personal_v2/credit-cards/balance-transfers/terms-conditions.html\ninput file location is : personal_v2/credit-cards/calculators-and-tools/balance-transfer-calculator.html\ninput file location is : personal_v2/credit-cards/calculators-and-tools/compare.html\ninput file location is : personal_v2/credit-cards/calculators-and-tools/product-selector.html\ninput file location is : personal_v2/credit-cards/calculators-and-tools/balance-transfer-calculator/balance-transfer-calculator-assumptions.html\ninput file location is : personal_v2/credit-cards/low-fee-cards/nab-low-fee-card-checklist.html\ninput file location is : personal_v2/credit-cards/low-fee-cards/nab-low-fee-card.html\ninput file location is : personal_v2/credit-cards/low-fee-cards/nab-low-fee-platinum-card-checklist.html\ninput file location is : personal_v2/credit-cards/low-fee-cards/nab-low-fee-platinum-card.html\ninput file location is : personal_v2/credit-cards/nab-rewards-cards/platinum-card-checklist.html\ninput file location is : personal_v2/credit-cards/nab-rewards-cards/platinum-card.html\ninput file location is : personal_v2/credit-cards/nab-rewards-cards/signature-card-checklist.html\ninput file location is : personal_v2/credit-cards/nab-rewards-cards/signature-card.html\ninput file location is : personal_v2/credit-cards/nab-rewards-cards/velocity-points.html\ninput file location is : personal_v2/credit-cards/nab-rewards-cards/velocity-points/platinum-checklist.html\ninput file location is : personal_v2/credit-cards/nab-rewards-cards/velocity-points/signature-checklist.html\ninput file location is : personal_v2/credit-cards/nab-straightup-card-for-sole-traders/checklist.html\ninput file location is : personal_v2/credit-cards/nab-straightup-card/application-checklist.html\ninput file location is : personal_v2/credit-cards/nab-straightup-card/monthly-repayments-and-fee-info.html\ninput file location is : personal_v2/credit-cards/offers/0-for-32-bt.html\ninput file location is : personal_v2/credit-cards/offers/flybuys-offer-signature-rewards-card.html\ninput file location is : personal_v2/credit-cards/offers/flybuys-offer.html\ninput file location is : personal_v2/credit-cards/offers/low-fee.html\ninput file location is : personal_v2/credit-cards/offers/low-rate.html\ninput file location is : personal_v2/credit-cards/offers/nab-low-rate-fee-cards-personal-loan-35k.html\ninput file location is : personal_v2/credit-cards/offers/nab-low-rate-fee-cards-personal-loan.html\ninput file location is : personal_v2/credit-cards/offers/qantas-premium-partner.html\ninput file location is : personal_v2/credit-cards/offers/qantas-premium.html\ninput file location is : personal_v2/credit-cards/offers/qantas-signature-partner.html\ninput file location is : personal_v2/credit-cards/offers/qantas-signature.html\ninput file location is : personal_v2/credit-cards/offers/rewards-platinum.html\ninput file location is : personal_v2/credit-cards/offers/rewards-signature.html\ninput file location is : personal_v2/credit-cards/offers/straightup-card.html\ninput file location is : personal_v2/credit-cards/offers/velocity-points-automatic-redemption.html\ninput file location is : personal_v2/credit-cards/offers/velocity-points-offer.html\ninput file location is : personal_v2/credit-cards/qantas-rewards/nab-qantas-rewards-premium-card-checklist.html\ninput file location is : personal_v2/credit-cards/qantas-rewards/nab-qantas-rewards-premium-card.html\ninput file location is : personal_v2/credit-cards/qantas-rewards/nab-qantas-rewards-signature-card-checklist.html\ninput file location is : personal_v2/credit-cards/qantas-rewards/nab-qantas-rewards-signature-card.html\ninput file location is : personal_v2/credit-cards/terms-conditions/card-based-electronic-banking.html\ninput file location is : personal_v2/credit-cards/terms-conditions/digital.html\ninput file location is : personal_v2/credit-cards/terms-conditions/nab-qantas-credit-card-rewards.html\ninput file location is : personal_v2/credit-cards/terms-conditions/nab-straightup-card.html\ninput file location is : personal_v2/credit-cards/terms-conditions/digital/definitions.html\ninput file location is : personal_v2/credit-cards/terms-conditions/digital/guide.html\ninput file location is : personal_v2/credit-cards/terms-conditions/digital/how-things-work.html\ninput file location is : personal_v2/credit-cards/terms-conditions/digital/managing.html\ninput file location is : personal_v2/credit-cards/terms-conditions/nab-straightup-card/definitions.html\ninput file location is : personal_v2/credit-cards/terms-conditions/nab-straightup-card/guide.html\ninput file location is : personal_v2/credit-cards/terms-conditions/nab-straightup-card/how-things-work.html\ninput file location is : personal_v2/credit-cards/terms-conditions/nab-straightup-card/managing.html\ninput file location is : personal_v2/home-loans/calculators.html\ninput file location is : personal_v2/home-loans/contact-us.html\ninput file location is : personal_v2/home-loans/digitalsigning.html\ninput file location is : personal_v2/home-loans/family-home-guarantee.html\ninput file location is : personal_v2/home-loans/find-expert.html\ninput file location is : personal_v2/home-loans/first-home-buyers.html\ninput file location is : personal_v2/home-loans/first-home-guarantee.html\ninput file location is : personal_v2/home-loans/home-guarantee-scheme.html\ninput file location is : personal_v2/home-loans/mobile-banker.html\ninput file location is : personal_v2/home-loans/nab-base-variable-rate-home-loan.html\ninput file location is : personal_v2/home-loans/nab-choice-package.html\ninput file location is : personal_v2/home-loans/nab-defence-force-home-loan.html\ninput file location is : personal_v2/home-loans/nab-fixed-rate-home-loan.html\ninput file location is : personal_v2/home-loans/nab-flexiplus-mortgage-facility.html\ninput file location is : personal_v2/home-loans/nab-portfolio-facility.html\ninput file location is : personal_v2/home-loans/nab-variable-rate-offset-home-loan.html\ninput file location is : personal_v2/home-loans/offers.html\ninput file location is : personal_v2/home-loans/premier.html\ninput file location is : personal_v2/home-loans/property-investors.html\ninput file location is : personal_v2/home-loans/property-market-reports.html\ninput file location is : personal_v2/home-loans/refinance.html\ninput file location is : personal_v2/home-loans/regional-first-home-buyer-guarantee.html\ninput file location is : personal_v2/home-loans/stamp-duty.html\ninput file location is : personal_v2/home-loans/top-up.html\ninput file location is : personal_v2/home-loans/calculators/borrowing-calculator.html\ninput file location is : personal_v2/home-loans/calculators/equity-loan-calculator.html\ninput file location is : personal_v2/home-loans/calculators/help-me-choose.html\ninput file location is : personal_v2/home-loans/calculators/loan-repayments-calculator.html\ninput file location is : personal_v2/home-loans/calculators/stamp-duty-calculator.html\ninput file location is : personal_v2/home-loans/calculators/borrowing-calculator/terms-conditions.html\ninput file location is : personal_v2/home-loans/calculators/help-me-choose/_jcr_content/root/responsivegrid/responsivegrid_122328073/section_container/responsivegrid/link_card_copy.html\ninput file location is : personal_v2/home-loans/contact-us/appointment-faq.html\ninput file location is : personal_v2/home-loans/first-home-buyers/first-home-super-saver-scheme.html\ninput file location is : personal_v2/home-loans/nab-defence-force-home-loan/compare-nab-defence-force-loans.html\ninput file location is : personal_v2/home-loans/nab-defence-force-home-loan/fixed-interest-rate.html\ninput file location is : personal_v2/home-loans/nab-defence-force-home-loan/nab-defence-force-home-loan-choice-package.html\ninput file location is : personal_v2/home-loans/nab-defence-force-home-loan/variable-interest-rate.html\ninput file location is : personal_v2/insurance/car.html\ninput file location is : personal_v2/insurance/caravan-trailer.html\ninput file location is : personal_v2/insurance/complimentary-credit-card-insurances.html\ninput file location is : personal_v2/insurance/critical-illness-insurance.html\ninput file location is : personal_v2/insurance/home-contents.html\ninput file location is : personal_v2/insurance/injury-insurance.html\ninput file location is : personal_v2/insurance/landlord.html\ninput file location is : personal_v2/insurance/life-insurance.html\ninput file location is : personal_v2/insurance/off-sale-products.html\ninput file location is : personal_v2/insurance/travel-insurance.html\ninput file location is : personal_v2/insurance/complimentary-credit-card-insurances/extended-warranty-insurance.html\ninput file location is : personal_v2/insurance/complimentary-credit-card-insurances/international-travel-insurance.html\ninput file location is : personal_v2/insurance/complimentary-credit-card-insurances/interstate-flight-inconvenience-insurance.html\ninput file location is : personal_v2/insurance/complimentary-credit-card-insurances/nab-complimentary-card-insurance-policy-changes.html\ninput file location is : personal_v2/insurance/complimentary-credit-card-insurances/purchase-protection-insurance.html\ninput file location is : personal_v2/insurance/complimentary-credit-card-insurances/rental-vehicle-excess-australia-insurance.html\ninput file location is : personal_v2/insurance/complimentary-credit-card-insurances/transit-accident-insurance.html\ninput file location is : personal_v2/interest-rates-fees-and-charges/home-loan-interest-rates.html\ninput file location is : personal_v2/interest-rates-fees-and-charges/indicator-rates-deposit-products.html\ninput file location is : personal_v2/interest-rates-fees-and-charges/indicator-rates-for-other-personal-lending.html\ninput file location is : personal_v2/interest-rates-fees-and-charges/indicator-rates-selected-term-deposit-products.html\ninput file location is : personal_v2/interest-rates-fees-and-charges/nab-defence-force-interest-rates-for-home-lending.html\ninput file location is : personal_v2/interest-rates-fees-and-charges/home-loan-interest-rates/all-home-loan-interest-rates.html\ninput file location is : personal_v2/international-banking/foreign-currency-cash.html\ninput file location is : personal_v2/international-banking/foreign-exchange-rates.html\ninput file location is : personal_v2/international-banking/move-your-banking-to-another-country.html\ninput file location is : personal_v2/international-banking/moving-to-australia.html\ninput file location is : personal_v2/international-banking/nab-traveller-card-closure.html\ninput file location is : personal_v2/international-banking/receive-money-from-overseas.html\ninput file location is : personal_v2/international-banking/transfer-money-overseas.html\ninput file location is : personal_v2/international-banking/transfer-money-overseas/additional-information.html\ninput file location is : personal_v2/international-banking/transfer-money-overseas/faqs.html\ninput file location is : personal_v2/international-banking/transfer-money-overseas/online.html\ninput file location is : personal_v2/life-moments/family.html\ninput file location is : personal_v2/life-moments/home-property.html\ninput file location is : personal_v2/life-moments/manage-money.html\ninput file location is : personal_v2/life-moments/travel.html\ninput file location is : personal_v2/life-moments/unplanned.html\ninput file location is : personal_v2/life-moments/work.html\ninput file location is : personal_v2/life-moments/family/buy-car.html\ninput file location is : personal_v2/life-moments/family/get-married.html\ninput file location is : personal_v2/life-moments/family/life-insurance.html\ninput file location is : personal_v2/life-moments/family/moving-to-australia.html\ninput file location is : personal_v2/life-moments/family/prepare-finances.html\ninput file location is : personal_v2/life-moments/family/start-family.html\ninput file location is : personal_v2/life-moments/family/will.html\ninput file location is : personal_v2/life-moments/family/buy-car/buying-costs.html\ninput file location is : personal_v2/life-moments/family/buy-car/car-dealers.html\ninput file location is : personal_v2/life-moments/family/buy-car/car-finance-options.html\ninput file location is : personal_v2/life-moments/family/buy-car/running-cost-tips.html\ninput file location is : personal_v2/life-moments/family/buy-car/buying-costs/_jcr_content/root.html\ninput file location is : personal_v2/life-moments/family/buy-car/buying-costs/_jcr_content/root/responsivegrid_4/section_container.html\ninput file location is : personal_v2/life-moments/family/get-married/budgeting-couple.html\ninput file location is : personal_v2/life-moments/family/get-married/combining-finances.html\ninput file location is : personal_v2/life-moments/family/get-married/wedding-budget.html\ninput file location is : personal_v2/life-moments/family/get-married/wedding-checklist.html\ninput file location is : personal_v2/life-moments/family/moving-to-australia/australian-visas.html\ninput file location is : personal_v2/life-moments/family/moving-to-australia/finding-a-job.html\ninput file location is : personal_v2/life-moments/family/moving-to-australia/tax.html\ninput file location is : personal_v2/life-moments/family/moving-to-australia/working-studying.html\ninput file location is : personal_v2/life-moments/family/start-family/back-to-work.html\ninput file location is : personal_v2/life-moments/family/start-family/growing-family.html\ninput file location is : personal_v2/life-moments/family/start-family/keep-costs-down.html\ninput file location is : personal_v2/life-moments/family/start-family/maternity-leave.html\ninput file location is : personal_v2/life-moments/home-property/buy-first-home.html\ninput file location is : personal_v2/life-moments/home-property/buy-next-home.html\ninput file location is : personal_v2/life-moments/home-property/government-schemes-grants.html\ninput file location is : personal_v2/life-moments/home-property/home-buying-guide.html\ninput file location is : personal_v2/life-moments/home-property/invest-property.html\ninput file location is : personal_v2/life-moments/home-property/pay-off-home-loan.html\ninput file location is : personal_v2/life-moments/home-property/refinance-settlement-process.html\ninput file location is : personal_v2/life-moments/home-property/renovate.html\ninput file location is : personal_v2/life-moments/home-property/buy-first-home/affordable-home.html\ninput file location is : personal_v2/life-moments/home-property/buy-first-home/application-process.html\ninput file location is : personal_v2/life-moments/home-property/buy-first-home/building-inspection.html\ninput file location is : personal_v2/life-moments/home-property/buy-first-home/buying-guide.html\ninput file location is : personal_v2/life-moments/home-property/buy-first-home/case-study-couple.html\ninput file location is : personal_v2/life-moments/home-property/buy-first-home/case-study-single.html\ninput file location is : personal_v2/life-moments/home-property/buy-first-home/costs.html\ninput file location is : personal_v2/life-moments/home-property/buy-first-home/deposit-saving.html\ninput file location is : personal_v2/life-moments/home-property/buy-first-home/dictionary.html\ninput file location is : personal_v2/life-moments/home-property/buy-first-home/economic-costs.html\ninput file location is : personal_v2/life-moments/home-property/buy-first-home/finance-conditions.html\ninput file location is : personal_v2/life-moments/home-property/buy-first-home/first-home-owner-grant.html\ninput file location is : personal_v2/life-moments/home-property/buy-first-home/fixed-vs-variable-home-loans.html\ninput file location is : personal_v2/life-moments/home-property/buy-first-home/home-search.html\ninput file location is : personal_v2/life-moments/home-property/buy-first-home/insure-valuables.html\ninput file location is : personal_v2/life-moments/home-property/buy-first-home/lmi.html\ninput file location is : personal_v2/life-moments/home-property/buy-first-home/loan-contracts.html\ninput file location is : personal_v2/life-moments/home-property/buy-first-home/loan-types.html\ninput file location is : personal_v2/life-moments/home-property/buy-first-home/lvr.html\ninput file location is : personal_v2/life-moments/home-property/buy-first-home/offer-conditions.html\ninput file location is : personal_v2/life-moments/home-property/buy-first-home/pre-approval.html\ninput file location is : personal_v2/life-moments/home-property/buy-first-home/rent-buy.html\ninput file location is : personal_v2/life-moments/home-property/buy-first-home/settlement.html\ninput file location is : personal_v2/life-moments/home-property/buy-first-home/super-saving.html\ninput file location is : personal_v2/life-moments/home-property/buy-next-home/after-auction.html\ninput file location is : personal_v2/life-moments/home-property/buy-next-home/ask-for-valuation.html\ninput file location is : personal_v2/life-moments/home-property/buy-next-home/before-auction.html\ninput file location is : personal_v2/life-moments/home-property/buy-next-home/bridging-loans.html\ninput file location is : personal_v2/life-moments/home-property/buy-next-home/costs.html\ninput file location is : personal_v2/life-moments/home-property/buy-next-home/hassle-free-settlement.html\ninput file location is : personal_v2/life-moments/home-property/buy-next-home/prepare-sale.html\ninput file location is : personal_v2/life-moments/home-property/buy-next-home/private-sale.html\ninput file location is : personal_v2/life-moments/home-property/buy-next-home/property-value.html\ninput file location is : personal_v2/life-moments/home-property/buy-next-home/renovate-relocate.html\ninput file location is : personal_v2/life-moments/home-property/buy-next-home/sell-fast.html\ninput file location is : personal_v2/life-moments/home-property/buy-next-home/valuations.html\ninput file location is : personal_v2/life-moments/home-property/buy-next-home/prepare-sale/video.html\ninput file location is : personal_v2/life-moments/home-property/invest-property/build-use-equity.html\ninput file location is : personal_v2/life-moments/home-property/invest-property/cash-flow.html\ninput file location is : personal_v2/life-moments/home-property/invest-property/choose-loan.html\ninput file location is : personal_v2/life-moments/home-property/invest-property/claim-depreciation.html\ninput file location is : personal_v2/life-moments/home-property/invest-property/costs.html\ninput file location is : personal_v2/life-moments/home-property/invest-property/deciding.html\ninput file location is : personal_v2/life-moments/home-property/invest-property/depreciation-older-property.html\ninput file location is : personal_v2/life-moments/home-property/invest-property/depreciation-renovation.html\ninput file location is : personal_v2/life-moments/home-property/invest-property/equity-to-invest.html\ninput file location is : personal_v2/life-moments/home-property/invest-property/find-property.html\ninput file location is : personal_v2/life-moments/home-property/invest-property/gearing-case-study.html\ninput file location is : personal_v2/life-moments/home-property/invest-property/gearing.html\ninput file location is : personal_v2/life-moments/home-property/invest-property/payg.html\ninput file location is : personal_v2/life-moments/home-property/invest-property/strategies.html\ninput file location is : personal_v2/life-moments/home-property/invest-property/tax.html\ninput file location is : personal_v2/life-moments/home-property/pay-off-home-loan/borrow-to-invest.html\ninput file location is : personal_v2/life-moments/home-property/pay-off-home-loan/financial-plan-basics.html\ninput file location is : personal_v2/life-moments/home-property/pay-off-home-loan/next-steps.html\ninput file location is : personal_v2/life-moments/home-property/pay-off-home-loan/parental-leave.html\ninput file location is : personal_v2/life-moments/home-property/pay-off-home-loan/pay-off-faster.html\ninput file location is : personal_v2/life-moments/home-property/pay-off-home-loan/redraw-basics.html\ninput file location is : personal_v2/life-moments/home-property/pay-off-home-loan/should-i-pay-off.html\ninput file location is : personal_v2/life-moments/home-property/pay-off-home-loan/smart-borrowing.html\ninput file location is : personal_v2/life-moments/home-property/renovate/budget.html\ninput file location is : personal_v2/life-moments/home-property/renovate/construction-loan.html\ninput file location is : personal_v2/life-moments/home-property/renovate/construction-loans-work.html\ninput file location is : personal_v2/life-moments/home-property/renovate/costs.html\ninput file location is : personal_v2/life-moments/home-property/renovate/finance.html\ninput file location is : personal_v2/life-moments/home-property/renovate/ideas.html\ninput file location is : personal_v2/life-moments/home-property/renovate/tight-budget.html\ninput file location is : personal_v2/life-moments/manage-money/budget-saving.html\ninput file location is : personal_v2/life-moments/manage-money/grow-super.html\ninput file location is : personal_v2/life-moments/manage-money/how-to-manage-changing-interest-rates.html\ninput file location is : personal_v2/life-moments/manage-money/interest-rates-explained.html\ninput file location is : personal_v2/life-moments/manage-money/manage-debt.html\ninput file location is : personal_v2/life-moments/manage-money/money-basics.html\ninput file location is : personal_v2/life-moments/manage-money/budget-saving/budgeting-101.html\ninput file location is : personal_v2/life-moments/manage-money/budget-saving/budgeting-with-instalments.html\ninput file location is : personal_v2/life-moments/manage-money/budget-saving/emergency-fund.html\ninput file location is : personal_v2/life-moments/manage-money/budget-saving/improve-finances.html\ninput file location is : personal_v2/life-moments/manage-money/budget-saving/kids-money-education.html\ninput file location is : personal_v2/life-moments/manage-money/budget-saving/money-bucket.html\ninput file location is : personal_v2/life-moments/manage-money/budget-saving/money-saving-tips.html\ninput file location is : personal_v2/life-moments/manage-money/budget-saving/simple-saving-habits.html\ninput file location is : personal_v2/life-moments/manage-money/budget-saving/stick-to-budget.html\ninput file location is : personal_v2/life-moments/manage-money/grow-super/great-super-fund.html\ninput file location is : personal_v2/life-moments/manage-money/grow-super/less-tax.html\ninput file location is : personal_v2/life-moments/manage-money/grow-super/what-is-superannuation.html\ninput file location is : personal_v2/life-moments/manage-money/manage-debt/avoid-credit-card-fees.html\ninput file location is : personal_v2/life-moments/manage-money/manage-debt/avoid-credit-card-interest.html\ninput file location is : personal_v2/life-moments/manage-money/manage-debt/avoid-overlimit.html\ninput file location is : personal_v2/life-moments/manage-money/manage-debt/consolidation.html\ninput file location is : personal_v2/life-moments/manage-money/manage-debt/financial-help.html\ninput file location is : personal_v2/life-moments/manage-money/manage-debt/get-hardship-assistance.html\ninput file location is : personal_v2/life-moments/manage-money/manage-debt/home-loan-funds.html\ninput file location is : personal_v2/life-moments/manage-money/manage-debt/offset-accounts.html\ninput file location is : personal_v2/life-moments/manage-money/manage-debt/pay-off-debt.html\ninput file location is : personal_v2/life-moments/manage-money/manage-debt/switching-home-loans.html\ninput file location is : personal_v2/life-moments/manage-money/manage-debt/use-loan-redraw.html\ninput file location is : personal_v2/life-moments/manage-money/money-basics/capital-gains-tax.html\ninput file location is : personal_v2/life-moments/manage-money/money-basics/credit-card-personal-loan.html\ninput file location is : personal_v2/life-moments/manage-money/money-basics/credit-cards.html\ninput file location is : personal_v2/life-moments/manage-money/money-basics/credit-history.html\ninput file location is : personal_v2/life-moments/manage-money/money-basics/credit-report-corrections.html\ninput file location is : personal_v2/life-moments/manage-money/money-basics/credit.html\ninput file location is : personal_v2/life-moments/manage-money/money-basics/creditworthiness.html\ninput file location is : personal_v2/life-moments/manage-money/money-basics/dollar-stretcher.html\ninput file location is : personal_v2/life-moments/manage-money/money-basics/financial-health.html\ninput file location is : personal_v2/life-moments/manage-money/money-basics/goal-driven-saver.html\ninput file location is : personal_v2/life-moments/manage-money/money-basics/habitual-saver.html\ninput file location is : personal_v2/life-moments/manage-money/money-basics/how-cash-back-works.html\ninput file location is : personal_v2/life-moments/manage-money/money-basics/improve-creditworthiness.html\ninput file location is : personal_v2/life-moments/manage-money/money-basics/impulsive-spender.html\ninput file location is : personal_v2/life-moments/manage-money/money-basics/no-interest-credit-cards.html\ninput file location is : personal_v2/life-moments/manage-money/money-basics/privacy.html\ninput file location is : personal_v2/life-moments/manage-money/money-basics/start-a-conversation-about-money.html\ninput file location is : personal_v2/life-moments/manage-money/money-basics/what-is-buy-now-pay-later.html\ninput file location is : personal_v2/life-moments/manage-money/money-basics/what-is-savings-account.html\ninput file location is : personal_v2/life-moments/manage-money/money-basics/what-is-transaction-account.html\ninput file location is : personal_v2/life-moments/travel/checklist.html\ninput file location is : personal_v2/life-moments/travel/complimentary-insurance.html\ninput file location is : personal_v2/life-moments/travel/emergency-cash-replacement.html\ninput file location is : personal_v2/life-moments/travel/insure.html\ninput file location is : personal_v2/life-moments/travel/international-fees.html\ninput file location is : personal_v2/life-moments/travel/lost-card-contacts.html\ninput file location is : personal_v2/life-moments/travel/money-safety.html\ninput file location is : personal_v2/life-moments/travel/money-saving-tips.html\ninput file location is : personal_v2/life-moments/travel/notifications.html\ninput file location is : personal_v2/life-moments/travel/own-money.html\ninput file location is : personal_v2/life-moments/travel/prepare-accounts.html\ninput file location is : personal_v2/life-moments/travel/tools.html\ninput file location is : personal_v2/life-moments/travel/track-spending.html\ninput file location is : personal_v2/life-moments/travel/travel-now.html\ninput file location is : personal_v2/life-moments/travel/ways-to-pay.html\ninput file location is : personal_v2/life-moments/unplanned/divorce.html\ninput file location is : personal_v2/life-moments/unplanned/illness-injury.html\ninput file location is : personal_v2/life-moments/unplanned/losing-loved-ones.html\ninput file location is : personal_v2/life-moments/unplanned/unemployment.html\ninput file location is : personal_v2/life-moments/unplanned/divorce/checklist.html\ninput file location is : personal_v2/life-moments/unplanned/divorce/family-finances.html\ninput file location is : personal_v2/life-moments/unplanned/divorce/independence.html\ninput file location is : personal_v2/life-moments/unplanned/divorce/shared-assets.html\ninput file location is : personal_v2/life-moments/unplanned/divorce/support-networks.html\ninput file location is : personal_v2/life-moments/unplanned/illness-injury/carers.html\ninput file location is : personal_v2/life-moments/unplanned/illness-injury/coping-with-illness.html\ninput file location is : personal_v2/life-moments/unplanned/illness-injury/financial-help.html\ninput file location is : personal_v2/life-moments/unplanned/illness-injury/plan-unexpected.html\ninput file location is : personal_v2/life-moments/unplanned/illness-injury/recover.html\ninput file location is : personal_v2/life-moments/unplanned/losing-loved-ones/account-impacts.html\ninput file location is : personal_v2/life-moments/unplanned/losing-loved-ones/notify-us.html\ninput file location is : personal_v2/life-moments/unplanned/losing-loved-ones/other-contacts.html\ninput file location is : personal_v2/life-moments/unplanned/losing-loved-ones/steps-after-notification.html\ninput file location is : personal_v2/life-moments/unplanned/unemployment/manage-finances.html\ninput file location is : personal_v2/life-moments/unplanned/unemployment/navigating-redundancy.html\ninput file location is : personal_v2/life-moments/unplanned/unemployment/redundancy-finances.html\ninput file location is : personal_v2/life-moments/unplanned/unemployment/support-network.html\ninput file location is : personal_v2/life-moments/work/change-job.html\ninput file location is : personal_v2/life-moments/work/plan-retirement.html\ninput file location is : personal_v2/life-moments/work/change-job/money.html\ninput file location is : personal_v2/life-moments/work/plan-retirement/after-tax-contributions.html\ninput file location is : personal_v2/life-moments/work/plan-retirement/age-pension.html\ninput file location is : personal_v2/life-moments/work/plan-retirement/aged-care.html\ninput file location is : personal_v2/life-moments/work/plan-retirement/boost-savings.html\ninput file location is : personal_v2/life-moments/work/plan-retirement/boost-super.html\ninput file location is : personal_v2/life-moments/work/plan-retirement/budget.html\ninput file location is : personal_v2/life-moments/work/plan-retirement/consolidate-super.html\ninput file location is : personal_v2/life-moments/work/plan-retirement/consult-expert.html\ninput file location is : personal_v2/life-moments/work/plan-retirement/helping-kids-retirement.html\ninput file location is : personal_v2/life-moments/work/plan-retirement/income.html\ninput file location is : personal_v2/life-moments/work/plan-retirement/plan-income.html\ninput file location is : personal_v2/life-moments/work/plan-retirement/planning-in-50s.html\ninput file location is : personal_v2/life-moments/work/plan-retirement/planning.html\ninput file location is : personal_v2/life-moments/work/plan-retirement/preservation-age.html\ninput file location is : personal_v2/life-moments/work/plan-retirement/salary-sacrifice.html\ninput file location is : personal_v2/life-moments/work/plan-retirement/sell-home.html\ninput file location is : personal_v2/life-moments/work/plan-retirement/spouse-super.html\ninput file location is : personal_v2/online-banking/countries-blocked.html\ninput file location is : personal_v2/online-banking/digital-payments.html\ninput file location is : personal_v2/online-banking/fast-payments.html\ninput file location is : personal_v2/online-banking/features.html\ninput file location is : personal_v2/online-banking/fitbit.html\ninput file location is : personal_v2/online-banking/garmin.html\ninput file location is : personal_v2/online-banking/mobile-banking-app.html\ninput file location is : personal_v2/online-banking/nab-internet-banking.html\ninput file location is : personal_v2/online-banking/payid.html\ninput file location is : personal_v2/online-banking/resume-saved-application.html\ninput file location is : personal_v2/online-banking/setup-savings-goal.html\ninput file location is : personal_v2/online-banking/statements.html\ninput file location is : personal_v2/online-banking/tax-time-tools.html\ninput file location is : personal_v2/online-banking/zero-paper.html\ninput file location is : personal_v2/online-banking/digital-payments/apple-pay.html\ninput file location is : personal_v2/online-banking/digital-payments/beemit.html\ninput file location is : personal_v2/online-banking/digital-payments/google-pay.html\ninput file location is : personal_v2/online-banking/digital-payments/payto.html\ninput file location is : personal_v2/online-banking/digital-payments/samsung-pay.html\ninput file location is : personal_v2/online-banking/fitbit/help.html\ninput file location is : personal_v2/online-banking/garmin/help.html\ninput file location is : personal_v2/online-banking/mobile-banking-app/digital-receipts.html\ninput file location is : personal_v2/online-banking/mobile-banking-app/mobile-cheque-deposit.html\ninput file location is : personal_v2/online-banking/mobile-banking-app/quick-balances.html\ninput file location is : personal_v2/online-banking/nab-internet-banking/ib-login-banner.html\ninput file location is : personal_v2/online-banking/nab-internet-banking/ib-logout.html\ninput file location is : personal_v2/online-banking/nab-internet-banking/ib-platform-login-banner.html\ninput file location is : personal_v2/online-banking/nab-internet-banking/nab-alerts.html\ninput file location is : personal_v2/online-banking/nab-internet-banking/nab-id.html\ninput file location is : personal_v2/online-banking/nab-internet-banking/payment-approvals.html\ninput file location is : personal_v2/online-banking/nab-internet-banking/sms-security.html\ninput file location is : personal_v2/online-banking/nab-internet-banking/spending-tool.html\ninput file location is : personal_v2/online-banking/nab-internet-banking/transaction-history.html\ninput file location is : personal_v2/online-banking/nab-internet-banking/update-your-details-online-banking.html\ninput file location is : personal_v2/online-banking/nab-internet-banking/apply/business.html\ninput file location is : personal_v2/online-banking/nab-internet-banking/apply/personal.html\ninput file location is : personal_v2/online-banking/nab-internet-banking/apply/business/business-credit-cards.html\ninput file location is : personal_v2/online-banking/nab-internet-banking/apply/business/business-loans.html\ninput file location is : personal_v2/online-banking/nab-internet-banking/apply/business/payments-and-merchants.html\ninput file location is : personal_v2/online-banking/nab-internet-banking/apply/business/business-bank-accounts/business-savings-deposit-accounts.html\ninput file location is : personal_v2/online-banking/nab-internet-banking/apply/business/business-credit-cards/corporate-charge-cards.html\ninput file location is : personal_v2/online-banking/nab-internet-banking/apply/business/business-credit-cards/nab-low-rate-business-card.html\ninput file location is : personal_v2/online-banking/nab-internet-banking/apply/business/business-credit-cards/nab-qantas-business-signature-card.html\ninput file location is : personal_v2/online-banking/nab-internet-banking/apply/business/business-credit-cards/nab-rewards-business-signature-card.html\ninput file location is : personal_v2/online-banking/nab-internet-banking/apply/business/business-credit-cards/corporate-charge-cards/nab-business-card.html\ninput file location is : personal_v2/online-banking/nab-internet-banking/apply/business/payments-and-merchants/accepting-payments.html\ninput file location is : personal_v2/online-banking/nab-internet-banking/apply/business/payments-and-merchants/accepting-payments/eftpos-machines.html\ninput file location is : personal_v2/online-banking/nab-internet-banking/apply/business/payments-and-merchants/accepting-payments/nab-easy-tap.html\ninput file location is : personal_v2/online-banking/nab-internet-banking/apply/business/payments-and-merchants/online-and-ecommerce/nab-ecommerce-merchant-account.html\ninput file location is : personal_v2/online-banking/nab-internet-banking/apply/business/payments-and-merchants/online-and-ecommerce/nab-transact.html\ninput file location is : personal_v2/online-banking/nab-internet-banking/apply/personal/credit-cards.html\ninput file location is : personal_v2/online-banking/payid/payid-video.html\ninput file location is : personal_v2/online-banking/statements/using-online-statements.html\ninput file location is : personal_v2/personal-loans/boat-loans.html\ninput file location is : personal_v2/personal-loans/car-loans.html\ninput file location is : personal_v2/personal-loans/caravan-loans.html\ninput file location is : personal_v2/personal-loans/debt-consolidation-loans.html\ninput file location is : personal_v2/personal-loans/education-loans.html\ninput file location is : personal_v2/personal-loans/energy-efficient-purchases.html\ninput file location is : personal_v2/personal-loans/general-terms.html\ninput file location is : personal_v2/personal-loans/home-renovation-loans.html\ninput file location is : personal_v2/personal-loans/how-to-apply.html\ninput file location is : personal_v2/personal-loans/interest-rates.html\ninput file location is : personal_v2/personal-loans/major-purchases.html\ninput file location is : personal_v2/personal-loans/medical-loans.html\ninput file location is : personal_v2/personal-loans/motorbike-loans.html\ninput file location is : personal_v2/personal-loans/personal-loan-calculators.html\ninput file location is : personal_v2/personal-loans/personal-loans-checklist.html\ninput file location is : personal_v2/personal-loans/qantas-points-offer.html\ninput file location is : personal_v2/personal-loans/travel-loans.html\ninput file location is : personal_v2/personal-loans/understand-personal-loan-rates-terms.html\ninput file location is : personal_v2/personal-loans/understanding-loan-repayments.html\ninput file location is : personal_v2/personal-loans/verify-income.html\ninput file location is : personal_v2/personal-loans/wedding-loans.html\ninput file location is : personal_v2/personal-loans/car-loans/repayment-calculator.html\ninput file location is : personal_v2/personal-loans/how-to-apply/application-help.html\ninput file location is : personal_v2/personal-loans/personal-loan-calculators/debt-consolidation-calculator.html\ninput file location is : personal_v2/personal-loans/personal-loan-calculators/personal-loan-borrowing-power-calculator.html\ninput file location is : personal_v2/personal-loans/personal-loan-calculators/personal-loan-repayment-calculator.html\ninput file location is : personal_v2/personal-loans/personal-loan-calculators/debt-consolidation-calculator/nab-debt-consolidation-calculator-terms-and-conditions.html\ninput file location is : personal_v2/personal-loans/personal-loan-calculators/personal-loan-borrowing-power-calculator/terms-and-conditions.html\ninput file location is : personal_v2/personal-loans/personal-loan-calculators/personal-loan-repayment-calculator/terms-conditions.html\ninput file location is : personal_v2/personal-loans/understand-personal-loan-rates-terms/how-to-apply-online.html\ninput file location is : personal_v2/personal-loans/understand-personal-loan-rates-terms/tracking-your-application-online.html\ninput file location is : personal_v2/personal-loans/understanding-loan-repayments/regular-repayments.html\ninput file location is : personal_v2/personal-loans/verify-income/customer-support.html\ninput file location is : personal_v2/private-wealth/awards.html\ninput file location is : personal_v2/private-wealth/contact-us.html\ninput file location is : personal_v2/private-wealth/get-ready-for-the-great-wealth-transfer.html\ninput file location is : personal_v2/private-wealth/our-difference.html\ninput file location is : personal_v2/private-wealth/our-specialists.html\ninput file location is : personal_v2/private-wealth/residential-property-investment-portfolio.html\ninput file location is : personal_v2/private-wealth/tailored-solutions.html\ninput file location is : personal_v2/private-wealth/welcome-video.html\ninput file location is : personal_v2/private-wealth/what-is-private-banking.html\ninput file location is : personal_v2/private-wealth/tailored-solutions/private-portfolio-package.html\ninput file location is : personal_v2/private-wealth/tailored-solutions/private-tailored-package.html\ninput file location is : personal_v2/super-and-investments/cash-management.html\ninput file location is : personal_v2/super-and-investments/financial-advice.html\ninput file location is : personal_v2/super-and-investments/investment-lending.html\ninput file location is : personal_v2/super-and-investments/nab-adviser-portal.html\ninput file location is : personal_v2/super-and-investments/self-managed-super-fund.html\ninput file location is : personal_v2/super-and-investments/investment-lending/nab-equity-builder.html\ninput file location is : personal_v2/super-and-investments/investment-lending/nab-margin-loan.html\ninput file location is : personal_v2/super-and-investments/investment-lending/nab-super-lever.html\ninput file location is : personal_v2/super-and-investments/nab-adviser-portal/contact-us.html\ninput file location is : personal_v2/super-and-investments/nab-adviser-portal/documents-forms.html\ninput file location is : personal_v2/super-and-investments/nab-adviser-portal/nab-cash-manager-account.html\ninput file location is : personal_v2/super-and-investments/nab-adviser-portal/new-advisers.html\ninput file location is : personal_v2/super-and-investments/nab-adviser-portal/nab-cash-manager-account/special-rate.html\ninput file location is : personal_v2/super-and-investments/self-managed-super-fund/new-to-smsf.html\ninput file location is : personal_v2/super-and-investments/self-managed-super-fund/setting-up-a-smsf.html\ninput file location is : personal_v2/super-and-investments/self-managed-super-fund/smsf-cash-products.html\ninput file location is : personal_v2/super-and-investments/self-managed-super-fund/smsf-investments.html\ninput file location is : personal_v2/youth-banking/kids.html\ninput file location is : personal_v2/youth-banking/students.html\ninput file location is : personal_v2/youth-banking/teens.html\ninput file location is : personal_v2/youth-banking/young-adults.html\ninput file location is : personal_v2/youth-banking/kids/bank-accounts-children.html\ninput file location is : personal_v2/youth-banking/kids/how-to-open-account.html\ninput file location is : personal_v2/youth-banking/teens/first-debit-card.html\n"
     ]
    }
   ],
   "source": [
    "import pandas as pd\n",
    "import os\n",
    "\n",
    "final_result = []\n",
    "final_filename = []\n",
    "\n",
    "# Execution \n",
    "for root, _, files in os.walk('personal_v2'):\n",
    "  for filename in files:\n",
    "    if filename.endswith(\"html\"):\n",
    "      #Input html file \n",
    "      html_file_path = os.path.join(root,filename)\n",
    "      print(f\"input file location is : {html_file_path}\")\n",
    "\n",
    "      # output_path = os.path.join(root,output_filename)\n",
    "      # print(f'The output file name is : {output_path}')\n",
    "\n",
    "      parsed_result = parse_html_file_sample(html_file_path)\n",
    "      final_result.append(parsed_result)\n",
    "      final_filename.append(filename)\n",
    "\n",
    "#Create a single pandas dataframe with filename and \n",
    "Parsed_output_v2 = pd.DataFrame({'filename':final_filename,'parsed_results':final_result}) "
   ]
  },
  {
   "cell_type": "markdown",
   "metadata": {
    "application/vnd.databricks.v1+cell": {
     "cellMetadata": {},
     "inputWidgets": {},
     "nuid": "3a4d6f41-bf00-4150-9b15-4632675bd217",
     "showTitle": false,
     "title": ""
    }
   },
   "source": [
    "### Sample Validation of Parsed Files"
   ]
  },
  {
   "cell_type": "code",
   "execution_count": 0,
   "metadata": {
    "application/vnd.databricks.v1+cell": {
     "cellMetadata": {
      "byteLimit": 2048000,
      "rowLimit": 10000
     },
     "inputWidgets": {},
     "nuid": "9da13b31-ef2d-434e-ba84-69dc2802d846",
     "showTitle": false,
     "title": ""
    }
   },
   "outputs": [
    {
     "output_type": "execute_result",
     "data": {
      "text/html": [
       "<div>\n",
       "<style scoped>\n",
       "    .dataframe tbody tr th:only-of-type {\n",
       "        vertical-align: middle;\n",
       "    }\n",
       "\n",
       "    .dataframe tbody tr th {\n",
       "        vertical-align: top;\n",
       "    }\n",
       "\n",
       "    .dataframe thead th {\n",
       "        text-align: right;\n",
       "    }\n",
       "</style>\n",
       "<table border=\"1\" class=\"dataframe\">\n",
       "  <thead>\n",
       "    <tr style=\"text-align: right;\">\n",
       "      <th></th>\n",
       "      <th>filename</th>\n",
       "      <th>parsed_results</th>\n",
       "    </tr>\n",
       "  </thead>\n",
       "  <tbody>\n",
       "    <tr>\n",
       "      <th>0</th>\n",
       "      <td>FormNPS.html</td>\n",
       "      <td>FormNPS - NAB Search Search nab.com.au Search...</td>\n",
       "    </tr>\n",
       "    <tr>\n",
       "      <th>1</th>\n",
       "      <td>accounts.html</td>\n",
       "      <td>Bank accounts | Savings, transaction and term...</td>\n",
       "    </tr>\n",
       "    <tr>\n",
       "      <th>2</th>\n",
       "      <td>buy-now-pay-later.html</td>\n",
       "      <td>NAB Now Pay Later | Buy now pay later in four...</td>\n",
       "    </tr>\n",
       "    <tr>\n",
       "      <th>3</th>\n",
       "      <td>calculators-and-financial-tools.html</td>\n",
       "      <td>Calculators and Financial Tools - Home Loan C...</td>\n",
       "    </tr>\n",
       "    <tr>\n",
       "      <th>4</th>\n",
       "      <td>credit-cards.html</td>\n",
       "      <td>Credit Cards | Compare our range, fees and ap...</td>\n",
       "    </tr>\n",
       "    <tr>\n",
       "      <th>...</th>\n",
       "      <td>...</td>\n",
       "      <td>...</td>\n",
       "    </tr>\n",
       "    <tr>\n",
       "      <th>540</th>\n",
       "      <td>first-debit-card.html</td>\n",
       "      <td>How to use a debit card | Banking for teens -...</td>\n",
       "    </tr>\n",
       "    <tr>\n",
       "      <th>541</th>\n",
       "      <td>nab-straightup-card.html</td>\n",
       "      <td>No interest credit card | NAB StraightUp Card...</td>\n",
       "    </tr>\n",
       "    <tr>\n",
       "      <th>542</th>\n",
       "      <td>nab-low-rate-card.html</td>\n",
       "      <td>Low rate credit card | Balance transfer or ca...</td>\n",
       "    </tr>\n",
       "    <tr>\n",
       "      <th>543</th>\n",
       "      <td>first-home-buyers.html</td>\n",
       "      <td>First Home Buyers | Special offers, home loan...</td>\n",
       "    </tr>\n",
       "    <tr>\n",
       "      <th>544</th>\n",
       "      <td>card-based-electronic-banking.html</td>\n",
       "      <td>Electronic banking - card based terms and con...</td>\n",
       "    </tr>\n",
       "  </tbody>\n",
       "</table>\n",
       "<p>545 rows × 2 columns</p>\n",
       "</div>"
      ],
      "text/plain": [
       "                                 filename                                     parsed_results\n",
       "0                            FormNPS.html   FormNPS - NAB Search Search nab.com.au Search...\n",
       "1                           accounts.html   Bank accounts | Savings, transaction and term...\n",
       "2                  buy-now-pay-later.html   NAB Now Pay Later | Buy now pay later in four...\n",
       "3    calculators-and-financial-tools.html   Calculators and Financial Tools - Home Loan C...\n",
       "4                       credit-cards.html   Credit Cards | Compare our range, fees and ap...\n",
       "..                                    ...                                                ...\n",
       "540                 first-debit-card.html   How to use a debit card | Banking for teens -...\n",
       "541              nab-straightup-card.html   No interest credit card | NAB StraightUp Card...\n",
       "542                nab-low-rate-card.html   Low rate credit card | Balance transfer or ca...\n",
       "543                first-home-buyers.html   First Home Buyers | Special offers, home loan...\n",
       "544    card-based-electronic-banking.html   Electronic banking - card based terms and con...\n",
       "\n",
       "[545 rows x 2 columns]"
      ]
     },
     "execution_count": 71,
     "metadata": {},
     "output_type": "execute_result"
    }
   ],
   "source": [
    "Parsed_output_v2"
   ]
  },
  {
   "cell_type": "code",
   "execution_count": 0,
   "metadata": {
    "application/vnd.databricks.v1+cell": {
     "cellMetadata": {
      "byteLimit": 2048000,
      "rowLimit": 10000
     },
     "inputWidgets": {},
     "nuid": "add70e11-0f46-42da-83c1-9eb902cebeb1",
     "showTitle": false,
     "title": ""
    }
   },
   "outputs": [
    {
     "output_type": "execute_result",
     "data": {
      "text/plain": [
       "\" No interest credit card | NAB StraightUp Card -  Notification: NAB Mobile Banking app .   NAB StraightUp Card NAB StraightUp Card No interest, late payment fees or international transaction fees. Just a simple monthly fee. Apply online in 15 minutes and get a response in 60 seconds. What is the NAB StraightUp Card? Unlike most credit cards, the NAB StraightUp Card comes with zero interest or other charges – just a simple monthly fee and minimum monthly payment based on your credit limit. You’ll also enjoy no fees on international purchases and you can use it anywhere Visa is accepted. The NAB StraightUp Card gives you a set amount of funds (called a 'credit limit’) which you can borrow from at any time. How much credit is available to you will vary depending on how much of your credit limit you have used by making purchases (this is also known as your ‘available balance’). . NAB StraightUp Card features Designed with simplicity and transparency in mind, here are some of the great benefits of our no interest credit card and some important exclusions. What's included One credit card for personal, everyday spending No surprise charges - just a simple monthly card fee No use no pay - if you don't make any purchases and have an outstanding balance of $0 during the whole statement period, we'll reverse your monthly fee Save money with no fees on international purchases (online and overseas) Fixed minimum monthly repayments based on your credit limit Accepted anywhere Visa is accepted including overseas and online What's not included Cash advances or gambling transactions Additional cardholders Balance transfers or product transfers Rewards points or complimentary insurances Credit limit options You can choose one of three preferred credit limits when you first apply. Each one comes with a fixed monthly fee and a minimum monthly payment which goes toward paying off any outstanding balance. It's important to choose a preferred limit that you can afford. Credit limit $1,000 $35 minimum monthly payment ($10 monthly fee added to your balance) Credit limit $2,000 $75 minimum monthly payment ($15 monthly fee added to your balance) Credit limit $3,000 $110 minimum monthly payment ($20 monthly fee added to your balance) Remember, if you don't make any purchases and have an outstanding balance of $0 during the whole statement period, we'll reverse your monthly fee. Wanting to make some business purchases on this card? This card may be suitable for the needs of sole traders to help you combine your personal purchases with some business spending. Find out how you can better . Apply online simply and easily Complete the online application form. Get a response in 60 seconds. If approved, your card will arrive within five days. Activate your card and download the . When you apply you may need to provide bank statements or payslips which we’ll use to assess your application and ensure the limit you’ve applied for is not unsuitable for you. Credit card tools and calculators Need help finding the right card? We have some handy tools to help. Understanding credit cards Here are some handy guides to help you better understand how credit cards work. Help and support We're here to help. Use our guides and support services to better manage your money. Other ways we can help Use our help guides, FAQs and other support services to help you manage your banking more easily. Other bank accounts and products to consider Still looking? Here are a few more options to consider to help you with your everyday banking needs. Get in touch Visit a NAB branch Visit your nearest NAB branch to speak to us in person. Important Information Terms and Conditions This section contains Important Information relevant to the page you are viewing, but you can't see it because you have JavaScript disabled on your browser. Please enable JavaScript and come back so you can see the complete page. It's important that you read the Important Information in this section before acting on any information on this page. Apologies but the Important Information section you are trying to view is not displaying properly at the moment. Please refresh the page or try again later. Consider the which apply when using NAB Internet Banking and the NAB app, before making any decisions regarding these services. The NAB app is compatible with Android™ and iOS, minimum platform requirements apply. Android is a trademark of Google LLC. IOS is a trademark or registered trademark of Cisco in the U.S. and other countries and is used under license. Services issued by NAB. apply. may be payable. Approval and credit limit are subject to NAB's credit assessment criteria. Information, including fees are subject to change. NAB StraightUp Card, NAB Internet Banking and NAB App issued by National Australia Bank Limited. Target Market Determinations for these products are available at .  \""
      ]
     },
     "execution_count": 84,
     "metadata": {},
     "output_type": "execute_result"
    }
   ],
   "source": [
    "Parsed_output_v2[Parsed_output_v2[\"filename\"] == 'nab-straightup-card.html']['parsed_results'].tolist()[0]"
   ]
  },
  {
   "cell_type": "code",
   "execution_count": 0,
   "metadata": {
    "application/vnd.databricks.v1+cell": {
     "cellMetadata": {
      "byteLimit": 2048000,
      "rowLimit": 10000
     },
     "inputWidgets": {},
     "nuid": "0a7ffe61-5737-4895-85af-345161e57e50",
     "showTitle": false,
     "title": ""
    }
   },
   "outputs": [
    {
     "output_type": "execute_result",
     "data": {
      "text/plain": [
       "\" First Home Buyers | Special offers, home loans, tools and guides -  Notification: NAB Mobile Banking app .   Buying your first home Buying your first home Buying a first home is a huge step. From saving for a house deposit to searching for the perfect property, we can help you get there. Explore your options with a NAB home lending specialist. Why choose NAB to buy your first home NAB has the support and expertise that can help you purchase your first home sooner. Buy or build your first home sooner NAB supports eligible buyers to access the Family Home Guarantee with a deposit as low as 2%. Or, buy or build your first home with a deposit of 5% under the First Home Guarantee or Regional First Home Buyer Guarantee. Home buyer guides Make use of our expertise and support for first home buyers. With our helpful guides about the home buying process, you'll be ready to purchase your first home in no time. Support at every step Purchasing your first home is exciting and we want to be part of it with you. Our team of branch lending experts, mobile and phone bankers are here to guide and support you through the process. Ready to get started? Book an appointment with your NAB banker to discuss your options. Calculators and tools Use our tools and calculators to work out your potential repayments, borrowing power, and more. Offer NAB Base Variable Rate Home Loan Save money on your first home with no application or ongoing fees. Variable rate 6.24 % p.a. Comparison rate 6.28 % p.a. Offer available to new owner-occupier, principal and interest home loans where the customer takes a NAB Base Variable Rate Home Loan and has a deposit of 20% or more of the property value. Home buying guides Things useful to know to help your search for a first home. Help and support We’re here to help. Learn about the support services and helpful guides available to you. Get in touch Book an appointment Make an appointment to see us at your nearest branch, ask a mobile banker to come to you or ask us to call you back. Customer Support Tool Solve problems quickly online with our easy-to-follow guides. Simply select a topic and we’ll direct you to the information you need. Call us Speak to a home loan specialist about a new or existing home loan. Monday to Friday, 8:00am to 7:00pm (AEST/AEDT) Saturday to Sunday, 9:00am to 6:00pm (AEST/AEDT) Important Information Terms and Conditions This section contains Important Information relevant to the page you are viewing, but you can't see it because you have JavaScript disabled on your browser. Please enable JavaScript and come back so you can see the complete page. It's important that you read the Important Information in this section before acting on any information on this page. Apologies but the Important Information section you are trying to view is not displaying properly at the moment. Please refresh the page or try again later.  \""
      ]
     },
     "execution_count": 85,
     "metadata": {},
     "output_type": "execute_result"
    }
   ],
   "source": [
    "Parsed_output_v2[Parsed_output_v2[\"filename\"] == 'first-home-buyers.html']['parsed_results'].tolist()[0]"
   ]
  },
  {
   "cell_type": "code",
   "execution_count": 0,
   "metadata": {
    "application/vnd.databricks.v1+cell": {
     "cellMetadata": {
      "byteLimit": 2048000,
      "rowLimit": 10000
     },
     "inputWidgets": {},
     "nuid": "87bdf554-1925-4173-b363-d5aea1ba2d0a",
     "showTitle": false,
     "title": ""
    }
   },
   "outputs": [
    {
     "output_type": "execute_result",
     "data": {
      "text/plain": [
       "\" Low rate credit card | Balance transfer or cash back offer -  Notification: NAB Mobile Banking app .   NAB Low Rate Credit Card NAB Low Rate Card A simple low interest rate credit card with your choice of offers: get a promotional balance transfer or select our cash back offer. Apply online in 15 minutes and get a response in 60 seconds. Rates and fees Learn more about our standard interest rates and minimum credit limits. Variable purchase rate 12.49% p.a. Interest free days on purchases Up to 55 Annual card fee $59 p.a. Minimum credit limit $1,000 Variable cash advance rate This is the interest rate charged on amounts you withdraw as cash, gambling transactions (including lottery ticket purchases), or transfer from your credit card to another account. 21.74% p.a. Choose one of our available credit card offers Your choice of offers to suit your credit needs, select either our promotional balance transfer offer or our cash back offer. Offer Promotional 0% p.a. balance transfer (BT) for 32 months with no BT fee Take advantage of our balance transfer offer to help pay off your existing credit card balance/s sooner. Available on new NAB Low Rate credit card. This could help you to consolidate your debt and reduce the amount of interest you pay on it. Try using our to see how much you could save. Enjoy no annual fee for the first year (usually $59). No balance transfer fee applies. Unpaid BT reverts to the variable cash advance rate after 32 months. Minimum monthly repayments required. NAB may vary or end this offer at any time. See important information. Offer Up to $300 cash back Looking for a credit card that not only offers a low interest rate but provides up to $300 cash back? Available on a new NAB Low Rate credit card. $100 cash back per month for the first three months from account opening when you spend $500 per month on purchases. Enjoy 0% p.a. for 12 months standard balance transfer (BT) rate. 3% BT fee applies. Unpaid BT reverts to variable cash advance rate. Purchases must be processed and charged to your account in the relevant month to count toward your monthly spend. Minimum monthly repayments required. NAB may vary or end this offer at any time. See important information below. A balance transfer is when you transfer debt from an existing credit card to a new credit card, usually at a new bank. The new bank may offer a lower interest rate for a limited time to help you pay back your debt. Cash back is when you receive credit back to your account. The offer is available for a promotional period and you need to meet eligibility criteria to earn the cash back (including a minimum monthly spend for the first three months). You still need to make the minimum payment for each statement during the offer period. If you’d like more information, you can read more about . Benefits of this low rate credit card Save on interest Enjoy our lowest everyday purchase rate. Fraud protection NAB Defence proactively detects fraudulent transactions, so you can enjoy 100% peace of mind with all purchases. Add another cardholder Add an at no extra cost. 24/7 emergency assistance We're here for you 24/7 over the phone if your credit card is lost or stolen. Visa Entertainment Special offers on shows, events, experiences and movies from . Digital wallet payments Tap and pay with the smartphones and wearables you already own and use everyday. Things to consider We want to help you choose the right card, so here are a few things to consider about this card before you apply. Higher annual card fee than the NAB Low Fee Card. No complimentary insurances. You won’t earn rewards points. Credit card tools and calculators Need help finding the right card or want to see how much you could save with our credit cards? We have some handy tools to help. Understanding credit cards Here are some handy guides to help you better understand how credit cards work. Help and support We're here to help. Use our guides and support services to better manage your money. Other ways we can help Use our help guides, FAQs and other support services to help you manage your banking more easily. Other credit cards to consider Still trying to decide on the right card for you? Here are a few more options to consider. Get in touch Visit a NAB branch Visit your nearest NAB branch to speak to us in person. Important Information Terms and Conditions This section contains Important Information relevant to the page you are viewing, but you can't see it because you have JavaScript disabled on your browser. Please enable JavaScript and come back so you can see the complete page. It's important that you read the Important Information in this section before acting on any information on this page. Apologies but the Important Information section you are trying to view is not displaying properly at the moment. Please refresh the page or try again later. Fees and charges Read our credit card . are payable. Approval and credit limit is subject to NAB's credit assessment criteria. Information, including interest rates and annual card fees subject to change. Correct as at 16 May 2023. Credit cards issued by National Australia Bank Limited.  \""
      ]
     },
     "execution_count": 86,
     "metadata": {},
     "output_type": "execute_result"
    }
   ],
   "source": [
    "Parsed_output_v2[Parsed_output_v2[\"filename\"] == 'nab-low-rate-card.html']['parsed_results'].tolist()[0]"
   ]
  },
  {
   "cell_type": "code",
   "execution_count": 0,
   "metadata": {
    "application/vnd.databricks.v1+cell": {
     "cellMetadata": {
      "byteLimit": 2048000,
      "rowLimit": 10000
     },
     "inputWidgets": {},
     "nuid": "512fe47e-8614-4fa8-8491-e963aa85d93a",
     "showTitle": false,
     "title": ""
    }
   },
   "outputs": [
    {
     "output_type": "execute_result",
     "data": {
      "text/plain": [
       "\" Electronic banking - card based terms and conditions -  .  Notification: NAB Mobile Banking app  Card based electronic banking NAB Electronic Banking (card based) terms and conditions Effective 01.03.20 Contents Summary of important information Customer Service You can contact us by: calling 13 BANK ( ) and select the option to speak to a Customer Service Representative; visiting our website ; hearing impaired customers with telephone typewriters can contact us via the National Relay Service on . Lost/stolen cards/compromised Personal Identification Numbers (PINs) If your card has been lost/stolen and/or your PIN is compromised or divulged you must immediately notify NAB and provide any information about how the loss/incident occurred by calling one of the following numbers, or using any other means NAB makes available to you. Within Australia Freecall 24 hours, 7 days a week - toll free If Overseas International code Unauthorised transactions If you believe there has been an unauthorised transaction using your card and/or card account details, please notify NAB by calling and select the option to speak to a Customer Service Representative. NAB PIN You may change your PIN as frequently as you wish at selected NAB Automatic Teller Machines (‘ATMs’) or by logging into NAB Internet Banking or the latest version of the NAB app. Refer to of Part B for further guidance on PIN selection. For a complete list of ATM locations, please contact NAB by: visiting or calling and select the option to speak to a Customer Service Representative. ATM emergency To report an ATM breakdown or malfunction, or alternatively, to query a current ATM transaction (such as a card not returned by ATM or incorrect cash disbursement), please contact NAB by: calling and select the option to speak to a Customer Service Representative; calling, freecall after hours. Note: As part of NAB’s security procedures, transactions conducted at ATMs may be photographed. Things you should know NAB recommends that you promptly read each statement carefully as soon as you receive it. If applicable you may also wish to check your current transaction history via NAB Internet Banking or NAB Telephone Banking. NAB Electronic Banking (card based) terms and conditions The rights and obligations outlined in these terms and conditions comply with both the ePayments Code and the Banking Code of Practice. 1 Application of NAB Electronic Banking (card based) terms and conditions 1.1 When do these terms and conditions apply? These terms and conditions are binding on you from whichever of the following occurs first: (a) in relation to a card which is not a credit card, by applying for the card to be issued and linked to any nominated account; or (b) the accountholder or any cardholder conducts an EFT transaction on any nominated account; or (c) subject to clause 1.1(d) any cardholder receives their card; or (d) in relation to a credit card, upon receipt of the card or card account details, whichever is received first. However, note and the guidelines on security in apply immediately upon you receiving or selecting the PIN. 1.2 Terms and conditions relating to EFT transactions These terms and conditions apply to EFT transactions on your nominated accounts. These include, but are not limited to, EFT transactions initiated by you: (a) at NAB ATMs using your card and PIN; (b) at ATMs provided by other institutions using your card and PIN; (c) at EFTPOS facilities provided by merchants using your card and PIN; (d) using your card account details through other electronic equipment; (e) where a credit card is used through a ‘swipe-only’ device that does not require a manual signature; and (f) at a contactless reader using a credit card or card details. 1.3 Other terms and conditions Separate terms and conditions exist for: (a) credit cards issued by NAB and for the credit account which may be used in conjunction with these credit cards; and (b) any of the nominated accounts which can be accessed using your card. If there is any inconsistency between these terms and conditions and the terms and conditions applying to your card or nominated account, these NAB Electronic Banking (card based) terms and conditions apply to the extent any inconsistency exists in respect of EFT transactions, except for notice of cancellation or revocation of any electronic banking facility. 1.4 Accountholder to ensure distribution Accountholders must ensure that each cardholder is provided with a copy of these terms and conditions before any of the events referred to in occur. 2 Limits on EFT transactions 2.1 Nominated accounts Your card details and/or card and/or PIN (or your card account details) enable transactions to be made on any NAB accounts which you have nominated for use with NAB’s card based electronic banking facilities. 2.2 Number and type of accounts There is a limit to the number and type of accounts which can be accessed by means of NAB’s card based electronic banking facilities. Some types of electronic equipment may not allow access to all types of accounts. The main nominated accounts comprise: Two main cheque accounts or two main statement savings accounts (including home and personal loan accounts but excluding credit card accounts) or one of each; and If a card is a credit card, the credit card account. EFTPOS terminals permit access to your nominated account(s) and will debit a transaction to one of your nominated account(s) being a credit card account, cheque or statement savings account. That is, an individual EFTPOS transaction must be debited to one account, although a separate transaction may be debited to another designated ‘main account’. You may also nominate three other cheque or statement savings accounts as nominated account(s). 2.3 Amounts withdrawn or transferred NAB reserves the right to limit the amount which may be withdrawn or transferred from a nominated account by way of certain EFT transactions. A ‘daily’ limit applies from midnight to midnight Australian Eastern Standard Time or Australian Eastern Standard Summer Time (whichever is applicable). NAB Debit cardholders A daily limit applies to all purchases and withdrawals of cash undertaken using your card and PIN. NAB Visa Debit or Credit cardholders A daily limit applies to all ATM cash withdrawals or to the cash component of a transaction made at an EFTPOS terminal under . You will be advised of these specific limits when issued with a card, and you will be subsequently advised of any change to these limits. The limits advised by NAB are not an undertaking by NAB to so limit the amounts withdrawn or transferred by use of NAB’s card based electronic banking facilities. However, the advised limit does limit your liability for unauthorised transactions (see ). 2.4 Valid and irrevocable authority Your use of a card, card account details or PIN through electronic equipment to initiate an EFT transaction is an unchangeable order to NAB to process the EFT transaction. Neither a cardholder nor an accountholder may request NAB to stop or alter the EFT transaction. However, the accountholder’s liability for the EFT transaction could be limited in terms of . 3 Card based electronic banking facilities 3.1 NAB ATMs Subject to the terms and conditions applying to your nominated account, your card and PIN enable you to use NAB’s ATMs as determined by NAB. NAB’s ATMs allow you to withdraw or transfer funds between all nominated accounts, obtain a record of recent transactions (not available for a credit card account), order a repeat statement (not available for a credit card account) and check your account balances. Some NAB ATMs may also allow you to deposit funds into a nominated account and to change your PIN. It is your responsibility to familiarise yourself with the correct use of ATMs. If you are unsure or require assistance in the operation of the ATM, please seek assistance from NAB’s branch staff or contact NAB using the Customer Service details in Summary of Important Information. 3.2 ATMs provided by other institutions ATMs provided by other institutions accepting cards may allow you to withdraw funds and check your designated main nominated account balances. Institutions providing other ATMs accepting cards may impose their own fees and restrictions on the operation of the cards with their ATMs including limits to the amounts which may be withdrawn and the accounts which may be accessed. NAB accepts no responsibility for such fees and restrictions. 3.3 EFTPOS Terminals provided by merchants EFTPOS terminals allow you to pay for purchases and may allow the option of withdrawing extra cash from your designated main nominated account at certain locations (but not from a credit card account). Merchants providing EFTPOS terminals accepting cards may impose their own fees and restrictions on the operation of the cards with their EFTPOS terminals including limits to the amounts which may be withdrawn. NAB accepts no responsibility for such fees and restrictions. 3.4 Other transactions through electronic equipment (Such as using a merchant internet site on a computer or by communicating through telephone or electronic mail with a merchant). The merchant or other person may impose their own restrictions on these EFT transactions (such as a purchase at a merchant using a contactless reader). Contactless readers give you the option of making purchases up to the limit notified to you by NAB. NAB has no control over whether a merchant will accept this form of contactless purchase. The merchant or other person may impose their own restrictions on these EFT transactions NAB accepts no responsibility for any such restrictions in connection with any such transactions through electronic equipment. Note: Using digital wallets on mobile phone devices and wearable devices Irrespective of the value of the purchase, you may not be required to enter a PIN in the contactless reader when making a contactless purchase where the electronic equipment is an eligible wearable device or mobile phone. You will be notified about this at the time you enrol for the digital wallet. 3.5 Functionality The processing of an EFT transaction to a particular account will depend on the functionality of the electronic equipment (for example an overseas ATM may process a transaction to a main nominated account which is a credit card account even though you sought to initiate a debit transaction on a different nominated account). NAB accepts no responsibility for this differing functionality. 3.6 Fees Fees may apply to any EFT transaction you undertake with NAB’s card based electronic banking facilities, the amount and nature of which are detailed in ‘A Guide to Fees and Charges-Personal banking fees’, or ‘Business Banking Fees-a guide to fees and charges’, as applicable. 4 Operation of card based electronic banking services 4.1 Receipts (a) It is desirable for you to retain or record receipts to verify your account statements; (b) The issuing of a receipt by an EFTPOS terminal or ATM may be accepted as evidence that the transaction has been performed by NAB in terms of the receipt. This condition does not apply to deposits lodged in ATMs (see and ). (c) When making a contactless purchase you must check the correct amount of the purchase is displayed on the contactless reader or on the merchant register. 4.2 Statements (a) Credit card account statements are provided in terms of the credit card’s specific terms and conditions. For all other nominated accounts, a statement is issued in accordance with the terms and conditions for the nominated account(s). (b) For the purposes of preparing statements, NAB reserves the right to show an EFT transaction as having been carried out on the next or subsequent business day after the day(s) the transaction was made. 4.3 Review statements of account You should always review your statements of account and bring to NAB’s attention any discrepancies, errors or unauthorised transactions as soon as possible. If you wish to dispute an EFT transaction, you must report this to NAB. Please refer to the Customer Service details in Summary of Important Information at the front of this booklet. 4.4 Discrepancies in cash delivered by an ATM When withdrawing cash from an ATM, you should immediately check that the correct sum has been delivered. If there is a discrepancy between the amount of cash delivered by an ATM, and the amount shown on the receipt, report the facts as soon as possible to NAB. Please refer to the ATM emergency details in the Summary of Important Information at the front of this document. 4.5 Cards Remember to take proper care of your card and card account details. Do not keep your card in contact with other cards that have a magnetic strip. Magnetic strips can react with each other and if this occurs your card may no longer operate an ATM or EFTPOS terminal. (a) Your card is issued with validity dates denoting month and year eg. 03/20 is March 2020. The commencing date is the first day of the month, the expiry date the last day of the month. Cards are not valid before or after these dates. Expired cards must be destroyed. (b) Your card remains the property of NAB. You further agree to return the card to NAB or destroy the card by cutting it vertically in half through its magnetic strip upon: (i) notice from NAB cancelling your card; or (ii) closure of all your nominated accounts; or (iii) revocation of authority to operate your nominated accounts by means of your card. (c) Your card may be confiscated by an ATM if you repeat invalid PIN entries. The number of additional entries allowed after the first invalid entry may be varied at NAB’s discretion and is not subject to any prior notice. 4.6 EFTPOS malfunction In the event of an EFTPOS terminal malfunction or failure, the merchant may provide alternative manual procedures to enable a transaction to be made. You will be required to present your card for imprinting of a transaction voucher, indicate one of the main nominated accounts, and sign the transaction voucher. (The procedure is similar to that used for paper voucher credit card transactions.) NAB reserves the right to vary the manual procedure at any time. If you have indicated on the paper voucher that a main nominated account is to be debited, and that account is closed or has insufficient funds available, NAB may redirect the debit entry to the other main nominated account (excluding a credit card account) without notice to you. 4.7 Merchants NAB will not be liable for the refusal of any merchant to accept card details and/or card, or card account details. Any complaints concerning goods and services purchased must generally be resolved with the merchant. In some circumstances we may be able to lodge a claim to request a refund for you under the card scheme’s rules for disputed transactions. Details about chargeback rights and the procedures for disputing transactions are described in the Summary of Important Information at the front of this document. 4.8 Promotional material Promotional material referring to NAB’s card based electronic banking facilities that is displayed on or in any premises, is not to be taken as a warranty by NAB, or by the merchant carrying on a business in those premises, that all goods and services may be purchased by means of an EFT transaction. You also accept that the use of your card and card account details may be subject to other limitations imposed by the merchant. 5 Deposits 5.1 Cash deposits at ATMs When making a cash deposit at an ATM you should be aware that such deposit may not be credited to your account immediately. A cash deposit lodged in an ATM is subject to verification and at our discretion may not be credited to your account until the following business day. Deposits made at an ATM after 6.00pm will be credited to your account within two business days. In the event of a discrepancy between the deposit value determined by NAB and the amount recorded by the ATM, the accountholder will be promptly advised of the actual amount which has been credited to the nominated account. Remember to include the ATM deposit advice card in the envelope with the deposit, as failure to do so may delay funds being credited to your account. NAB reserves the right to correct or reverse any such deposit transaction. NAB will accept responsibility for the security of your deposit correctly lodged at an ATM which offers depositing services, subject to verification of the amount deposited. You should keep all records associated with a deposit that you make via an ATM until the deposit is verified and recorded on your account statement. Where the claimed deposit is not available for verification following forceful removal of the ATM or other criminal act, NAB requires you to reasonably substantiate the value of your claim. 5.2 Deposits in the form of cheques If you make a deposit in the form of, or including a cheque, the funds of the cheque are not available for withdrawal until the cheque reaches the paying bank and NAB is guaranteed payment. (This condition applies to deposits made through an ATM or at a branch of NAB.) In the event of a discrepancy between the value of cheques deposited as determined by NAB and your deposit claim, NAB will inform you. NAB reserves the right to correct or reverse any such deposit transaction. Because of the requirements of NAB’s systems, NAB reserves the right to place a ‘hold’ on the full amount of a deposit which includes a cheque. For example, where a deposit includes cash and one or more cheques, the hold applies to the cash component as well as to the value of cheques. Holds are normally applied for three business days, and transactions requiring use of these funds may be refused within this period. Therefore, if you wish to deposit cash and expect to withdraw against the sum of that cash within the three day period, you are advised to deposit the cash separately from the cheques. (That is, make two deposit transactions.) NAB will not be responsible for any claim or refusal of a transaction if this condition is disregarded. You are entitled to enquire from any branch of NAB if holds are to be applied to any deposit. Subject to , you, the cardholder, agree to indemnify NAB against all claims or liabilities it may incur as a consequence of it collecting a cheque of which you are not the true owner. 6 Responsibilities and liabilities 6.1 Your responsibilities with respect to the card and card details You must: (a) sign the card immediately on receipt; (b) keep your card in a safe place, and provide reasonable protection for the card and card account details from theft; (c) notify NAB should the card or card account details be lost or stolen (refer to the Lost/Stolen Cards Compromised Personal Identification Numbers (PINs) details in the Summary of Important Information at the front of this document, or any other means NAB makes available to you); (d) advise any change of address (refer to the Customer Service details in Summary of Important Information at the front of this document); (e) use the card in accordance with these NAB Electronic Banking terms and conditions; (f) destroy an expired card and (g) if a temporary card has been issued to you, you agree to destroy it upon receipt of a personalised card. 6.2 General responsibility The accountholder is generally responsible for all EFT transactions authorised by the use of the card and/ or PIN and/or the card account details or undertaken by another person with your knowledge and/or consent. The accountholder’s liability for any use not authorised by you may however be limited as provided below. 6.3 No Accountholder liability in some circumstances The accountholder is not liable for losses: (a) that are caused by the fraudulent or negligent conduct of NAB’s employees or agents or companies involved in networking arrangements or of merchants or of their agents or employees; (b) arising because the PIN, card account details or card is forged, faulty, expired, or cancelled; (c) that arise from EFT transactions which required the use of your card or card account details or your PIN and that occurred before you received the card or card account details or before you received or selected your PIN; (d) that are caused by the same EFT transaction being incorrectly debited more than once to the same account; (e) resulting from unauthorised transactions occurring after notification to NAB that the card or card account details have been misused, lost or stolen or the security of the PIN has been breached; (f) resulting from unauthorised transactions where it is clear that you have not contributed to such losses. 6.4 Accountholder liability for unauthorised transactions The accountholder is liable for losses resulting from unauthorised transactions as provided below: (a) where NAB can prove on the balance of probability that you contributed to the losses through your fraud or your contravention of the security requirements in the accountholder is liable for the actual losses which occur before NAB is notified that the card has been misused, lost or stolen or that the security of the PIN has been breached; and (b) the accountholder is also liable where NAB can prove on the balance of probability that you contributed to losses resulting from unauthorised transactions because you unreasonably delayed notifying NAB after becoming aware of the misuse, loss or theft of the card or card details, or that the security of the PIN has been breached. The accountholder will then be liable for the actual losses which occur between the time you became aware (or should reasonably have become aware in the case of a lost or stolen card or card details) and when NAB was actually notified. However, in relation to (a) and (b) above, the accountholder is not liable for any of the following amounts: (i) that portion of the losses incurred on anyone day which exceed the applicable daily transaction limit(s); (ii) that portion of the losses incurred in a period which exceeds any other periodic transaction limit(s) applicable to that period; (iii) that portion of the total losses incurred on any account which exceeds the balance of that account (including any prearranged credit); (iv) all losses incurred on any accounts which the accountholder and NAB had not agreed could be accessed using the card or PIN. (c) where a PIN was required to perform the unauthorised transactions and neither paragraph (a) nor (b) applies, the accountholder is liable for the least of: (i) $150; or (ii) the balance of those account(s) (including any prearranged credit) from which value was transferred in the unauthorised transactions and which NAB and the accountholder have agreed may be accessed using the PIN; or (iii) the actual loss at the time NAB is notified (where relevant) that the card has been misused, lost or stolen or that the security of the PIN has been breached (excluding that portion of the losses incurred on any one day which exceeds any applicable daily transaction or other periodic transaction limit(s)). (d) the accountholder is liable for losses arising from unauthorised transactions that occur because you contributed to the losses by leaving a card in an ATM. 6.5 Your responsibilities (a) where NAB provides you with a PIN you must not: (i) voluntarily disclose the PIN to anyone including a family member or friend (unless your card is a Deposit Only Card); (ii) record the PIN on your card or on any article carried with the card or liable to loss or theft simultaneously with the card; (iii) act with extreme carelessness in failing to protect the security of the PIN. (b) where NAB allows you to select a PIN or change your PIN you must not select: (i) a numeric code which represents your birth date; or (ii) an alphabetical code which is a recognisable part of your name. Either of these selections may mean you are liable for losses caused by unauthorised transactions caused by a breach of your PIN. 6.6 Guidelines You should also comply with these guidelines to protect the security of your card, card account details and PIN and thus reduce the possibility of any inconvenience to you: (a) do not permit any other person to use the card and/or card account details; (b) destroy the PIN envelope (if any) after memorising the PIN; (c) take reasonable care when using your ATM, or EFTPOS terminal to ensure your PIN is not disclosed to any other person; and (d) should you require a memory aid to recall your PIN you may make such a record providing the record is reasonably disguised. However, NAB does not consider the following examples to provide a reasonable disguise and you agree not to: (i) record the disguised PIN on your card; (ii) disguise a PIN by reversing the number sequence; (iii) describe the disguised record as a PIN record’ or ‘Password record’; (iv) disguise the PIN as a telephone number, part of a telephone number, postcode or date of birth; (v) disguise the PIN using alphabetical characters, eg. A = 1, B = 2, C = 3 etc (e) follow any other reasonable instructions NAB gives you in relation to selecting a PIN There may be other forms of disguise which may be similarly unsuitable because of the ease of another person discerning your PIN. Please note all the guidelines set out in are for your assistance but your liability in the case of an actual loss will be governed by the ePayments Code and in this document. However, you should take care to meet the guidelines set out in as a failure to meet these guidelines may in some circumstances constitute an act of extreme carelessness under (a)(iii). 6.7 Advising NAB If you believe your card or card account details have been lost or stolen, your PIN divulged or that there has been misuse of your card, you must notify NAB as soon as possible. Please refer to NAB’s Lost/Stolen Cards/Compromised Personal Identification Numbers (PINs) details in Summary of Important Information at the front of this document, or any other means NAB makes available to you. Once NAB has been notified of these matters the accountholder’s liability for further EFT transactions will be limited. Where telephone facilities or other means are not available during particular periods, any losses occurring during these periods that were due to non-notification are deemed to be the liability of NAB, providing notification is made to NAB within a reasonable time of the facility again becoming available. NAB will acknowledge your report and you should record or retain this acknowledgement. 6.8 Liability under credit card scheme Notwithstanding the above where you notify NAB of an unauthorised transaction on a credit card, NAB will not hold the accountholder liable for an amount greater than the liability the accountholder would have had if NAB had, at the time the complaint was made, exercised its rights (to the extent relevant) under the rules of the credit card scheme. 6.9 Failure of NAB electronic equipment (a) Except in the case of a business EFT transaction NAB will be liable to you for losses you suffer caused by the failure of NAB’s electronic equipment or system to complete an EFT transaction accepted by NAB’s system or NAB’s electronic equipment in accordance with your instructions. However, NAB will not be liable for consequential losses where you should have been aware that NAB’s electronic equipment or system was unavailable for use or malfunctioning. NAB’s responsibilities in this case will be limited to the correction of errors in your account and the refund of any charges or fees imposed on you as a result. NAB will also not be liable for any losses caused by the failure of NAB’s electronic equipment where NAB’s system or electronic equipment had not accepted the EFT transaction. (b) NAB will not be liable to you for any loss, claim, liability or outgoing, including without limitation any consequential loss or liability, which you suffer because of any failure of NAB’s systems or NAB’s electronic equipment to complete a business EFT transaction. 7 Complaints For information about resolving problems or disputes, contact NAB on , or visit any NAB branch. NAB has available on request information about the procedures for lodging a complaint. For more details about our internal dispute resolution procedures please ask for our complaints resolution brochure. If you subsequently feel that the issue has not been resolved to your satisfaction, you may contact our external dispute resolution scheme. External dispute resolution is a free service established to provide you with an independent mechanism to resolve specific complaints. Our external dispute resolution provider is the Australian Financial Complaints Authority (AFCA) and can be contacted at: Telephone: (free call) Website: Email: Postal address: Australian Financial Complaints Authority GPO Box 3 Melbourne VIC 3001 Australia 8 Notice Provisions 8.1 How does NAB notify you of changes? NAB will give you notice of changes to your card using the methods set out below, and you agree to receive notice in such ways as set out below. If we believe a change is unfavourable to you, we will usually give the notice specified under “Time Frame” below, but can give you a shorter notice period than specified in this clause, or no notice, if that is in accordance with law and applicable industry codes. For instance, this may happen if: (a) its is reasonable for us to manage a material or immediate risk (b) there is a new or varied government charge in connection with this contract. In this case, we will tell you about the introduction or change reasonably promptly after the government notifies us. However, we may not have to tell you about the change or introduction if the government publicises it. Type of Change Method of Notification Time Frame Changes to the daily limit that can be withdrawn or transferred from your card In writing or electronically At least 30 days before the change takes effect Changes to the time during which the daily limit applies to purchases and withdrawals of cash undertaken using a card or PIN In writing or electronically At least 30 days before the change takes effect Changes to an increase in the accountholders liability for losses relating to EFT transactions In writing or electronically At least 30 days before the change takes effect Changes to fees and charges (including the introduction or increase of charges relating solely to the use of your card or PIN or card account details or the issue of an additional or replacement card or PIN or card account details) In writing or electronically At least 30 days before the change takes effect Any other changes to NAB Electronic Banking (card based) terms and conditions In writing or electronically or by media advertisement No later than the day the change takes effect or as required under applicable laws and industry codes 8.2 Electronic communication (a) To the extent permitted by law and subject to , notices, statements, certificates, consents, approvals and other communications in connection with the terms and conditions in this booklet from NAB, may be given electronically: (i) by electronic means, including by SMS, electronic mail to your nominated electronic address or push notification to any NAB app we may make available to you; or (ii) by making it available at NAB’s website; or (iii) if you use an online banking service provided by NAB (eg. NAB Internet Banking or NAB Connect), by being made available through that service; or (iv) by any other means we agree with you. (b) Where communications are made available through NAB’s website or through a NAB online banking service, we will let you know the information is there by sending you an SMS or email to the contact details we have on file, or by push notification from any NAB app or any other agreed method. 8.3 You can choose to receive notices or statements in paper by giving NAB notice. Where your product or service is designed exclusively for electronic use, paper notices and statements are only available in limited circumstances. 8.4 For the purposes of clause 8.2: (a) You may request a paper copy of a communication given electronically within six months of the electronic copy being received or made available. (b) A communication is deemed to be received when the communication enters the recipient’s designated information system or is capable of being viewed from a recipient’s computer, and is effective when received even if no person is aware of its receipt. (c) For the purposes of communications sent by electronic mail and the Electronic Transactions Act, the server on which the mailbox for the designated address resides is to be taken to be the recipient’s designated information system. (d) A communication is deemed to be sent from where the sender has their place of business and is deemed to be received where the recipient has their place of business. For the purposes of this clause: (i) if the sender or recipient has more than one place of business, the place of business is the sender’s or recipient’s principal place of business; and (ii) if the sender or recipient does not have a place of business, the place of business is the sender’s or recipient’s usual place. 9 ePayments Code and Banking Code of Practice 9.1 ePayments Code warranty NAB warrants that it will comply with the requirements of the ePayments Code for all EFT Transactions on Nominated Accounts other than Business EFT Transactions. 9.2 Banking Code of Practice NAB has adopted the Banking Code of Practice and relevant provisions of the Code apply to this banking service, if you are an individual or a small business referred to in the Code. You can obtain from NAB upon request: (a) information on NAB’s current interest rates and standard fees and charges relating to this banking service if any; (b) general descriptive information concerning NAB’s banking services including: (i) general descriptive information about cheques for accounts with cheque access; (ii) account opening procedures; (iii) NAB’s obligations regarding the confidentiality of your information; (iv) complaint handling procedures; (v) bank cheques; (vi) the advisability of you informing NAB promptly when you are in financial difficulty; (vii) the advisability of you reading the terms and conditions applying to each banking service NAB provides to you. (c) general descriptive information about: (i) the identification requirements of the Anti Money Laundering and Terrorism Financing Act 2006; (ii) the options available to you under the tax file number legislation; and (d) a copy of the Banking Code of Practice. 10 Discretions Where these terms and conditions confer a discretion on NAB, NAB will exercise that discretion reasonably and in accordance with its legitimate business interests. 11 Governing law The terms and conditions in this booklet and the transactions contemplated by these terms and conditions are governed by the law in force in Victoria and each party irrevocably and unconditionally submits to the non-exclusive jurisdiction of those courts. 12 Meaning of words The following definitions apply throughout these Conditions of Use unless otherwise stated: ‘ accountholder ’ means a person who has an account in their own name or, if in joint names, in respect of which NAB may act on the instructions of any one or more of them. ‘ ATM ’ means Automatic Teller Machine. ‘Banking Code of Practice’ or ‘Code’ means the Banking Code of Practice, but before 1 July 2019 refer to the Code of Banking Practice (2013 version). ‘ business account ’ means an account that is designed primarily for use by a business and established primarily for business purposes. ‘ business customer ’ means the accountholder in respect of a nominated account which is a business account. ‘ business day ’ means a day other than a Saturday or Sunday or a day gazetted as a public holiday throughout Australia. ‘ business EFT transaction ’ means the part of an electronic funds transfer which is the debiting of value from or crediting of value to an account that is designed by NAB primarily for use by a business and established primarily for business purposes. ‘ card ’ means a card issued by NAB for use in relation to your account. It may include NAB Debit Card, Visa credit card and Deposit Only Cards. ‘ card account details ’ means: (a) Your credit card number; and (b) Your credit card expiry date, as set out on your credit card or any representation of those details which allow a transaction to be performed. ‘ cardholder ’ means a person who has been issued a card or any other person who has been nominated by an accountholder to operate on a nominated account and who has been issued a card, or otherwise authorised by an accountholder to use an accountholder’s card or card account details. ‘ contactless authorisation method ’ means the method of confirming your authority to make a contactless purchase, if any. ‘ contactless purchase ’ is a method of authorising purchases: (a) by waving or tapping a card (which is capable of making a contactless purchase) in front of a contactless reader without having to insert or swipe the card; or (b) when available, waving or tapping an eligible device (eg mobile phone device or wearable) in front of a contactless reader to transmit card account details using Near Field Communication and complying with any required contactless authentication method. ‘ contactless reader ’ is an electronic device at a merchant which can be used to make a contactless purchase. ‘ deposit only card ’ means a debit card issued by NAB which cannot be used to authorise withdrawals from Nominated Accounts. ‘ EFTPOS terminal ’ means an Electronic Funds Transfer at Point of Sale terminal. ‘ EFT transaction ’ means a funds transfer to or from an account which is initiated through electronic equipment using a card details and/or card, card account details or PIN or contactless authentication method (or a combination of one or more of them) to debit or credit a nominated account but does not include: any funds transfer which is authorised by a cardholder physically signing a document any funds transfer through a NAB channel with separate terms and conditions such as: (i) NAB Telephone Banking; (ii) NAB Internet Banking; (iii) NAB Online Corporate; or (iv) NAB Online Business. ‘ electronic equipment ’ means any electronic equipment which may be used in conjunction with a card or card account details including ATMs, EFTPOS terminals, contactless readers, personal computers, telephones, wearable devices or devices with integrated virtual assistants to carry out an EFT transaction. A PIN may not always be required as part of the authentication method when making purchases/payment via digital wallets (eg on a mobile phone or wearable device) and/or through devices with integrated virtual assistants. Alternative authentication methods like a device code or biometric identifier (like fingerprint, voice and facial recognition) may be required in place of a PIN. ‘ ePayments Code ’ means the ePayments Code issued by the Australian Securities and Investments Commission and subscribed to by NAB on 20 March 2013. ‘ merchant ’ means a provider of goods and services. ‘ NAB ’ means National Australia Bank Limited ABN 12 004 044 937 and its successors and assigns. ‘ Near Field Communication (NFC) ’ is a form of contactless communication available on compatible devices such as smartphones or tablets. ‘ nominated account ’ means an account which can be accessed by using your card and PIN and/or card account details as authorised by the accountholder. This also includes an account that you have designated as your main account under ‘ PIN ’ means the personal identification number allocated by NAB or personally selected by You. ‘ receipt ’ means a record of an EFT transaction. ‘ unauthorised transaction ’ means any EFT transaction where: you did not engage in or have knowledge of or consent to the EFT transaction even though your card, card account details and/or the correct PIN or contactless authentication method were used to generate the disputed EFT Transaction; or through a technical malfunction you did use your card, card account details and/or PIN and the EFT transaction entered in your nominated account differs in value from the Receipt. Please refer to clause . ‘ you/your ’ means a cardholder or an accountholder. Get in touch Customer Support Tool Solve problems quickly online with our easy-to-follow guides. Simply select a topic and we’ll direct you to the information you need. Contact us Visit our personal banking contact page for FAQ’s and how-to-guides, help from our virtual assistant and contact numbers. Visit a NAB branch Visit us in person at your nearest NAB branch or business banking centre. Important information This section contains Important Information relevant to the page you are viewing, but you can't see it because you have JavaScript disabled on your browser. Please enable JavaScript and come back so you can see the complete page. It's important that you read the Important Information in this section before acting on any information on this page. Apologies but the Important Information section you are trying to view is not displaying properly at the moment. Please refresh the page or try again later.  \""
      ]
     },
     "execution_count": 87,
     "metadata": {},
     "output_type": "execute_result"
    }
   ],
   "source": [
    "Parsed_output_v2[Parsed_output_v2['filename'].str.contains('card-based')]['parsed_results'].tolist()[0]"
   ]
  },
  {
   "cell_type": "markdown",
   "metadata": {
    "application/vnd.databricks.v1+cell": {
     "cellMetadata": {},
     "inputWidgets": {},
     "nuid": "d188a3d2-aa72-45be-a00c-941c15c52d9d",
     "showTitle": false,
     "title": ""
    }
   },
   "source": [
    "### Convert dataframe to spark and store it as a Delta table"
   ]
  },
  {
   "cell_type": "code",
   "execution_count": 0,
   "metadata": {
    "application/vnd.databricks.v1+cell": {
     "cellMetadata": {
      "byteLimit": 2048000,
      "rowLimit": 10000
     },
     "inputWidgets": {},
     "nuid": "1e8a5251-ea91-497b-8614-d1a8d39ec334",
     "showTitle": false,
     "title": ""
    }
   },
   "outputs": [
    {
     "output_type": "stream",
     "name": "stdout",
     "output_type": "stream",
     "text": [
      "Length of dataframe : 541\n+--------------------+--------------------+----------------+\n|            filename|      parsed_results|length_of_string|\n+--------------------+--------------------+----------------+\n|  general-terms.html| General terms fo...|           44379|\n|card-based-electr...| Electronic banki...|           41383|\n|home-loan-interes...| Home loan intere...|           39644|\n|stamp-duty-calcul...| Stamp Duty Calcu...|           34601|\n|equity-loan-calcu...| Equity Calculato...|           33546|\n|how-things-work.html| Interest, paymen...|           31853|\n|nab-qantas-credit...| NAB Qantas credi...|           29490|\n|all-home-loan-int...| See all our home...|           29092|\n|       managing.html| Managing and res...|           24641|\n|digital-card-term...| Important terms ...|           22183|\n|how-things-work.html| NAB StraightUp C...|           20964|\n|       managing.html| Managing your NA...|           20728|\n|nab-choice-packag...| Choice Package |...|           20366|\n|           faqs.html| International Mo...|           18972|\n|   credit-cards.html| Credit Cards | C...|           16648|\n|   credit-cards.html| Apply for a cred...|           14496|\n|additional-inform...| International tr...|           13962|\n|    definitions.html| Credit card defi...|           13377|\n|      apple-pay.html| Tap and pay with...|           13211|\n| resolve-issues.html| Resolving issues...|           12776|\n+--------------------+--------------------+----------------+\nonly showing top 20 rows\n\n"
     ]
    }
   ],
   "source": [
    "from pyspark.sql.functions import *\n",
    "\n",
    "#Convert the pandas dataframe into a spark datadframe\n",
    "parsed_spark_df_v2 = spark.createDataFrame(Parsed_output_v2)\n",
    "\n",
    "# #Save the pyspark dataframe as a delta table in unity catalog \n",
    "# parsed_spark_df_v2.write.mode(\"overwrite\").saveAsTable(\"nab_llm_demo.nab_website_data.parsed_dataset_v2\")\n",
    "\n",
    "#Create a new column to determine the length of the strings\n",
    "parsed_spark_df_v2 = parsed_spark_df_v2 \\\n",
    "                      .withColumn(\"length_of_string\", length(col('parsed_results'))) \n",
    "\n",
    "#Save the pyspark dataframe as a delta table in unity catalog \n",
    "parsed_spark_df_v2.write.mode(\"overwrite\").saveAsTable(\"nab_llm_demo.nab_website_data.parsed_dataset_v2\")\n",
    "\n",
    "print(f'Length of dataframe : {parsed_spark_df_v2.count()}')\n",
    "parsed_spark_df_v2.orderBy('length_of_string',ascending=False).show(20)"
   ]
  },
  {
   "cell_type": "code",
   "execution_count": 0,
   "metadata": {
    "application/vnd.databricks.v1+cell": {
     "cellMetadata": {},
     "inputWidgets": {},
     "nuid": "72e8d559-a98d-40f0-881f-1b05fb160dce",
     "showTitle": false,
     "title": ""
    }
   },
   "outputs": [],
   "source": []
  },
  {
   "cell_type": "code",
   "execution_count": 0,
   "metadata": {
    "application/vnd.databricks.v1+cell": {
     "cellMetadata": {},
     "inputWidgets": {},
     "nuid": "24e67a8c-5596-48c4-808e-4c72634e0f8b",
     "showTitle": false,
     "title": ""
    }
   },
   "outputs": [],
   "source": []
  },
  {
   "cell_type": "code",
   "execution_count": 0,
   "metadata": {
    "application/vnd.databricks.v1+cell": {
     "cellMetadata": {},
     "inputWidgets": {},
     "nuid": "04298431-98cc-4740-8a1a-ec380f168805",
     "showTitle": false,
     "title": ""
    }
   },
   "outputs": [],
   "source": []
  },
  {
   "cell_type": "code",
   "execution_count": 0,
   "metadata": {
    "application/vnd.databricks.v1+cell": {
     "cellMetadata": {},
     "inputWidgets": {},
     "nuid": "b2dd1abe-0e8c-4454-8158-559e98c5700b",
     "showTitle": false,
     "title": ""
    }
   },
   "outputs": [],
   "source": []
  },
  {
   "cell_type": "markdown",
   "metadata": {
    "application/vnd.databricks.v1+cell": {
     "cellMetadata": {},
     "inputWidgets": {},
     "nuid": "5f92f585-e47a-4067-8767-4a93e5fa9b06",
     "showTitle": false,
     "title": ""
    }
   },
   "source": [
    "## Alternate code to read html directly and parse based on section_break"
   ]
  },
  {
   "cell_type": "code",
   "execution_count": 0,
   "metadata": {
    "application/vnd.databricks.v1+cell": {
     "cellMetadata": {
      "byteLimit": 2048000,
      "rowLimit": 10000
     },
     "inputWidgets": {},
     "nuid": "7f66bae8-9bc2-4f9c-b1e6-f42a44aa2c19",
     "showTitle": false,
     "title": ""
    }
   },
   "outputs": [
    {
     "output_type": "stream",
     "name": "stdout",
     "output_type": "stream",
     "text": [
      "+--------------------+----------+--------------------+\n|            filename|segment_id|        segment_text|\n+--------------------+----------+--------------------+\n|        FormNPS.html|         0| FormNPS - NAB Se...|\n|       accounts.html|         0| Bank accounts | ...|\n|buy-now-pay-later...|         0| NAB Now Pay Late...|\n|calculators-and-f...|         0| Calculators and ...|\n|   credit-cards.html|         0| Credit Cards | C...|\n|     home-loans.html|         0| Home loans | Vie...|\n|      insurance.html|         0| Personal insuran...|\n|interest-rates-fe...|         0| Personal banking...|\n|international-ban...|         0| International ba...|\n|   life-moments.html|         0| Life moments | P...|\n|mobile-onboarding...|         0| Moboarding - NAB...|\n| online-banking.html|         0| Online banking |...|\n| personal-loans.html|         0| Personal Loans |...|\n| private-wealth.html|         0| NAB Private Weal...|\n|super-and-investm...|         0| Superannuation, ...|\n|  youth-banking.html|         0| Youth banking | ...|\n| responsivegrid.html|         0| Reach your money...|\n|cheque-payments.html|         0| Cheque payment i...|\n|    debit-cards.html|         0| Visa Debit Cards...|\n| joint-accounts.html|         0| Joint accounts |...|\n+--------------------+----------+--------------------+\nonly showing top 20 rows\n\n"
     ]
    }
   ],
   "source": [
    "from pyspark.sql.functions import split, regexp_replace, explode, posexplode\n",
    "\n",
    "#Pass it to a temporary dataframe\n",
    "temp_df = parsed_spark_df_v2\n",
    "\n",
    "#Split the filename column to array based on \"section_break\"\n",
    "df2 = temp_df.select(\"filename\", split(temp_df.parsed_results,\"section_break\",-1).alias(\"array_split\"))\n",
    "\n",
    "#Explode the array to rows \n",
    "df3 = df2.select(\"filename\", posexplode(\"array_split\"))\n",
    "\n",
    "#Define section ID for each row\n",
    "final_df = df3.select(\"filename\", df3.pos.alias(\"segment_id\"), regexp_replace(\"col\",\"\\n\",\"\").alias(\"segment_text\"))\n",
    "\n",
    "#Save the pyspark dataframe as a delta table in unity catalog \n",
    "final_df.write.mode(\"overwrite\").saveAsTable(\"nab_llm_demo.nab_website_data.parsed_dataset_v3\")\n",
    "final_df.show()"
   ]
  },
  {
   "cell_type": "markdown",
   "metadata": {
    "application/vnd.databricks.v1+cell": {
     "cellMetadata": {},
     "inputWidgets": {},
     "nuid": "cdf17634-a5b8-49a5-90cf-0c9b01bd7fdb",
     "showTitle": false,
     "title": ""
    }
   },
   "source": [
    "### Archive"
   ]
  },
  {
   "cell_type": "code",
   "execution_count": 0,
   "metadata": {
    "application/vnd.databricks.v1+cell": {
     "cellMetadata": {
      "byteLimit": 2048000,
      "rowLimit": 10000
     },
     "inputWidgets": {},
     "nuid": "41a5bbba-89db-4b93-8db1-e50099f3c380",
     "showTitle": false,
     "title": ""
    }
   },
   "outputs": [],
   "source": [
    "# text_blurb_to_remove = \"NAB Search Search nab.com.au Search nab.com.au Latest offers close notification Notification: NAB Mobile Banking app Update your browser. This website doesn't support your browser and may impact your experience. How was your visit to the NAB website? We’d love to hear from you. New NAB Now Pay Later Link your NAB Classic Banking account to NAB Now Pay Later to split your purchases into four simple repayments and pay no interest or fees. Offer Up to $300 cash back Looking for a credit card that not only offers a low interest rate but provides up to $300 cash back? Offer applies to a new NAB Low Rate Card . $100 cash back per month for the first three months from account opening when you spend $500 per month on purchases. Awarded monthly based on statement period and credited on closing date of statement. Purchases must be processed and charged in the relevant month. Excludes gambling/gaming related transactions. Offer may vary or end at any time. Not available when closing or transferring from another NAB credit card or with other NAB card offer. View calculators $0 international transfer fee Transfer your money securely overseas using NAB Internet Banking or the NAB app. $0 transfer fee when sending in a foreign currency. Discounts and benefits With a NAB business transaction account, you can enjoy discounts, benefits and offers from our partners. Get a fast, simple unsecured loan with NAB QuickBiz. No physical assets required for security and fast access to funds. It's easy to apply online and you'll receive an instant decision. Offer 100,000 NAB Rewards bonus points Earn 100,000 NAB Rewards Bonus Points when you spend $4,000 on everyday business purchases within 60 days of your account opening. Terms and conditions apply. Take payments with NAB Easy Tap Download the NAB Easy Tap app to your Android device for a low-cost, simple and easy way to take contactless card payments. Related tools and help NAB Connect NAB Connect is a powerful online banking solution that offers your business the flexibility of multiple users, advanced reporting and much more. Business product selection, made easy. Explore multiple products all in one place with Small Biz Explorer. The Morning Call Podcast Start your day with the NAB Morning Call Podcast, for the latest overnight key economic and market information straight from our team of experts. The Morning Call Podcast Start your day with the NAB Morning Call Podcast, for the latest overnight key economic and market information straight from our team of experts. More about sustainability Fraud and scams support Troubleshooting guides Fraud and scams support Search nab.com.au Login Internet Banking\""
   ]
  },
  {
   "cell_type": "code",
   "execution_count": 0,
   "metadata": {
    "application/vnd.databricks.v1+cell": {
     "cellMetadata": {},
     "inputWidgets": {},
     "nuid": "dc738cd6-e4b9-4227-89ad-ecc9c3a356e0",
     "showTitle": false,
     "title": ""
    }
   },
   "outputs": [],
   "source": [
    "# import re\n",
    "\n",
    "# # sample_string = Parsed_output[Parsed_output['filename'] == 'after-auction.html']['parsed_results'].tolist()[0]\n",
    "# sample_string = Parsed_output_v2[Parsed_output_v2[\"filename\"] == 'nab-straightup-card.html']['parsed_results'].tolist()[0]\n",
    "# cleanString = re.sub(\"\\n\\n+\",' ', sample_string )\n",
    "\n",
    "# #Define the population string\n",
    "# population = re.sub(\"\\s+\",' ', cleanString )\n",
    "# # sample = re.sub(\"\\s+\",' ', text_blurb_to_remove )\n",
    "\n",
    "# cleaned_output = population.replace(exclusion_blurb ,'')\n",
    "# print(f\"\"\"length of the string : {len(cleaned_output)}\"\"\")\n",
    "# cleaned_output"
   ]
  }
 ],
 "metadata": {
  "application/vnd.databricks.v1+notebook": {
   "dashboards": [],
   "language": "python",
   "notebookMetadata": {
    "mostRecentlyExecutedCommandWithImplicitDF": {
     "commandId": 3340404146475903,
     "dataframes": [
      "_sqldf"
     ]
    },
    "pythonIndentUnit": 2
   },
   "notebookName": "Html_Parsers_V2",
   "widgets": {}
  }
 },
 "nbformat": 4,
 "nbformat_minor": 0
}

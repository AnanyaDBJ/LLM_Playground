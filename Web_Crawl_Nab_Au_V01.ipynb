{
 "cells": [
  {
   "cell_type": "markdown",
   "metadata": {
    "application/vnd.databricks.v1+cell": {
     "cellMetadata": {},
     "inputWidgets": {},
     "nuid": "53fce4b4-68c7-4cfe-9014-4ea3b70f6cfe",
     "showTitle": false,
     "title": ""
    }
   },
   "source": [
    "## Initial version of Web Crawler for Nab Portal\n",
    "\n",
    "The below function crawls through Nab portal ( Starting from a random page) and traverses through all hyperlinks and stores each page as an html file into local repo. \n",
    "This code stores PDF/Doc/Docx files also in local repo. \n",
    "The last part of the code is copying the data from local to /dbfs/nab_demo"
   ]
  },
  {
   "cell_type": "code",
   "execution_count": 0,
   "metadata": {
    "application/vnd.databricks.v1+cell": {
     "cellMetadata": {},
     "inputWidgets": {},
     "nuid": "084ddcfb-2de0-4412-9e0e-74d5a97f20b3",
     "showTitle": false,
     "title": ""
    }
   },
   "outputs": [],
   "source": [
    "import os\n",
    "import scrapy\n",
    "from scrapy.linkextractors import LinkExtractor\n",
    "from scrapy.crawler import CrawlerProcess\n",
    "import os\n",
    "import re\n",
    "\n",
    "class NabSpider(scrapy.Spider):\n",
    "    name = \"nab_spider\"\n",
    "    start_urls = [\"https://www.nab.com.au/business/international-and-foreign-exchange/international-money-transfers\"]\n",
    "    allowed_domains = [\"nab.com.au\"]\n",
    "    \n",
    "    def __init__():\n",
    "      self.path = \"/dbfs/nab_demo/\"\n",
    "\n",
    "    def parse(self,response):\n",
    "        #Save the HTML content to a file \n",
    "        content_name = response.url.strip(\"/\")\n",
    "        file_name = f\"{content_name.replace('/', '_')}.html\"\n",
    "        file_path = os.path.join(self.path, file_name)\n",
    "        print(f\"file path is : {file_path}\")\n",
    "        print(f'unique file name is : {file_name}')\n",
    "        \n",
    "        with open(file_path,\"wb\") as file:\n",
    "            file.write(response.body)\n",
    "        self.log(f\"saved page :{file_path}\")\n",
    "        \n",
    "        # Extract all links from the current page\n",
    "        links = response.css(\"a::attr(href)\").getall()\n",
    "\n",
    "#         for link in links:\n",
    "#             if re.search(r\"\\bPDF\\b|\\bpdf\\b\", link):\n",
    "#                 yield response.follow(link, callback=self.save_attachment)\n",
    "#             elif re.search(r\"\\bDOC\\b|\\bdoc\\b|\\bDOCX\\b|\\bdocx\\b\", link):\n",
    "#                 yield response.follow(link, callback=self.save_attachment)\n",
    "# #           else:\n",
    "# #               yield response.follow(link,callback=self.parse)\n",
    "            \n",
    "        for link in links:\n",
    "            if link.endswith((\".pdf\", \".doc\", \".docx\")):\n",
    "              yield response.follow(link, callback=self.save_attachment)\n",
    "            # elif link.startswith((\"http:\", \"https:\")):\n",
    "            #   yield response.follow(link, callback=self.parse)\n",
    "\n",
    "    def save_attachment(self,response):\n",
    "        \"Extract the filename from the url\"\n",
    "        print(\"I am saving\")\n",
    "        file_name = os.path.basename(response.url)\n",
    "        # file_path = os.path.join(\"nab_attachments\",file_name)\n",
    "        file_path = os.path.join(self.path,file_name)\n",
    "        with open(file_path,\"wb\") as file:\n",
    "            file.write(response.body)\n",
    "        self.log(f\"saved attachment: {file_path}\")\n",
    "            \n",
    "        \n",
    "#Create a sub-folder\n",
    "os.makedirs(\"nab_pages\",exist_ok=True)\n",
    "os.makedirs(\"nab_attachments\",exist_ok=True)\n",
    "\n",
    "#Run the spider\n",
    "process = CrawlerProcess(settings={\"LOG_LEVEL\":\"ERROR\"})\n",
    "\n",
    "process.crawl(NabSpider)\n",
    "process.start()"
   ]
  },
  {
   "cell_type": "code",
   "execution_count": 0,
   "metadata": {
    "application/vnd.databricks.v1+cell": {
     "cellMetadata": {},
     "inputWidgets": {},
     "nuid": "faa16600-555d-46f5-a392-d1807d3877c2",
     "showTitle": false,
     "title": ""
    }
   },
   "outputs": [],
   "source": [
    "%cp 'nab_attachments' '/dbfs/nab_demo/' --recursive\n",
    "%cp 'nab_pages' '/dbfs/nab_demo/' --recursive"
   ]
  },
  {
   "cell_type": "code",
   "execution_count": 0,
   "metadata": {
    "application/vnd.databricks.v1+cell": {
     "cellMetadata": {
      "byteLimit": 2048000,
      "rowLimit": 10000
     },
     "inputWidgets": {},
     "nuid": "9386b97b-6ff6-4513-9f8a-ccbfab024779",
     "showTitle": false,
     "title": ""
    }
   },
   "outputs": [],
   "source": [
    "display(dbutils.fs.ls('dbfs:/nab_demo/'))"
   ]
  },
  {
   "cell_type": "code",
   "execution_count": 0,
   "metadata": {
    "application/vnd.databricks.v1+cell": {
     "cellMetadata": {
      "byteLimit": 2048000,
      "rowLimit": 10000
     },
     "inputWidgets": {},
     "nuid": "c76314b0-38de-4292-b422-205bc4b82c5f",
     "showTitle": false,
     "title": ""
    }
   },
   "outputs": [],
   "source": [
    "ls -p '/dbfs/nab_demo/nab_attachments/' | grep -v / | wc -l"
   ]
  },
  {
   "cell_type": "code",
   "execution_count": 0,
   "metadata": {
    "application/vnd.databricks.v1+cell": {
     "cellMetadata": {
      "byteLimit": 2048000,
      "rowLimit": 10000
     },
     "inputWidgets": {},
     "nuid": "cac3ec13-65c1-4ceb-9864-c0f176b4cea6",
     "showTitle": false,
     "title": ""
    }
   },
   "outputs": [],
   "source": [
    "ls -p '/dbfs/nab_demo/nab_pages/' | grep -v / | wc -l"
   ]
  },
  {
   "cell_type": "code",
   "execution_count": 0,
   "metadata": {
    "application/vnd.databricks.v1+cell": {
     "cellMetadata": {},
     "inputWidgets": {},
     "nuid": "832fee6e-d5e2-4f06-a3c2-410f1eac8223",
     "showTitle": false,
     "title": ""
    }
   },
   "outputs": [],
   "source": []
  }
 ],
 "metadata": {
  "application/vnd.databricks.v1+notebook": {
   "dashboards": [],
   "language": "python",
   "notebookMetadata": {
    "pythonIndentUnit": 2
   },
   "notebookName": "Web_Crawl_Nab_Au_V01",
   "widgets": {}
  }
 },
 "nbformat": 4,
 "nbformat_minor": 0
}

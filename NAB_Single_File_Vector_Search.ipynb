{
 "cells": [
  {
   "cell_type": "code",
   "execution_count": 0,
   "metadata": {
    "application/vnd.databricks.v1+cell": {
     "cellMetadata": {
      "byteLimit": 2048000,
      "rowLimit": 10000
     },
     "inputWidgets": {},
     "nuid": "33d65477-c513-43ec-a2e0-b26e76a5382c",
     "showTitle": false,
     "title": ""
    }
   },
   "outputs": [
    {
     "output_type": "stream",
     "name": "stdout",
     "output_type": "stream",
     "text": [
      "Collecting chromadb==0.3.21\r\n  Using cached chromadb-0.3.21-py3-none-any.whl (46 kB)\r\nCollecting fastapi>=0.85.1\r\n  Downloading fastapi-0.100.0-py3-none-any.whl (65 kB)\r\n\u001B[?25l     \u001B[90m━━━━━━━━━━━━━━━━━━━━━━━━━━━━━━━━━━━━━━━━\u001B[0m \u001B[32m0.0/65.7 kB\u001B[0m \u001B[31m?\u001B[0m eta \u001B[36m-:--:--\u001B[0m\r\u001B[2K     \u001B[90m━━━━━━━━━━━━━━━━━━━━━━━━━━━━━━━━━━━━━━━━\u001B[0m \u001B[32m65.7/65.7 kB\u001B[0m \u001B[31m2.1 MB/s\u001B[0m eta \u001B[36m0:00:00\u001B[0m\r\n\u001B[?25hCollecting clickhouse-connect>=0.5.7\r\n  Using cached clickhouse_connect-0.6.8-cp310-cp310-manylinux_2_17_x86_64.manylinux2014_x86_64.whl (966 kB)\r\nCollecting numpy>=1.21.6\r\n  Using cached numpy-1.25.1-cp310-cp310-manylinux_2_17_x86_64.manylinux2014_x86_64.whl (17.6 MB)\r\nRequirement already satisfied: pydantic>=1.9 in /databricks/python3/lib/python3.10/site-packages (from chromadb==0.3.21) (1.10.6)\r\nRequirement already satisfied: requests>=2.28 in /databricks/python3/lib/python3.10/site-packages (from chromadb==0.3.21) (2.28.1)\r\nRequirement already satisfied: sentence-transformers>=2.2.2 in /databricks/python3/lib/python3.10/site-packages (from chromadb==0.3.21) (2.2.2)\r\nCollecting duckdb>=0.7.1\r\n  Using cached duckdb-0.8.1-cp310-cp310-manylinux_2_17_x86_64.manylinux2014_x86_64.whl (15.9 MB)\r\nCollecting uvicorn[standard]>=0.18.3\r\n  Using cached uvicorn-0.23.1-py3-none-any.whl (59 kB)\r\nCollecting posthog>=2.4.0\r\n  Using cached posthog-3.0.1-py2.py3-none-any.whl (37 kB)\r\nRequirement already satisfied: pandas>=1.3 in /databricks/python3/lib/python3.10/site-packages (from chromadb==0.3.21) (1.4.4)\r\nCollecting hnswlib>=0.7\r\n  Using cached hnswlib-0.7.0-cp310-cp310-linux_x86_64.whl\r\nCollecting lz4\r\n  Using cached lz4-4.3.2-cp310-cp310-manylinux_2_17_x86_64.manylinux2014_x86_64.whl (1.3 MB)\r\nRequirement already satisfied: certifi in /databricks/python3/lib/python3.10/site-packages (from clickhouse-connect>=0.5.7->chromadb==0.3.21) (2022.9.14)\r\nRequirement already satisfied: urllib3>=1.26 in /databricks/python3/lib/python3.10/site-packages (from clickhouse-connect>=0.5.7->chromadb==0.3.21) (1.26.11)\r\nRequirement already satisfied: importlib-metadata in /databricks/python3/lib/python3.10/site-packages (from clickhouse-connect>=0.5.7->chromadb==0.3.21) (4.11.3)\r\nCollecting zstandard\r\n  Using cached zstandard-0.21.0-cp310-cp310-manylinux_2_17_x86_64.manylinux2014_x86_64.whl (2.7 MB)\r\nRequirement already satisfied: pytz in /databricks/python3/lib/python3.10/site-packages (from clickhouse-connect>=0.5.7->chromadb==0.3.21) (2022.1)\r\nCollecting starlette<0.28.0,>=0.27.0\r\n  Using cached starlette-0.27.0-py3-none-any.whl (66 kB)\r\nCollecting typing-extensions>=4.5.0\r\n  Using cached typing_extensions-4.7.1-py3-none-any.whl (33 kB)\r\nRequirement already satisfied: python-dateutil>=2.8.1 in /databricks/python3/lib/python3.10/site-packages (from pandas>=1.3->chromadb==0.3.21) (2.8.2)\r\nCollecting monotonic>=1.5\r\n  Using cached monotonic-1.6-py2.py3-none-any.whl (8.2 kB)\r\nCollecting backoff>=1.10.0\r\n  Using cached backoff-2.2.1-py3-none-any.whl (15 kB)\r\nRequirement already satisfied: six>=1.5 in /usr/lib/python3/dist-packages (from posthog>=2.4.0->chromadb==0.3.21) (1.16.0)\r\nRequirement already satisfied: idna<4,>=2.5 in /databricks/python3/lib/python3.10/site-packages (from requests>=2.28->chromadb==0.3.21) (3.3)\r\nRequirement already satisfied: charset-normalizer<3,>=2 in /databricks/python3/lib/python3.10/site-packages (from requests>=2.28->chromadb==0.3.21) (2.0.4)\r\nRequirement already satisfied: tqdm in /databricks/python3/lib/python3.10/site-packages (from sentence-transformers>=2.2.2->chromadb==0.3.21) (4.64.1)\r\nRequirement already satisfied: scipy in /databricks/python3/lib/python3.10/site-packages (from sentence-transformers>=2.2.2->chromadb==0.3.21) (1.9.1)\r\nRequirement already satisfied: torchvision in /databricks/python3/lib/python3.10/site-packages (from sentence-transformers>=2.2.2->chromadb==0.3.21) (0.14.1+cu117)\r\nRequirement already satisfied: transformers<5.0.0,>=4.6.0 in /databricks/python3/lib/python3.10/site-packages (from sentence-transformers>=2.2.2->chromadb==0.3.21) (4.29.2)\r\nRequirement already satisfied: sentencepiece in /databricks/python3/lib/python3.10/site-packages (from sentence-transformers>=2.2.2->chromadb==0.3.21) (0.1.99)\r\nRequirement already satisfied: torch>=1.6.0 in /databricks/python3/lib/python3.10/site-packages (from sentence-transformers>=2.2.2->chromadb==0.3.21) (1.13.1+cu117)\r\nRequirement already satisfied: scikit-learn in /databricks/python3/lib/python3.10/site-packages (from sentence-transformers>=2.2.2->chromadb==0.3.21) (1.1.1)\r\nRequirement already satisfied: huggingface-hub>=0.4.0 in /databricks/python3/lib/python3.10/site-packages (from sentence-transformers>=2.2.2->chromadb==0.3.21) (0.15.1)\r\nRequirement already satisfied: nltk in /databricks/python3/lib/python3.10/site-packages (from sentence-transformers>=2.2.2->chromadb==0.3.21) (3.7)\r\nCollecting h11>=0.8\r\n  Using cached h11-0.14.0-py3-none-any.whl (58 kB)\r\nRequirement already satisfied: click>=7.0 in /databricks/python3/lib/python3.10/site-packages (from uvicorn[standard]>=0.18.3->chromadb==0.3.21) (8.0.4)\r\nCollecting watchfiles>=0.13\r\n  Using cached watchfiles-0.19.0-cp37-abi3-manylinux_2_17_x86_64.manylinux2014_x86_64.whl (1.3 MB)\r\nRequirement already satisfied: pyyaml>=5.1 in /databricks/python3/lib/python3.10/site-packages (from uvicorn[standard]>=0.18.3->chromadb==0.3.21) (6.0)\r\nCollecting httptools>=0.5.0\r\n  Using cached httptools-0.6.0-cp310-cp310-manylinux_2_5_x86_64.manylinux1_x86_64.manylinux_2_17_x86_64.manylinux2014_x86_64.whl (428 kB)\r\nCollecting python-dotenv>=0.13\r\n  Using cached python_dotenv-1.0.0-py3-none-any.whl (19 kB)\r\nCollecting websockets>=10.4\r\n  Using cached websockets-11.0.3-cp310-cp310-manylinux_2_5_x86_64.manylinux1_x86_64.manylinux_2_17_x86_64.manylinux2014_x86_64.whl (129 kB)\r\nCollecting uvloop!=0.15.0,!=0.15.1,>=0.14.0\r\n  Using cached uvloop-0.17.0-cp310-cp310-manylinux_2_17_x86_64.manylinux2014_x86_64.whl (4.1 MB)\r\nRequirement already satisfied: packaging>=20.9 in /databricks/python3/lib/python3.10/site-packages (from huggingface-hub>=0.4.0->sentence-transformers>=2.2.2->chromadb==0.3.21) (21.3)\r\nRequirement already satisfied: filelock in /databricks/python3/lib/python3.10/site-packages (from huggingface-hub>=0.4.0->sentence-transformers>=2.2.2->chromadb==0.3.21) (3.6.0)\r\nRequirement already satisfied: fsspec in /databricks/python3/lib/python3.10/site-packages (from huggingface-hub>=0.4.0->sentence-transformers>=2.2.2->chromadb==0.3.21) (2022.7.1)\r\nCollecting anyio<5,>=3.4.0\r\n  Using cached anyio-3.7.1-py3-none-any.whl (80 kB)\r\nRequirement already satisfied: regex!=2019.12.17 in /databricks/python3/lib/python3.10/site-packages (from transformers<5.0.0,>=4.6.0->sentence-transformers>=2.2.2->chromadb==0.3.21) (2022.7.9)\r\nRequirement already satisfied: tokenizers!=0.11.3,<0.14,>=0.11.1 in /databricks/python3/lib/python3.10/site-packages (from transformers<5.0.0,>=4.6.0->sentence-transformers>=2.2.2->chromadb==0.3.21) (0.13.3)\r\nRequirement already satisfied: zipp>=0.5 in /databricks/python3/lib/python3.10/site-packages (from importlib-metadata->clickhouse-connect>=0.5.7->chromadb==0.3.21) (3.8.0)\r\nRequirement already satisfied: joblib in /databricks/python3/lib/python3.10/site-packages (from nltk->sentence-transformers>=2.2.2->chromadb==0.3.21) (1.2.0)\r\nRequirement already satisfied: threadpoolctl>=2.0.0 in /databricks/python3/lib/python3.10/site-packages (from scikit-learn->sentence-transformers>=2.2.2->chromadb==0.3.21) (2.2.0)\r\nCollecting numpy>=1.21.6\r\n  Using cached numpy-1.24.4-cp310-cp310-manylinux_2_17_x86_64.manylinux2014_x86_64.whl (17.3 MB)\r\nRequirement already satisfied: pillow!=8.3.*,>=5.3.0 in /databricks/python3/lib/python3.10/site-packages (from torchvision->sentence-transformers>=2.2.2->chromadb==0.3.21) (9.2.0)\r\nCollecting sniffio>=1.1\r\n  Using cached sniffio-1.3.0-py3-none-any.whl (10 kB)\r\nCollecting exceptiongroup\r\n  Using cached exceptiongroup-1.1.2-py3-none-any.whl (14 kB)\r\nRequirement already satisfied: pyparsing!=3.0.5,>=2.0.2 in /databricks/python3/lib/python3.10/site-packages (from packaging>=20.9->huggingface-hub>=0.4.0->sentence-transformers>=2.2.2->chromadb==0.3.21) (3.0.9)\r\nInstalling collected packages: monotonic, duckdb, zstandard, websockets, uvloop, typing-extensions, sniffio, python-dotenv, numpy, lz4, httptools, h11, exceptiongroup, backoff, uvicorn, posthog, hnswlib, clickhouse-connect, anyio, watchfiles, starlette, fastapi, chromadb\r\n  Attempting uninstall: typing-extensions\r\n    Found existing installation: typing_extensions 4.3.0\r\n    Not uninstalling typing-extensions at /databricks/python3/lib/python3.10/site-packages, outside environment /local_disk0/.ephemeral_nfs/envs/pythonEnv-ca1752f0-be99-49ff-9491-e66b401d2330\r\n    Can't uninstall 'typing_extensions'. No files were found to uninstall.\r\n  Attempting uninstall: numpy\r\n    Found existing installation: numpy 1.21.5\r\n    Not uninstalling numpy at /databricks/python3/lib/python3.10/site-packages, outside environment /local_disk0/.ephemeral_nfs/envs/pythonEnv-ca1752f0-be99-49ff-9491-e66b401d2330\r\n    Can't uninstall 'numpy'. No files were found to uninstall.\r\n\u001B[31mERROR: pip's dependency resolver does not currently take into account all the packages that are installed. This behaviour is the source of the following dependency conflicts.\r\npetastorm 0.12.1 requires pyspark>=2.1.0, which is not installed.\r\ndatabricks-feature-store 0.13.5 requires pyspark<4,>=3.1.2, which is not installed.\r\nydata-profiling 4.2.0 requires numpy<1.24,>=1.16.0, but you have numpy 1.24.4 which is incompatible.\r\nnumba 0.55.1 requires numpy<1.22,>=1.18, but you have numpy 1.24.4 which is incompatible.\r\nmleap 0.20.0 requires scikit-learn<0.23.0,>=0.22.0, but you have scikit-learn 1.1.1 which is incompatible.\u001B[0m\u001B[31m\r\n\u001B[0mSuccessfully installed anyio-3.7.1 backoff-2.2.1 chromadb-0.3.21 clickhouse-connect-0.6.8 duckdb-0.8.1 exceptiongroup-1.1.2 fastapi-0.100.0 h11-0.14.0 hnswlib-0.7.0 httptools-0.6.0 lz4-4.3.2 monotonic-1.6 numpy-1.24.4 posthog-3.0.1 python-dotenv-1.0.0 sniffio-1.3.0 starlette-0.27.0 typing-extensions-4.7.1 uvicorn-0.23.1 uvloop-0.17.0 watchfiles-0.19.0 websockets-11.0.3 zstandard-0.21.0\r\n\r\n\u001B[1m[\u001B[0m\u001B[34;49mnotice\u001B[0m\u001B[1;39;49m]\u001B[0m\u001B[39;49m A new release of pip available: \u001B[0m\u001B[31;49m22.2.2\u001B[0m\u001B[39;49m -> \u001B[0m\u001B[32;49m23.2.1\u001B[0m\r\n\u001B[1m[\u001B[0m\u001B[34;49mnotice\u001B[0m\u001B[1;39;49m]\u001B[0m\u001B[39;49m To update, run: \u001B[0m\u001B[32;49mpip install --upgrade pip\u001B[0m\r\nCollecting ctransformers\r\n  Using cached ctransformers-0.2.14-py3-none-any.whl (6.0 MB)\r\nRequirement already satisfied: huggingface-hub in /databricks/python3/lib/python3.10/site-packages (from ctransformers) (0.15.1)\r\nRequirement already satisfied: filelock in /databricks/python3/lib/python3.10/site-packages (from huggingface-hub->ctransformers) (3.6.0)\r\nRequirement already satisfied: packaging>=20.9 in /databricks/python3/lib/python3.10/site-packages (from huggingface-hub->ctransformers) (21.3)\r\nRequirement already satisfied: tqdm>=4.42.1 in /databricks/python3/lib/python3.10/site-packages (from huggingface-hub->ctransformers) (4.64.1)\r\nRequirement already satisfied: requests in /databricks/python3/lib/python3.10/site-packages (from huggingface-hub->ctransformers) (2.28.1)\r\nRequirement already satisfied: pyyaml>=5.1 in /databricks/python3/lib/python3.10/site-packages (from huggingface-hub->ctransformers) (6.0)\r\nRequirement already satisfied: fsspec in /databricks/python3/lib/python3.10/site-packages (from huggingface-hub->ctransformers) (2022.7.1)\r\nRequirement already satisfied: typing-extensions>=3.7.4.3 in /local_disk0/.ephemeral_nfs/envs/pythonEnv-ca1752f0-be99-49ff-9491-e66b401d2330/lib/python3.10/site-packages (from huggingface-hub->ctransformers) (4.7.1)\r\nRequirement already satisfied: pyparsing!=3.0.5,>=2.0.2 in /databricks/python3/lib/python3.10/site-packages (from packaging>=20.9->huggingface-hub->ctransformers) (3.0.9)\r\nRequirement already satisfied: idna<4,>=2.5 in /databricks/python3/lib/python3.10/site-packages (from requests->huggingface-hub->ctransformers) (3.3)\r\nRequirement already satisfied: charset-normalizer<3,>=2 in /databricks/python3/lib/python3.10/site-packages (from requests->huggingface-hub->ctransformers) (2.0.4)\r\nRequirement already satisfied: urllib3<1.27,>=1.21.1 in /databricks/python3/lib/python3.10/site-packages (from requests->huggingface-hub->ctransformers) (1.26.11)\r\nRequirement already satisfied: certifi>=2017.4.17 in /databricks/python3/lib/python3.10/site-packages (from requests->huggingface-hub->ctransformers) (2022.9.14)\r\nInstalling collected packages: ctransformers\r\nSuccessfully installed ctransformers-0.2.14\r\n\r\n\u001B[1m[\u001B[0m\u001B[34;49mnotice\u001B[0m\u001B[1;39;49m]\u001B[0m\u001B[39;49m A new release of pip available: \u001B[0m\u001B[31;49m22.2.2\u001B[0m\u001B[39;49m -> \u001B[0m\u001B[32;49m23.2.1\u001B[0m\r\n\u001B[1m[\u001B[0m\u001B[34;49mnotice\u001B[0m\u001B[1;39;49m]\u001B[0m\u001B[39;49m To update, run: \u001B[0m\u001B[32;49mpip install --upgrade pip\u001B[0m\r\n"
     ]
    }
   ],
   "source": [
    "# !pip install lxml\n",
    "# !pip install html5lib\n",
    "# !pip install chromadb==0.3.21\n",
    "# !pip install ctransformers"
   ]
  },
  {
   "cell_type": "code",
   "execution_count": 0,
   "metadata": {
    "application/vnd.databricks.v1+cell": {
     "cellMetadata": {
      "byteLimit": 2048000,
      "rowLimit": 10000
     },
     "inputWidgets": {},
     "nuid": "c38e1848-7d23-4bc0-af02-2532c1c1d695",
     "showTitle": false,
     "title": ""
    }
   },
   "outputs": [],
   "source": [
    "dbutils.library.restartPython()"
   ]
  },
  {
   "cell_type": "markdown",
   "metadata": {
    "application/vnd.databricks.v1+cell": {
     "cellMetadata": {},
     "inputWidgets": {},
     "nuid": "e914e9f9-8c5c-42d9-93ef-ab5bdfb166ee",
     "showTitle": false,
     "title": ""
    }
   },
   "source": [
    "# Chunking"
   ]
  },
  {
   "cell_type": "code",
   "execution_count": 0,
   "metadata": {
    "application/vnd.databricks.v1+cell": {
     "cellMetadata": {
      "byteLimit": 2048000,
      "rowLimit": 10000
     },
     "inputWidgets": {},
     "nuid": "e51ed084-abaa-4aa2-a35d-8230bfdc5ac4",
     "showTitle": false,
     "title": ""
    }
   },
   "outputs": [],
   "source": [
    "import os\n",
    "from langchain.embeddings import HuggingFaceEmbeddings\n",
    "from langchain.vectorstores import Chroma\n",
    "from langchain.text_splitter import CharacterTextSplitter\n",
    "from langchain.chains import RetrievalQA\n",
    "from langchain import HuggingFacePipeline\n",
    "from langchain.llms import HuggingFaceHub\n",
    "\n",
    "# Manual Model building\n",
    "from transformers import pipeline"
   ]
  },
  {
   "cell_type": "code",
   "execution_count": 0,
   "metadata": {
    "application/vnd.databricks.v1+cell": {
     "cellMetadata": {},
     "inputWidgets": {},
     "nuid": "60db5d85-c0f1-4c5e-ad20-1bb747a1aec0",
     "showTitle": false,
     "title": ""
    }
   },
   "outputs": [],
   "source": [
    "# with open(File_Path,'r') as f:\n",
    "#   file_text = f.read()\n",
    "# file_text"
   ]
  },
  {
   "cell_type": "code",
   "execution_count": 0,
   "metadata": {
    "application/vnd.databricks.v1+cell": {
     "cellMetadata": {
      "byteLimit": 2048000,
      "rowLimit": 10000
     },
     "inputWidgets": {},
     "nuid": "355c5ff4-0a91-4fcb-bcef-d55dcc85aeb3",
     "showTitle": false,
     "title": ""
    }
   },
   "outputs": [
    {
     "output_type": "execute_result",
     "data": {
      "text/plain": [
       "[Document(page_content='How to use a debit card | Banking for teens -  .  Notification: NAB Mobile Banking app  How to use your first debit card How to use your first debit card Tips and tricks to help you manage your money with a debit card. What is a debit card? A debit card is a card that’s linked to your everyday transaction account. It lets you easily access your own money from the account at an ATM or when shopping. NAB Debit Card A is available to customers who are 13 years or younger. This card allows you to withdraw money from your account at an ATM. You can make purchases at shops using EFTPOS, but you can’t shop online or add the card to your digital wallet. You can apply for a NAB Debit Card by visiting a branch. NAB Visa Debit card A is available to customers aged 14 years and older. With this card you can: withdraw from or deposit into your account at an ATM make purchases at shops shop online add the card to your digital wallet. If you’re 14 or older you can for a NAB Visa Debit card', metadata={'source': '/dbfs/nab_demo/output_text_files/parsed_first-debit-card.txt'}),\n",
       " Document(page_content='If you’re 14 or older you can for a NAB Visa Debit card. How to use your debit card When you’re shopping in-store with your debit card you’ll either need to insert, swipe or tap it, depending on the type of EFTPOS machine the store uses. You can also set up your NAB Visa Debit card in your and pay by tapping your phone. If you have a part-time or after-school job, you can give your employer your bank account details so they can deposit your pay into your transaction account. Then you can use your debit card to: shop online or in-store withdraw or deposit cash at an send and receive money via the or use tap and pay services like or . Read our to learn more about using internet banking and managing your debit card in the NAB app. The difference between debit cards and credit cards With a debit card, you’re spending your own money. You can only spend what’s in your transaction account', metadata={'source': '/dbfs/nab_demo/output_text_files/parsed_first-debit-card.txt'}),\n",
       " Document(page_content='The difference between debit cards and credit cards With a debit card, you’re spending your own money. You can only spend what’s in your transaction account. A credit card is a way to borrow money or get ‘credit’ from a bank, which gives you funds up to an agreed limit. You can spend up to that agreed limit, but you have to pay the money back by the due date. If you don’t, you’ll be charged interest and other fees may apply. You must be at least 18 years old and meet other eligibility criteria to apply for a . Security tips When you’re using your debit card in-person or online, follow these tips. Sign the back of your new card as soon as you get it. When setting up your PIN, don’t use numbers that are easy to guess, like your birthday . Never write down or share your PIN with anyone. This also applies to your passwords for internet banking and your devices used to make payments, like smartphones and wearables', metadata={'source': '/dbfs/nab_demo/output_text_files/parsed_first-debit-card.txt'}),\n",
       " Document(page_content='Never write down or share your PIN with anyone. This also applies to your passwords for internet banking and your devices used to make payments, like smartphones and wearables. Don’t let other people use your card and treat your device like your wallet – always keep it close. Always cover the keypad on an ATM or EFTPOS machine when entering your PIN Keep your receipts and regularly check your transactions in the NAB app to make sure you’re being charged correctly. Using your NAB Visa Debit card safely online You can shop online with your NAB Visa Debit card by entering the card number, expiry date and CVV. Always be careful when entering your card details online. Read the fine print and make sure you’re not accidentally signing up for subscriptions or future payments. If you’re shopping on overseas websites, be aware you may be charged an . Learn more about how to', metadata={'source': '/dbfs/nab_demo/output_text_files/parsed_first-debit-card.txt'}),\n",
       " Document(page_content=\"If you’re shopping on overseas websites, be aware you may be charged an . Learn more about how to . What to do if something goes wrong If you lose your card or see a suspicious transaction in your account: Block your card immediately in the NAB app or Internet Banking. Learn how to block your card on your or TM . Call us on . Products you might be interested in Learn about our bank accounts and debit cards. Help and support Advice to help you manage your money. Important Information Terms and Conditions This section contains Important Information relevant to the page you are viewing, but you can't see it because you have JavaScript disabled on your browser. Please enable JavaScript and come back so you can see the complete page. It's important that you read the Important Information in this section before acting on any information on this page. Apologies but the Important Information section you are trying to view is not displaying properly at the moment\", metadata={'source': '/dbfs/nab_demo/output_text_files/parsed_first-debit-card.txt'}),\n",
       " Document(page_content='Apologies but the Important Information section you are trying to view is not displaying properly at the moment. Please refresh the page or try again later. Target Market Determinations for these products are available at . Apple, iPhone, iPad, Touch ID and the Apple logo are trademarks of Apple Inc., registered in the U.S and other countries. App Store is a service mark of Apple Inc. Google and the Google Logo are registered trademarks of Google Inc. © 2012 Google Inc. Consider the which apply when using NAB Internet Banking and the NAB app, before making any decisions regarding these services. The NAB app is compatible with Android™ and iOS, minimum platform requirements apply. Android is a trademark of Google LLC. IOS is a trademark or registered trademark of Cisco in the U.S. and other countries and is used under license. Services issued by NAB.', metadata={'source': '/dbfs/nab_demo/output_text_files/parsed_first-debit-card.txt'})]"
      ]
     },
     "execution_count": 49,
     "metadata": {},
     "output_type": "execute_result"
    }
   ],
   "source": [
    "from langchain.embeddings.sentence_transformer import SentenceTransformerEmbeddings\n",
    "from langchain.text_splitter import CharacterTextSplitter\n",
    "from langchain.vectorstores import Chroma\n",
    "from langchain.document_loaders import TextLoader\n",
    "\n",
    "# File_Path = '/dbfs/nab_demo/output_text_files/parsed_capital-gains-tax.txt'\n",
    "# File_Path = '/dbfs/nab_demo/output_text_files/parsed_nab-low-rate-card.txt'\n",
    "File_Path = '/dbfs/nab_demo/output_text_files/parsed_first-debit-card.txt'\n",
    "\n",
    "# load the document and split it into chunks\n",
    "loader = TextLoader(File_Path)\n",
    "file_content = loader.load()\n",
    "\n",
    "#Define Character Splitter\n",
    "text_splitter = CharacterTextSplitter(        \n",
    "    separator = \".\",\n",
    "    chunk_size = 1000,\n",
    "    chunk_overlap  = 200,\n",
    "    length_function = len,\n",
    ")\n",
    "#Load the text splitter and split documents based on chunk size \n",
    "docs = text_splitter.split_documents(file_content)\n",
    "doc_list = [x.page_content for x in docs]\n",
    "docs"
   ]
  },
  {
   "cell_type": "markdown",
   "metadata": {
    "application/vnd.databricks.v1+cell": {
     "cellMetadata": {},
     "inputWidgets": {},
     "nuid": "3531971c-707b-4f04-a302-13421a887a51",
     "showTitle": false,
     "title": ""
    }
   },
   "source": [
    "### Vector DB"
   ]
  },
  {
   "cell_type": "code",
   "execution_count": 0,
   "metadata": {
    "application/vnd.databricks.v1+cell": {
     "cellMetadata": {
      "byteLimit": 2048000,
      "rowLimit": 10000
     },
     "inputWidgets": {},
     "nuid": "1c6bddc5-ffe6-411d-a8ce-7da92dc9d98c",
     "showTitle": false,
     "title": ""
    }
   },
   "outputs": [
    {
     "output_type": "execute_result",
     "data": {
      "text/plain": [
       "True"
      ]
     },
     "execution_count": 53,
     "metadata": {},
     "output_type": "execute_result"
    }
   ],
   "source": [
    "#section to rebuild the vector store \n",
    "dbutils.fs.rm('dbfs:/nab_demo/vectorstore_persistence/db', True)"
   ]
  },
  {
   "cell_type": "code",
   "execution_count": 0,
   "metadata": {
    "application/vnd.databricks.v1+cell": {
     "cellMetadata": {
      "byteLimit": 2048000,
      "rowLimit": 10000
     },
     "inputWidgets": {},
     "nuid": "72bdd873-8a68-41da-8278-7cb208b1e52e",
     "showTitle": false,
     "title": ""
    }
   },
   "outputs": [],
   "source": [
    "#Create text embeddings from Hugging Face model\n",
    "embeddings = HuggingFaceEmbeddings(model_name='sentence-transformers/all-mpnet-base-v2',\n",
    "                                   model_kwargs={'device': 'cpu'})"
   ]
  },
  {
   "cell_type": "code",
   "execution_count": 0,
   "metadata": {
    "application/vnd.databricks.v1+cell": {
     "cellMetadata": {
      "byteLimit": 2048000,
      "rowLimit": 10000
     },
     "inputWidgets": {},
     "nuid": "72b9f842-6f0a-479c-9cfa-99898770c787",
     "showTitle": false,
     "title": ""
    }
   },
   "outputs": [
    {
     "output_type": "stream",
     "name": "stderr",
     "output_type": "stream",
     "text": [
      "Using embedded DuckDB with persistence: data will be stored in: /dbfs/nab_demo/vectorstore_persistence/db\n"
     ]
    },
    {
     "output_type": "stream",
     "name": "stdout",
     "output_type": "stream",
     "text": [
      "The collection : name='nab_testing' metadata=None index includes: 6 documents\n"
     ]
    }
   ],
   "source": [
    "#Defining the persistant storage of the chroma DB\n",
    "vector_store_directory = '/dbfs/nab_demo/vectorstore_persistence/db'\n",
    "\n",
    "#Load the embedding data into Chroma \n",
    "docsearch = Chroma.from_documents(docs, \n",
    "                                  embeddings ,\n",
    "                                  collection_name=\"nab_testing\",\n",
    "                                  persist_directory=vector_store_directory )\n",
    "                                  \n",
    "print('The collection : {} index includes: {} documents'.format(docsearch._collection,docsearch._collection.count()))"
   ]
  },
  {
   "cell_type": "markdown",
   "metadata": {
    "application/vnd.databricks.v1+cell": {
     "cellMetadata": {},
     "inputWidgets": {},
     "nuid": "8172753d-eec1-4357-aea3-76c83e9cee2b",
     "showTitle": false,
     "title": ""
    }
   },
   "source": [
    "## Similarity search result from Chroma DB"
   ]
  },
  {
   "cell_type": "markdown",
   "metadata": {
    "application/vnd.databricks.v1+cell": {
     "cellMetadata": {},
     "inputWidgets": {},
     "nuid": "93ce555d-2d5b-4fa6-9f3d-ba60098d7f74",
     "showTitle": false,
     "title": ""
    }
   },
   "source": [
    "#### File = 'parsed_capital-gains-tax.txt'"
   ]
  },
  {
   "cell_type": "code",
   "execution_count": 0,
   "metadata": {
    "application/vnd.databricks.v1+cell": {
     "cellMetadata": {
      "byteLimit": 2048000,
      "rowLimit": 10000
     },
     "inputWidgets": {},
     "nuid": "5987e745-0481-4e33-b95d-744b4f445964",
     "showTitle": false,
     "title": ""
    }
   },
   "outputs": [
    {
     "output_type": "stream",
     "name": "stdout",
     "output_type": "stream",
     "text": [
      "Calculating and paying capital gains tax -  .  Notification: NAB Mobile Banking app  ​Calculating and paying capital gains tax ​Calculating and paying capital gains tax Don’t be put off – here’s a quick guide to help you understand capital gains tax. Understanding capital gains and tax A capital gain or loss is the difference between what you paid for an asset and what you sold it for. This takes into account any incidental costs on the purchase and sale. So, if you sell an asset for more than you paid for it, that’s a capital gain. And if you sell it for less, that is considered a capital loss. Capital gains tax applies to capital gains made when you dispose of any asset, except for specific exemptions (the most common exemption being the family home). Being organised is key when trying to quickly calculate and pay capital gains tax\n"
     ]
    }
   ],
   "source": [
    "#Validation of vector indexing \n",
    "query = \"what is capital gain tax?\"\n",
    "\n",
    "query_result = docsearch.similarity_search(query)\n",
    "print(query_result[0].page_content)\n",
    "# [i.page_content for i in query_result ]"
   ]
  },
  {
   "cell_type": "code",
   "execution_count": 0,
   "metadata": {
    "application/vnd.databricks.v1+cell": {
     "cellMetadata": {
      "byteLimit": 2048000,
      "rowLimit": 10000
     },
     "inputWidgets": {},
     "nuid": "c3af42d9-3840-4ae8-aeba-4acb9e4b45ea",
     "showTitle": false,
     "title": ""
    }
   },
   "outputs": [
    {
     "output_type": "stream",
     "name": "stdout",
     "output_type": "stream",
     "text": [
      "Being organised is key when trying to quickly calculate and pay capital gains tax. And a good way to be organised is to keep up to date records by holding on to things like: initial sale contracts and other receipts for other expenses interest paid on related borrowings receipts for ongoing expenses expense records valuations. Deciding how to calculate capital gains tax There are different ways to calculate your capital gains tax. Capital gains tax discount If you sell or dispose of your capital gains tax assets in less than 12 months you’ll pay the full capital gain. But, you (as an individual) could get a 50% discount on your capital gain (after applying capital losses) for any capital gains tax asset held for over 12 months before you sell it. Indexation You can choose indexation if you acquired your assets before 21 September 1999, and have held it for at least 12 months. This is an alternative option to the discount method\n"
     ]
    }
   ],
   "source": [
    "query = \"how to be organized for capital gain?\"\n",
    "query_result = docsearch.similarity_search(query)\n",
    "print(query_result[0].page_content)\n",
    "# [i.page_content for i in query_result ]"
   ]
  },
  {
   "cell_type": "code",
   "execution_count": 0,
   "metadata": {
    "application/vnd.databricks.v1+cell": {
     "cellMetadata": {
      "byteLimit": 2048000,
      "rowLimit": 10000
     },
     "inputWidgets": {},
     "nuid": "c0c4e9eb-f232-497d-8e44-481f5edb2fc0",
     "showTitle": false,
     "title": ""
    }
   },
   "outputs": [
    {
     "output_type": "stream",
     "name": "stdout",
     "output_type": "stream",
     "text": [
      "Indexation You can choose indexation if you acquired your assets before 21 September 1999, and have held it for at least 12 months. This is an alternative option to the discount method. The indexation method applies a multiplier to account for inflation on the cost base of your asset (up to September 1999). You can choose the indexation method if you’ve carried forward any capital losses for assets held before 1999. Capital loss If you’ve made a capital loss, you can deduct this from your capital gains (that you’ve made from other sources) to reduce the amount of tax. If you don’t have other capital gains (during that income year) you can carry over any capital losses to other income years—something handy for another time. Paying capital gains tax When to pay Although it sounds like it, capital gains tax isn’t a separate tax. Your net capital gains form part of your assessable income in whatever year your capital gains tax happened\n"
     ]
    }
   ],
   "source": [
    "query = \"what is indexation?\"\n",
    "query_result = docsearch.similarity_search(query)\n",
    "print(query_result[0].page_content)"
   ]
  },
  {
   "cell_type": "markdown",
   "metadata": {
    "application/vnd.databricks.v1+cell": {
     "cellMetadata": {},
     "inputWidgets": {},
     "nuid": "345cdff0-67a1-4e8e-bbb5-0155a788ccae",
     "showTitle": false,
     "title": ""
    }
   },
   "source": [
    "#### File = 'parsed_nab-low-rate-card.txt'"
   ]
  },
  {
   "cell_type": "code",
   "execution_count": 0,
   "metadata": {
    "application/vnd.databricks.v1+cell": {
     "cellMetadata": {
      "byteLimit": 2048000,
      "rowLimit": 10000
     },
     "inputWidgets": {},
     "nuid": "bbe04fe3-f1ec-4c96-af13-a02c6a695bc8",
     "showTitle": false,
     "title": ""
    }
   },
   "outputs": [
    {
     "output_type": "stream",
     "name": "stdout",
     "output_type": "stream",
     "text": [
      "Low rate credit card | Balance transfer or cash back offer -  Notification: NAB Mobile Banking app .   NAB Low Rate Credit Card NAB Low Rate Card A simple low interest rate credit card with your choice of offers: get a promotional balance transfer or select our cash back offer. Apply online in 15 minutes and get a response in 60 seconds. Rates and fees Learn more about our standard interest rates and minimum credit limits. Variable purchase rate 12.49% p.a. Interest free days on purchases Up to 55 Annual card fee $59 p.a. Minimum credit limit $1,000 Variable cash advance rate This is the interest rate charged on amounts you withdraw as cash, gambling transactions (including lottery ticket purchases), or transfer from your credit card to another account. 21.74% p.a. Choose one of our available credit card offers Your choice of offers to suit your credit needs, select either our promotional balance transfer offer or our cash back offer. Offer Promotional 0% p.a\n"
     ]
    }
   ],
   "source": [
    "#Quick validation of vector indexing\n",
    "query = \"what is a NAB low rate credit card?\"\n",
    "\n",
    "query_result = docsearch.similarity_search(query)\n",
    "print(query_result[0].page_content)"
   ]
  },
  {
   "cell_type": "code",
   "execution_count": 0,
   "metadata": {
    "application/vnd.databricks.v1+cell": {
     "cellMetadata": {
      "byteLimit": 2048000,
      "rowLimit": 10000
     },
     "inputWidgets": {},
     "nuid": "111922f7-b609-417d-82a8-e771f13fa599",
     "showTitle": false,
     "title": ""
    }
   },
   "outputs": [
    {
     "output_type": "stream",
     "name": "stdout",
     "output_type": "stream",
     "text": [
      "a. Choose one of our available credit card offers Your choice of offers to suit your credit needs, select either our promotional balance transfer offer or our cash back offer. Offer Promotional 0% p.a. balance transfer (BT) for 32 months with no BT fee Take advantage of our balance transfer offer to help pay off your existing credit card balance/s sooner. Available on new NAB Low Rate credit card. This could help you to consolidate your debt and reduce the amount of interest you pay on it. Try using our to see how much you could save. Enjoy no annual fee for the first year (usually $59). No balance transfer fee applies. Unpaid BT reverts to the variable cash advance rate after 32 months. Minimum monthly repayments required. NAB may vary or end this offer at any time. See important information. Offer Up to $300 cash back Looking for a credit card that not only offers a low interest rate but provides up to $300 cash back? Available on a new NAB Low Rate credit card\n"
     ]
    }
   ],
   "source": [
    "query = \"Is there any promotion running on balance transfer?\"\n",
    "\n",
    "query_result = docsearch.similarity_search(query)\n",
    "print(query_result[0].page_content)"
   ]
  },
  {
   "cell_type": "markdown",
   "metadata": {
    "application/vnd.databricks.v1+cell": {
     "cellMetadata": {},
     "inputWidgets": {},
     "nuid": "ec5592a1-48ee-4695-8f1e-2e70a6240f81",
     "showTitle": false,
     "title": ""
    }
   },
   "source": [
    "#### File = 'parsed_first-debit-card.txt'"
   ]
  },
  {
   "cell_type": "code",
   "execution_count": 0,
   "metadata": {
    "application/vnd.databricks.v1+cell": {
     "cellMetadata": {
      "byteLimit": 2048000,
      "rowLimit": 10000
     },
     "inputWidgets": {},
     "nuid": "36620836-d9d9-41b4-be91-96864e10bca7",
     "showTitle": false,
     "title": ""
    }
   },
   "outputs": [
    {
     "output_type": "stream",
     "name": "stdout",
     "output_type": "stream",
     "text": [
      "The difference between debit cards and credit cards With a debit card, you’re spending your own money. You can only spend what’s in your transaction account. A credit card is a way to borrow money or get ‘credit’ from a bank, which gives you funds up to an agreed limit. You can spend up to that agreed limit, but you have to pay the money back by the due date. If you don’t, you’ll be charged interest and other fees may apply. You must be at least 18 years old and meet other eligibility criteria to apply for a . Security tips When you’re using your debit card in-person or online, follow these tips. Sign the back of your new card as soon as you get it. When setting up your PIN, don’t use numbers that are easy to guess, like your birthday . Never write down or share your PIN with anyone. This also applies to your passwords for internet banking and your devices used to make payments, like smartphones and wearables\n"
     ]
    }
   ],
   "source": [
    "#Second query with a right question and evaluate if the right paragraph is returned \n",
    "query = \"what is the difference between a credit card and a debit card ? \"\n",
    "\n",
    "query_result = docsearch.similarity_search(query)\n",
    "print(query_result[0].page_content)"
   ]
  },
  {
   "cell_type": "code",
   "execution_count": 0,
   "metadata": {
    "application/vnd.databricks.v1+cell": {
     "cellMetadata": {
      "byteLimit": 2048000,
      "rowLimit": 10000
     },
     "inputWidgets": {},
     "nuid": "ec68b515-2315-4a4f-9f4f-cf6a3609dcd0",
     "showTitle": false,
     "title": ""
    }
   },
   "outputs": [
    {
     "output_type": "stream",
     "name": "stdout",
     "output_type": "stream",
     "text": [
      "Never write down or share your PIN with anyone. This also applies to your passwords for internet banking and your devices used to make payments, like smartphones and wearables. Don’t let other people use your card and treat your device like your wallet – always keep it close. Always cover the keypad on an ATM or EFTPOS machine when entering your PIN Keep your receipts and regularly check your transactions in the NAB app to make sure you’re being charged correctly. Using your NAB Visa Debit card safely online You can shop online with your NAB Visa Debit card by entering the card number, expiry date and CVV. Always be careful when entering your card details online. Read the fine print and make sure you’re not accidentally signing up for subscriptions or future payments. If you’re shopping on overseas websites, be aware you may be charged an . Learn more about how to\n"
     ]
    }
   ],
   "source": [
    "#Second query with a right question and evaluate if the right paragraph is returned \n",
    "query = \"Give me some suggestions on how i protect my password or PIN\"\n",
    "\n",
    "query_result = docsearch.similarity_search(query)\n",
    "print(query_result[0].page_content)"
   ]
  },
  {
   "cell_type": "markdown",
   "metadata": {
    "application/vnd.databricks.v1+cell": {
     "cellMetadata": {},
     "inputWidgets": {},
     "nuid": "da633507-9453-4ee2-acf3-46a86fe5bac4",
     "showTitle": false,
     "title": ""
    }
   },
   "source": [
    "## Merge with LLM (Retrieval QA)\n",
    "\n",
    "#### Model = open-llama-7B-v2-open-instruct-GGML"
   ]
  },
  {
   "cell_type": "code",
   "execution_count": 0,
   "metadata": {
    "application/vnd.databricks.v1+cell": {
     "cellMetadata": {
      "byteLimit": 2048000,
      "rowLimit": 10000
     },
     "inputWidgets": {},
     "nuid": "2a3352e5-4c3a-4743-ae7d-3695851a69fa",
     "showTitle": false,
     "title": ""
    }
   },
   "outputs": [
    {
     "output_type": "display_data",
     "data": {
      "application/vnd.jupyter.widget-view+json": {
       "model_id": "2d40e52503134dfabc81038f4c73497b",
       "version_major": 2,
       "version_minor": 0
      },
      "text/plain": [
       "Fetching 0 files: 0it [00:00, ?it/s]"
      ]
     },
     "metadata": {},
     "output_type": "display_data"
    },
    {
     "output_type": "display_data",
     "data": {
      "application/vnd.jupyter.widget-view+json": {
       "model_id": "1030a2d0c87a4464b6cd9325a78155bb",
       "version_major": 2,
       "version_minor": 0
      },
      "text/plain": [
       "Fetching 1 files:   0%|          | 0/1 [00:00<?, ?it/s]"
      ]
     },
     "metadata": {},
     "output_type": "display_data"
    }
   ],
   "source": [
    "from ctransformers.langchain import CTransformers\n",
    "llm_model = CTransformers(model='TheBloke/open-llama-7B-v2-open-instruct-GGML',\n",
    "                          model_type='llama')"
   ]
  },
  {
   "cell_type": "code",
   "execution_count": 0,
   "metadata": {
    "application/vnd.databricks.v1+cell": {
     "cellMetadata": {
      "byteLimit": 2048000,
      "rowLimit": 10000
     },
     "inputWidgets": {},
     "nuid": "92f4f60e-be16-4a09-8bb0-8aa868f50006",
     "showTitle": false,
     "title": ""
    }
   },
   "outputs": [],
   "source": [
    "# We need to add a search key here\n",
    "# k affects the number of documents retrieved.\n",
    "### NOTE a document is not document in the human sense but a chunk from the `CharacterTextSplitter`\n",
    "qa = RetrievalQA.from_chain_type(llm=llm_model, chain_type=\"stuff\", \n",
    "                                 retriever=docsearch.as_retriever(search_kwargs={\"k\": 2}))"
   ]
  },
  {
   "cell_type": "code",
   "execution_count": 0,
   "metadata": {
    "application/vnd.databricks.v1+cell": {
     "cellMetadata": {
      "byteLimit": 2048000,
      "rowLimit": 10000
     },
     "inputWidgets": {},
     "nuid": "63c2c2ca-dea2-4897-9809-96c9adc1675c",
     "showTitle": false,
     "title": ""
    }
   },
   "outputs": [],
   "source": [
    "# Query 1: Based on first-debit-card file\n",
    "query = \"Give me some suggestions on how i protect my password or PIN ? \"\n",
    "qa.run(query)"
   ]
  },
  {
   "cell_type": "code",
   "execution_count": 0,
   "metadata": {
    "application/vnd.databricks.v1+cell": {
     "cellMetadata": {
      "byteLimit": 2048000,
      "rowLimit": 10000
     },
     "inputWidgets": {},
     "nuid": "be14ce0c-6887-4558-9bb4-f0f1cf7224f4",
     "showTitle": false,
     "title": ""
    }
   },
   "outputs": [
    {
     "output_type": "execute_result",
     "data": {
      "text/plain": [
       "\"How do not needed - debit cards and Tips How to Use the difference between debit card tips The pieces you need more advice Not all pieces You should I have you’s When using internet banking apps: I amznNABOften it is a debit card or Link:How can help: NABOften people don's If your question:I am I don’s\\nThe first questionWhat do not needed for the difference between debit cards and Tips and tips to my question: How to use the NABSure tips on Using debit cards are ready when it is a debit card?\""
      ]
     },
     "execution_count": 19,
     "metadata": {},
     "output_type": "execute_result"
    }
   ],
   "source": [
    "# Query 2 : Based on  first-debit-card file\n",
    "query = \"\"\"Provide me some suggestions on how i can apply for a NAB Debit card ?\n",
    "           I am a first time account holder of any bank.\"\"\"\n",
    "qa.run(query)"
   ]
  },
  {
   "cell_type": "code",
   "execution_count": 0,
   "metadata": {
    "application/vnd.databricks.v1+cell": {
     "cellMetadata": {},
     "inputWidgets": {},
     "nuid": "ce753e99-9b80-4695-aa34-ceb54173a429",
     "showTitle": false,
     "title": ""
    }
   },
   "outputs": [],
   "source": [
    "# Query 3: Based on the parsed_capital-gains-tax file \n",
    "query = \"Briefly mention what is indexation ? \"\n",
    "qa.run(query)"
   ]
  },
  {
   "cell_type": "code",
   "execution_count": 0,
   "metadata": {
    "application/vnd.databricks.v1+cell": {
     "cellMetadata": {
      "byteLimit": 2048000,
      "rowLimit": 10000
     },
     "inputWidgets": {},
     "nuid": "e16702df-0eab-4ed7-abe9-94440cb94f4d",
     "showTitle": false,
     "title": ""
    }
   },
   "outputs": [
    {
     "output_type": "execute_result",
     "data": {
      "text/plain": [
       "'Low rate 1. Please type of Low rate (NABNABNABNABNABNABNABNABNABNABNABNABNABNABNABNABNABNABNABNABNABOral NABNABNABNABNABNAB Low Rate\\nNABNABNABNABNABNABNABNABOry'"
      ]
     },
     "execution_count": 13,
     "metadata": {},
     "output_type": "execute_result"
    }
   ],
   "source": [
    "# Query 3: Based on NAB low rate credit card \n",
    "query = \"what is a NAB low rate credit card ? \"\n",
    "qa.run(query)"
   ]
  }
 ],
 "metadata": {
  "application/vnd.databricks.v1+notebook": {
   "dashboards": [],
   "language": "python",
   "notebookMetadata": {
    "pythonIndentUnit": 2
   },
   "notebookName": "NAB_Single_File_Vector_Search",
   "widgets": {}
  }
 },
 "nbformat": 4,
 "nbformat_minor": 0
}
